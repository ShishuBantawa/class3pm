{
 "cells": [
  {
   "cell_type": "code",
   "execution_count": null,
   "id": "6bef60f7",
   "metadata": {},
   "outputs": [],
   "source": [
    "# List contd..\n",
    "# append() insert() extend()"
   ]
  },
  {
   "cell_type": "code",
   "execution_count": 1,
   "id": "18d71b4c",
   "metadata": {},
   "outputs": [
    {
     "name": "stdout",
     "output_type": "stream",
     "text": [
      "['Apple']\n"
     ]
    }
   ],
   "source": [
    "a = []\n",
    "b = \"Apple\"\n",
    "a.append(b)\n",
    "print(a)"
   ]
  },
  {
   "cell_type": "code",
   "execution_count": 2,
   "id": "101fe596",
   "metadata": {},
   "outputs": [
    {
     "name": "stdout",
     "output_type": "stream",
     "text": [
      "['Apple', 'Apple', 'Ball', 'Cat', 'Dog']\n"
     ]
    }
   ],
   "source": [
    "a = [\"Apple\",\"Ball\",\"Cat\",\"Dog\"]\n",
    "b = \"Apple\"\n",
    "a.insert(1,b)\n",
    "print(a)"
   ]
  },
  {
   "cell_type": "code",
   "execution_count": 3,
   "id": "6c11d68a",
   "metadata": {},
   "outputs": [
    {
     "name": "stdout",
     "output_type": "stream",
     "text": [
      "['Apple', 'Ball', 'Cat', 'Dog', 'Fish', 'Goat']\n"
     ]
    }
   ],
   "source": [
    "a = [\"Apple\",\"Ball\",\"Cat\",\"Dog\"]\n",
    "b = [\"Fish\",\"Goat\"]\n",
    "a.extend(b)\n",
    "print(a)"
   ]
  },
  {
   "cell_type": "code",
   "execution_count": 5,
   "id": "9ea5c0a3",
   "metadata": {},
   "outputs": [
    {
     "name": "stdout",
     "output_type": "stream",
     "text": [
      "Enter n = 2\n",
      "Enter name = Apple\n",
      "Enter name = Ball\n",
      "['Apple', 'Ball']\n"
     ]
    }
   ],
   "source": [
    "# WAP to make a list\n",
    "a = []\n",
    "n = int(input(\"Enter n = \"))\n",
    "for i in range(n):\n",
    "    x = input(\"Enter name = \")\n",
    "    # a = a+[name]\n",
    "    a.append(x)\n",
    "    \n",
    "print(a)"
   ]
  },
  {
   "cell_type": "code",
   "execution_count": 7,
   "id": "25cd87e7",
   "metadata": {},
   "outputs": [
    {
     "name": "stdout",
     "output_type": "stream",
     "text": [
      "0\n"
     ]
    }
   ],
   "source": [
    "# index()\n",
    "a = [\"Apple\",\"Ball\",\"Cat\",\"Dog\",\"Apple\"]\n",
    "print(a.index(\"Apple\"))"
   ]
  },
  {
   "cell_type": "code",
   "execution_count": 9,
   "id": "dbc5fc3e",
   "metadata": {},
   "outputs": [
    {
     "name": "stdout",
     "output_type": "stream",
     "text": [
      "0\n",
      "4\n"
     ]
    }
   ],
   "source": [
    "# index()\n",
    "a = [\"Apple\",\"Ball\",\"Cat\",\"Dog\",\"Apple\"]\n",
    "for i in range(len(a)):\n",
    "    if a[i] == \"Apple\":\n",
    "        print(i)\n"
   ]
  },
  {
   "cell_type": "code",
   "execution_count": null,
   "id": "b58aa5d7",
   "metadata": {},
   "outputs": [],
   "source": [
    "# del remove() pop()"
   ]
  },
  {
   "cell_type": "code",
   "execution_count": 10,
   "id": "8b10a7aa",
   "metadata": {},
   "outputs": [
    {
     "name": "stdout",
     "output_type": "stream",
     "text": [
      "['Ball', 'Cat', 'Dog', 'Apple']\n"
     ]
    }
   ],
   "source": [
    "a = [\"Apple\",\"Ball\",\"Cat\",\"Dog\",\"Apple\"]\n",
    "del a[0]\n",
    "print(a)"
   ]
  },
  {
   "cell_type": "code",
   "execution_count": 11,
   "id": "af9aac6c",
   "metadata": {},
   "outputs": [
    {
     "name": "stdout",
     "output_type": "stream",
     "text": [
      "['Apple']\n"
     ]
    }
   ],
   "source": [
    "a = [\"Apple\",\"Ball\",\"Cat\",\"Dog\",\"Apple\"]\n",
    "del a[0:4]\n",
    "print(a)"
   ]
  },
  {
   "cell_type": "code",
   "execution_count": 12,
   "id": "84b72da2",
   "metadata": {},
   "outputs": [
    {
     "name": "stdout",
     "output_type": "stream",
     "text": [
      "['Apple', 'Cat', 'Dog', 'Apple']\n"
     ]
    }
   ],
   "source": [
    "a = [\"Apple\",\"Ball\",\"Cat\",\"Dog\",\"Apple\"]\n",
    "a.remove(\"Ball\")\n",
    "print(a)"
   ]
  },
  {
   "cell_type": "code",
   "execution_count": 13,
   "id": "77f4ea14",
   "metadata": {},
   "outputs": [
    {
     "name": "stdout",
     "output_type": "stream",
     "text": [
      "['Apple', 'Ball', 'Cat', 'Apple', 'Ball']\n"
     ]
    }
   ],
   "source": [
    "# pop()\n",
    "a = [\"Apple\",\"Ball\",\"Cat\",\"Dog\",\"Apple\",\"Ball\"]\n",
    "a.pop(3)\n",
    "print(a)"
   ]
  },
  {
   "cell_type": "code",
   "execution_count": 14,
   "id": "04362a8b",
   "metadata": {},
   "outputs": [
    {
     "name": "stdout",
     "output_type": "stream",
     "text": [
      "['Apple', 'Ball', 'Cat', 'Dog']\n"
     ]
    }
   ],
   "source": [
    "a = [\"Apple\",\"Ball\",\"Cat\",\"Dog\",\"Apple\"]\n",
    "a.pop()\n",
    "print(a)"
   ]
  },
  {
   "cell_type": "code",
   "execution_count": 17,
   "id": "e8761ae0",
   "metadata": {},
   "outputs": [
    {
     "name": "stdout",
     "output_type": "stream",
     "text": [
      "['Apple', 'Cat', 'Dog', 'Apple', 'Ball']\n"
     ]
    }
   ],
   "source": [
    "a = [\"Apple\",\"Ball\",\"Cat\",\"Dog\",\"Apple\",\"Ball\",\"Ball\"]\n",
    "for i in a:\n",
    "    if i == \"Ball\":\n",
    "        a.remove(\"Ball\")\n",
    "print(a)"
   ]
  },
  {
   "cell_type": "code",
   "execution_count": null,
   "id": "f7f20e38",
   "metadata": {},
   "outputs": [],
   "source": [
    "# update()\n",
    "a = [\"Apple\",\"Ball\",\"Cat\",\"Dog\",\"Apple\",\"Ball\"]"
   ]
  },
  {
   "cell_type": "code",
   "execution_count": 20,
   "id": "6eebc5ea",
   "metadata": {},
   "outputs": [
    {
     "name": "stdout",
     "output_type": "stream",
     "text": [
      "[[1, 2, 3], [4, 5, 6], [7, 8, 9]]\n",
      "[1, 2, 3]\n",
      "1\n",
      "<class 'list'>\n"
     ]
    }
   ],
   "source": [
    "# list inside list\n",
    "a = [[1,2,3],[4,5,6],[7,8,9]]\n",
    "print(a)\n",
    "print(a[0])\n",
    "print(a[0][0])\n",
    "print(type(a))"
   ]
  },
  {
   "cell_type": "code",
   "execution_count": 21,
   "id": "bfc998f1",
   "metadata": {},
   "outputs": [
    {
     "name": "stdout",
     "output_type": "stream",
     "text": [
      "Enter n = 2\n",
      "ENter name = Ram\n",
      "Enter age = 40\n",
      "Enter add = Katm\n",
      "ENter name = Shyam\n",
      "Enter age = 34\n",
      "Enter add = Pokhara\n",
      "[['Ram', '40', 'Katm'], ['Shyam', '34', 'Pokhara']]\n"
     ]
    }
   ],
   "source": [
    "# WAP to make a list\n",
    "a = []\n",
    "n = int(input(\"Enter n = \"))\n",
    "for i in range(n):\n",
    "    name = input(\"Enter name = \")\n",
    "    age = input(\"Enter age = \")\n",
    "    add = input(\"Enter add = \")\n",
    "    a.append([name,age,add])\n",
    "print(a)"
   ]
  },
  {
   "cell_type": "code",
   "execution_count": 22,
   "id": "270013e9",
   "metadata": {},
   "outputs": [
    {
     "name": "stdout",
     "output_type": "stream",
     "text": [
      "['Ram', '40', 'Katm']\n",
      "['Shyam', '34', 'Pokhara']\n"
     ]
    }
   ],
   "source": [
    "a = [['Ram', '40', 'Katm'], ['Shyam', '34', 'Pokhara']]\n",
    "for i in a:\n",
    "    print(i)"
   ]
  },
  {
   "cell_type": "code",
   "execution_count": 23,
   "id": "234f1668",
   "metadata": {},
   "outputs": [
    {
     "name": "stdout",
     "output_type": "stream",
     "text": [
      "Enter name = Ram\n",
      "['Ram', '40', 'Katm']\n"
     ]
    }
   ],
   "source": [
    "a = [['Ram', '40', 'Katm'], ['Shyam', '34', 'Pokhara']]\n",
    "name = input(\"Enter name = \")\n",
    "for i in a:\n",
    "    if name in i:\n",
    "        print(i)\n"
   ]
  },
  {
   "cell_type": "code",
   "execution_count": 1,
   "id": "976fb4c7",
   "metadata": {},
   "outputs": [
    {
     "name": "stdout",
     "output_type": "stream",
     "text": [
      "Enter name = SHYAM\n",
      "['Shyam', '34', 'Pokhara']\n"
     ]
    }
   ],
   "source": [
    "a = [['Ram', '40', 'Katm'], ['Shyam', '34', 'Pokhara']]\n",
    "name = input(\"Enter name = \").lower()\n",
    "for i in a:\n",
    "    for j in i:\n",
    "        if j.lower() == name:\n",
    "            print(i)            "
   ]
  },
  {
   "cell_type": "code",
   "execution_count": 2,
   "id": "fc5e33f1",
   "metadata": {},
   "outputs": [
    {
     "name": "stdout",
     "output_type": "stream",
     "text": [
      "[0]\n"
     ]
    }
   ],
   "source": [
    "name = \"Ram\"\n",
    "index = []\n",
    "a = [['Ram', '40', 'Katm'], ['Shyam', '34', 'Pokhara']]\n",
    "for i in range(len(a)):\n",
    "    if name in a[i]:\n",
    "        index.append(i)\n",
    "\n",
    "print(index)"
   ]
  },
  {
   "cell_type": "code",
   "execution_count": 5,
   "id": "ab99463d",
   "metadata": {},
   "outputs": [
    {
     "name": "stdout",
     "output_type": "stream",
     "text": [
      "[['Rama', '40', 'Katm'], ['Sita', '34', 'Pokhara']]\n"
     ]
    }
   ],
   "source": [
    "# update\n",
    "a = [['Ram', '40', 'Katm'], ['Shyam', '34', 'Pokhara']]\n",
    "a[0][0] = \"Rama\"\n",
    "a[1][0] = \"Sita\"\n",
    "print(a)"
   ]
  },
  {
   "cell_type": "code",
   "execution_count": null,
   "id": "c1f8ff10",
   "metadata": {},
   "outputs": [],
   "source": [
    "# WAP for a matrix input\n",
    "# WAP for a billing application"
   ]
  },
  {
   "cell_type": "code",
   "execution_count": null,
   "id": "ab1494c8",
   "metadata": {},
   "outputs": [],
   "source": [
    "qty = int(input(\"Enter qty = \"))\n",
    "item = input(\"Item = \")\n",
    "price = int(input(\"price = \"))"
   ]
  }
 ],
 "metadata": {
  "kernelspec": {
   "display_name": "Python 3",
   "language": "python",
   "name": "python3"
  },
  "language_info": {
   "codemirror_mode": {
    "name": "ipython",
    "version": 3
   },
   "file_extension": ".py",
   "mimetype": "text/x-python",
   "name": "python",
   "nbconvert_exporter": "python",
   "pygments_lexer": "ipython3",
   "version": "3.8.8"
  }
 },
 "nbformat": 4,
 "nbformat_minor": 5
}
