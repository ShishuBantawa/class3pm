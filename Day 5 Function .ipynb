{
 "cells": [
  {
   "cell_type": "code",
   "execution_count": null,
   "id": "019c8865",
   "metadata": {},
   "outputs": [],
   "source": [
    "# function"
   ]
  },
  {
   "cell_type": "code",
   "execution_count": null,
   "id": "f77b8521",
   "metadata": {},
   "outputs": [],
   "source": [
    "# predefined function\n",
    "# print()\n",
    "# type()\n",
    "# input()\n",
    "# int()\n",
    "# float()\n",
    "# str()"
   ]
  },
  {
   "cell_type": "code",
   "execution_count": null,
   "id": "4c418445",
   "metadata": {},
   "outputs": [],
   "source": [
    "# user defined function\n",
    "# def <function_name>():\n",
    "#     <operations>\n",
    "\n",
    "# <function_name>()"
   ]
  },
  {
   "cell_type": "code",
   "execution_count": 1,
   "id": "510338fd",
   "metadata": {},
   "outputs": [
    {
     "name": "stdout",
     "output_type": "stream",
     "text": [
      "Hello World\n"
     ]
    }
   ],
   "source": [
    "def hello():\n",
    "    print(\"Hello World\")\n",
    "\n",
    "hello()"
   ]
  },
  {
   "cell_type": "code",
   "execution_count": 3,
   "id": "5fd6a1ba",
   "metadata": {},
   "outputs": [
    {
     "name": "stdout",
     "output_type": "stream",
     "text": [
      "Enter l = 10\n",
      "Enter b = 2\n",
      "Enter h = 4\n",
      "The area is =  20\n",
      "The volume is =  40\n"
     ]
    }
   ],
   "source": [
    "def cal():\n",
    "    l = int(input(\"Enter l = \"))    # local variable\n",
    "    b = int(input(\"Enter b = \"))\n",
    "    h = int(input(\"Enter h = \"))\n",
    "    a = l*b\n",
    "    v = a*b\n",
    "    print(\"The area is = \",a)\n",
    "    print(\"The volume is = \",v)\n",
    "    \n",
    "cal()"
   ]
  },
  {
   "cell_type": "code",
   "execution_count": 5,
   "id": "445842f0",
   "metadata": {},
   "outputs": [
    {
     "name": "stdout",
     "output_type": "stream",
     "text": [
      "Enter l = 15\n",
      "Enter b = 2\n",
      "Enter h = 4\n",
      "The area is =  30\n",
      "The volume is =  60\n",
      "15\n",
      "30\n"
     ]
    }
   ],
   "source": [
    "l = int(input(\"Enter l = \"))    # global variable\n",
    "b = int(input(\"Enter b = \"))\n",
    "h = int(input(\"Enter h = \"))\n",
    "\n",
    "def cal():\n",
    "    global a                 # making variable global \n",
    "    a = l*b\n",
    "    v = a*b\n",
    "    print(\"The area is = \",a)\n",
    "    print(\"The volume is = \",v)\n",
    "    \n",
    "cal()\n",
    "print(l)\n",
    "print(a)"
   ]
  },
  {
   "cell_type": "code",
   "execution_count": 6,
   "id": "30a0e62d",
   "metadata": {},
   "outputs": [
    {
     "name": "stdout",
     "output_type": "stream",
     "text": [
      "50\n"
     ]
    }
   ],
   "source": [
    "# argument and parameter\n",
    "\n",
    "def cal(l,b):      # parameter\n",
    "    a = l*b\n",
    "    print(a)\n",
    "\n",
    "cal(10,5)          # argument"
   ]
  },
  {
   "cell_type": "code",
   "execution_count": 7,
   "id": "167de53e",
   "metadata": {},
   "outputs": [
    {
     "name": "stdout",
     "output_type": "stream",
     "text": [
      "Enter l = 10\n",
      "Enter b = 2\n",
      "Enter h = 4\n",
      "The area is =  20\n",
      "The volume is =  80\n"
     ]
    }
   ],
   "source": [
    "def cal(x,y,z):                  \n",
    "    a = x*y\n",
    "    v = a*z\n",
    "    print(\"The area is = \",a)\n",
    "    print(\"The volume is = \",v)\n",
    "    \n",
    "l = int(input(\"Enter l = \"))    \n",
    "b = int(input(\"Enter b = \"))\n",
    "h = int(input(\"Enter h = \"))\n",
    "cal(l,b,h)\n"
   ]
  },
  {
   "cell_type": "code",
   "execution_count": 8,
   "id": "03243054",
   "metadata": {},
   "outputs": [
    {
     "name": "stdout",
     "output_type": "stream",
     "text": [
      "Java\n",
      "C++\n",
      "C\n",
      "Python\n"
     ]
    }
   ],
   "source": [
    "def language(x = \"Python\"):\n",
    "    print(x)\n",
    "    \n",
    "language(\"Java\")\n",
    "language(\"C++\")\n",
    "language(\"C\")\n",
    "language() "
   ]
  },
  {
   "cell_type": "code",
   "execution_count": null,
   "id": "8363aae8",
   "metadata": {},
   "outputs": [],
   "source": [
    "# return type"
   ]
  },
  {
   "cell_type": "code",
   "execution_count": 9,
   "id": "06bb510c",
   "metadata": {},
   "outputs": [
    {
     "name": "stdout",
     "output_type": "stream",
     "text": [
      "Hello World\n"
     ]
    }
   ],
   "source": [
    "def hello():\n",
    "    return \"Hello World\"\n",
    "\n",
    "print(hello())"
   ]
  },
  {
   "cell_type": "code",
   "execution_count": 10,
   "id": "e7ea1796",
   "metadata": {},
   "outputs": [
    {
     "name": "stdout",
     "output_type": "stream",
     "text": [
      "Hello World\n"
     ]
    }
   ],
   "source": [
    "def hello():\n",
    "    return \"Hello World\"\n",
    "\n",
    "x = hello()\n",
    "print(x)"
   ]
  },
  {
   "cell_type": "code",
   "execution_count": 14,
   "id": "af8beb57",
   "metadata": {},
   "outputs": [
    {
     "name": "stdout",
     "output_type": "stream",
     "text": [
      "50\n",
      "100\n"
     ]
    }
   ],
   "source": [
    "def cal(l,b):\n",
    "    a = l*b\n",
    "    return a\n",
    "\n",
    "l = 10\n",
    "b = 5\n",
    "h = 2\n",
    "area = cal(l,b)\n",
    "volume = area*h\n",
    "print(area)\n",
    "print(volume)"
   ]
  },
  {
   "cell_type": "code",
   "execution_count": 15,
   "id": "705b3f73",
   "metadata": {},
   "outputs": [
    {
     "name": "stdout",
     "output_type": "stream",
     "text": [
      "(50, 100)\n"
     ]
    }
   ],
   "source": [
    "def cal(l,b,h):\n",
    "    a = l*b\n",
    "    v = a*h\n",
    "    return a,v\n",
    "\n",
    "l = 10\n",
    "b = 5\n",
    "h = 2\n",
    "print(cal(l,b,h))"
   ]
  },
  {
   "cell_type": "code",
   "execution_count": 16,
   "id": "11694e4a",
   "metadata": {},
   "outputs": [
    {
     "name": "stdout",
     "output_type": "stream",
     "text": [
      "50\n",
      "100\n"
     ]
    }
   ],
   "source": [
    "def cal(l,b,h):\n",
    "    a = l*b\n",
    "    v = a*h\n",
    "    return a,v\n",
    "\n",
    "l = 10\n",
    "b = 5\n",
    "h = 2\n",
    "area,volume = cal(l,b,h)    # tuple\n",
    "print(area)\n",
    "print(volume)"
   ]
  },
  {
   "cell_type": "code",
   "execution_count": 18,
   "id": "40fed5c6",
   "metadata": {},
   "outputs": [
    {
     "name": "stdout",
     "output_type": "stream",
     "text": [
      "50\n",
      "100\n"
     ]
    }
   ],
   "source": [
    "def cal(z):\n",
    "    l,b,h = z\n",
    "    a = l*b\n",
    "    v = a*h\n",
    "    return a,v\n",
    "\n",
    "l = 10\n",
    "b = 5\n",
    "h = 2\n",
    "z = (l,b,h)\n",
    "area,volume = cal(z)    \n",
    "\n",
    "print(area)\n",
    "print(volume)"
   ]
  },
  {
   "cell_type": "code",
   "execution_count": 20,
   "id": "46e8e9b6",
   "metadata": {},
   "outputs": [
    {
     "name": "stdout",
     "output_type": "stream",
     "text": [
      "100\n",
      "200\n"
     ]
    }
   ],
   "source": [
    "a,b = (100,200)     # tuple \n",
    "print(a)\n",
    "print(b)"
   ]
  }
 ],
 "metadata": {
  "kernelspec": {
   "display_name": "Python 3",
   "language": "python",
   "name": "python3"
  },
  "language_info": {
   "codemirror_mode": {
    "name": "ipython",
    "version": 3
   },
   "file_extension": ".py",
   "mimetype": "text/x-python",
   "name": "python",
   "nbconvert_exporter": "python",
   "pygments_lexer": "ipython3",
   "version": "3.8.8"
  }
 },
 "nbformat": 4,
 "nbformat_minor": 5
}
