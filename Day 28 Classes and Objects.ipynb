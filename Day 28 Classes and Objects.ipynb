{
 "cells": [
  {
   "cell_type": "code",
   "execution_count": 8,
   "id": "9f6c18c6",
   "metadata": {},
   "outputs": [
    {
     "name": "stdout",
     "output_type": "stream",
     "text": [
      "50\n",
      "100\n"
     ]
    }
   ],
   "source": [
    "class Cal:\n",
    "    def __init__(self,l,b):\n",
    "        self.l = l\n",
    "        self.b = b\n",
    "        \n",
    "    def area(self):\n",
    "        a = self.l * self.b\n",
    "        print(a)\n",
    "        \n",
    "class Volume:\n",
    "    def __init__(self,l,b,h):\n",
    "        self.l = l\n",
    "        self.b = b\n",
    "        self.h = h\n",
    "\n",
    "    def volume(self):\n",
    "        v = self.l * self.b * self.h\n",
    "        print(v)\n",
    "                \n",
    "obj = Cal(10,5)\n",
    "obj.area()\n",
    "obj1 = Volume(10,5,2)\n",
    "obj1.volume()"
   ]
  },
  {
   "cell_type": "code",
   "execution_count": 5,
   "id": "30da48f5",
   "metadata": {},
   "outputs": [
    {
     "name": "stdout",
     "output_type": "stream",
     "text": [
      "Enter l = 1\n",
      "Enter b = 2\n",
      "Enter h = 3\n",
      "2\n",
      "6\n",
      "1 2 3\n"
     ]
    },
    {
     "data": {
      "text/plain": [
       "int"
      ]
     },
     "execution_count": 5,
     "metadata": {},
     "output_type": "execute_result"
    }
   ],
   "source": [
    "class Cal:\n",
    "    def __init__(self):\n",
    "        self.l = int(input(\"Enter l = \"))\n",
    "        self.b = int(input(\"Enter b = \"))\n",
    "        self.h = int(input(\"Enter h = \"))\n",
    "        \n",
    "    def area(self):\n",
    "        a = self.l * self.b\n",
    "        print(a)\n",
    "    def volume(self):\n",
    "        v = self.l * self.b * self.h\n",
    "        print(v)\n",
    "                \n",
    "obj = Cal()\n",
    "obj.area()\n",
    "obj.volume()\n",
    "print(obj.l,obj.b,obj.h)\n",
    "type(obj.l)        "
   ]
  },
  {
   "cell_type": "code",
   "execution_count": 19,
   "id": "ea0b90df",
   "metadata": {},
   "outputs": [
    {
     "name": "stdout",
     "output_type": "stream",
     "text": [
      "('Ram', 43, 'Kathmandu')\n"
     ]
    }
   ],
   "source": [
    "# __str__() method\n",
    "\n",
    "class Information:\n",
    "    def __init__(self,name,age,add):\n",
    "        self.name = name\n",
    "        self.age = age\n",
    "        self.add = add\n",
    "        \n",
    "    def __str__(self):\n",
    "        return self.name, self.age, self.add\n",
    "    \n",
    "obj = Information('Ram',43,'Kathmandu')\n",
    "#print(type(obj))\n",
    "#print(obj)\n",
    "print(obj.__str__())"
   ]
  },
  {
   "cell_type": "code",
   "execution_count": 16,
   "id": "9ca09d04",
   "metadata": {},
   "outputs": [
    {
     "name": "stdout",
     "output_type": "stream",
     "text": [
      "{'Name': 'Ram', 'Age': 43, 'Address': 'Kathmandu'}\n"
     ]
    }
   ],
   "source": [
    "# __repr__() method\n",
    "\n",
    "class Information:\n",
    "    def __init__(self,name,age,add):\n",
    "        self.name = name\n",
    "        self.age = age\n",
    "        self.add = add\n",
    "        \n",
    "    def __repr__(self):\n",
    "        return {'Name':self.name, 'Age':self.age, 'Address':self.add}   #dictionary\n",
    "    \n",
    "obj = Information('Ram',43,'Kathmandu')\n",
    "\n",
    "print(obj.__repr__())"
   ]
  },
  {
   "cell_type": "code",
   "execution_count": 24,
   "id": "a68ad486",
   "metadata": {},
   "outputs": [
    {
     "name": "stdout",
     "output_type": "stream",
     "text": [
      "1 5\n",
      "5 11\n",
      "<class '__main__.Point'>\n"
     ]
    }
   ],
   "source": [
    "# Operator Overloading\n",
    "class Point:\n",
    "    def __init__(self, x=0, y=0):\n",
    "        self.x = x\n",
    "        self.y = y\n",
    "        \n",
    "    def __str__(self):\n",
    "        return f\"{self.x} {self.y}\"\n",
    "    \n",
    "    def __add__(self,other):\n",
    "        x = self.x + other.x\n",
    "        y = self.y + other.y\n",
    "        return Point(x,y)\n",
    "    \n",
    "#adding to 2 objects p1,p2\n",
    "p1 = Point(2,3)   #self\n",
    "p2 = Point(-1,2)  #other\n",
    "p3 = Point(4,6)   \n",
    "p = p1+p2+p3\n",
    "print(p1 + p2)\n",
    "print(p1 + p2 + p3)\n",
    "print(type(p))"
   ]
  },
  {
   "cell_type": "code",
   "execution_count": 26,
   "id": "2a31057a",
   "metadata": {},
   "outputs": [
    {
     "name": "stdout",
     "output_type": "stream",
     "text": [
      "1000\n",
      "1500\n",
      "2000\n",
      "2500\n",
      "2500\n",
      "4500\n",
      "4500\n",
      "4500\n",
      "<class '__main__.Point'>\n"
     ]
    }
   ],
   "source": [
    "class Point:\n",
    "    def __init__(self, x=0):\n",
    "        self.x = x\n",
    "        \n",
    "        print(self.x)\n",
    "        \n",
    "    def __str__(self):\n",
    "        return f\"{self.x}\"\n",
    "    \n",
    "    def __add__(self,other):\n",
    "        x = self.x + other.x\n",
    "        \n",
    "        print(x)\n",
    "        return Point(x)\n",
    "    \n",
    "p1 = Point(1000)   #self\n",
    "p2 = Point(1500)  #other\n",
    "p3 = Point(2000)   \n",
    "p = p1+p2+p3\n",
    "print(p)\n",
    "print(type(p))"
   ]
  },
  {
   "cell_type": "code",
   "execution_count": null,
   "id": "8ada3b1b",
   "metadata": {},
   "outputs": [],
   "source": []
  }
 ],
 "metadata": {
  "kernelspec": {
   "display_name": "Python 3",
   "language": "python",
   "name": "python3"
  },
  "language_info": {
   "codemirror_mode": {
    "name": "ipython",
    "version": 3
   },
   "file_extension": ".py",
   "mimetype": "text/x-python",
   "name": "python",
   "nbconvert_exporter": "python",
   "pygments_lexer": "ipython3",
   "version": "3.8.8"
  }
 },
 "nbformat": 4,
 "nbformat_minor": 5
}
