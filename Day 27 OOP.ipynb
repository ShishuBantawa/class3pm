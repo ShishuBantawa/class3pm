{
 "cells": [
  {
   "cell_type": "code",
   "execution_count": null,
   "id": "cad261d1",
   "metadata": {},
   "outputs": [],
   "source": [
    "class Python:\n",
    "    pass\n",
    "\n",
    "obj = Python()"
   ]
  },
  {
   "cell_type": "code",
   "execution_count": 1,
   "id": "1529c5f6",
   "metadata": {},
   "outputs": [
    {
     "name": "stdout",
     "output_type": "stream",
     "text": [
      "Hello World\n"
     ]
    }
   ],
   "source": [
    "class Python:              #class\n",
    "    print(\"Hello World\")\n",
    "\n",
    "obj = Python()             #object"
   ]
  },
  {
   "cell_type": "code",
   "execution_count": 3,
   "id": "b7cac366",
   "metadata": {},
   "outputs": [],
   "source": [
    "class Python:                    #class\n",
    "    def hello():                 #method\n",
    "        print(\"Hello World\")\n",
    "\n",
    "obj = Python()                   #object  "
   ]
  },
  {
   "cell_type": "code",
   "execution_count": 4,
   "id": "a99e9451",
   "metadata": {},
   "outputs": [
    {
     "name": "stdout",
     "output_type": "stream",
     "text": [
      "Hello World\n"
     ]
    }
   ],
   "source": [
    "class Python:                    #class\n",
    "    def hello(self):                 #method. Can be written as anything like 'This'\n",
    "        print(\"Hello World\")\n",
    "\n",
    "obj = Python()  \n",
    "obj.hello()"
   ]
  },
  {
   "cell_type": "code",
   "execution_count": 5,
   "id": "2b85d2b5",
   "metadata": {},
   "outputs": [
    {
     "name": "stdout",
     "output_type": "stream",
     "text": [
      "Hello World\n"
     ]
    }
   ],
   "source": [
    "class Python:\n",
    "    @staticmethod                #static method \n",
    "    def hello():                 \n",
    "        print(\"Hello World\")\n",
    "\n",
    "obj = Python()  \n",
    "obj.hello()"
   ]
  },
  {
   "cell_type": "code",
   "execution_count": 6,
   "id": "c5beb834",
   "metadata": {},
   "outputs": [
    {
     "name": "stdout",
     "output_type": "stream",
     "text": [
      "Hello World I am Python\n"
     ]
    }
   ],
   "source": [
    "class Python:                \n",
    "    def hello(self, language):                 \n",
    "        print(\"Hello World I am\", language)\n",
    "\n",
    "obj = Python()  \n",
    "obj.hello(\"Python\")"
   ]
  },
  {
   "cell_type": "code",
   "execution_count": 7,
   "id": "556bc3db",
   "metadata": {},
   "outputs": [
    {
     "name": "stdout",
     "output_type": "stream",
     "text": [
      "30\n",
      "60\n"
     ]
    }
   ],
   "source": [
    "class Cal:\n",
    "    def area(self,l,b):\n",
    "        a = l*b\n",
    "        print(a)\n",
    "        \n",
    "    def volume(self,l,b,h):\n",
    "        v = l*b*h\n",
    "        print(v)\n",
    "        \n",
    "obj = Cal()\n",
    "obj.area(10,3)\n",
    "obj.volume(3,4,5)"
   ]
  },
  {
   "cell_type": "code",
   "execution_count": 8,
   "id": "3cd79afc",
   "metadata": {},
   "outputs": [
    {
     "name": "stdout",
     "output_type": "stream",
     "text": [
      "30\n",
      "60\n"
     ]
    }
   ],
   "source": [
    "#Two different classes\n",
    "class Cal:\n",
    "    def area(self,l,b):\n",
    "        a = l*b\n",
    "        print(a)\n",
    "\n",
    "class Volume:\n",
    "    def volume(self,l,b,h):\n",
    "        v = l*b*h\n",
    "        print(v)\n",
    "        \n",
    "obj1 = Cal()\n",
    "obj2 = Volume()\n",
    "obj1.area(10,3)\n",
    "obj2.volume(3,4,5)\n"
   ]
  },
  {
   "cell_type": "code",
   "execution_count": null,
   "id": "c7539816",
   "metadata": {},
   "outputs": [],
   "source": [
    "# Important\n",
    "# init method\n",
    "class Area:\n",
    "    def __init__(self):\n",
    "        pass\n",
    "    \n",
    "obj = Area()"
   ]
  },
  {
   "cell_type": "code",
   "execution_count": 9,
   "id": "f50f45b0",
   "metadata": {},
   "outputs": [
    {
     "name": "stdout",
     "output_type": "stream",
     "text": [
      "50\n"
     ]
    }
   ],
   "source": [
    "# Important\n",
    "class Area:\n",
    "    def __init__(self,l,b):\n",
    "        self.l = l\n",
    "        self.b = b\n",
    "        \n",
    "    def area(self):\n",
    "        a = self.l * self.b\n",
    "        print(a)\n",
    "                \n",
    "obj = Area(10,5)\n",
    "obj.area()"
   ]
  },
  {
   "cell_type": "code",
   "execution_count": 12,
   "id": "c5b3bc39",
   "metadata": {},
   "outputs": [
    {
     "name": "stdout",
     "output_type": "stream",
     "text": [
      "50\n",
      "150\n"
     ]
    }
   ],
   "source": [
    "class Cal:\n",
    "    def __init__(self,l,b,h):\n",
    "        self.l = l\n",
    "        self.b = b\n",
    "        self.h = h\n",
    "        \n",
    "    def area(self):\n",
    "        a = self.l * self.b\n",
    "        print(a)\n",
    "    def volume(self):\n",
    "        v = self.l * self.b * self.h\n",
    "        print(v)\n",
    "                \n",
    "obj = Cal(10,5,3)\n",
    "obj.area()\n",
    "obj.volume()"
   ]
  },
  {
   "cell_type": "code",
   "execution_count": 15,
   "id": "ba3f23ea",
   "metadata": {},
   "outputs": [
    {
     "name": "stdout",
     "output_type": "stream",
     "text": [
      "50\n",
      "100\n"
     ]
    }
   ],
   "source": [
    "class Cal:\n",
    "    def __init__(self,l,b):\n",
    "        self.l = l\n",
    "        self.b = b\n",
    "        \n",
    "    def area(self):\n",
    "        a = self.l * self.b\n",
    "        print(a)\n",
    "    def volume(self,h):\n",
    "        v = self.l * self.b * h\n",
    "        print(v)\n",
    "                \n",
    "obj = Cal(10,5)\n",
    "obj.area()\n",
    "obj.volume(2)"
   ]
  },
  {
   "cell_type": "code",
   "execution_count": null,
   "id": "620760b4",
   "metadata": {},
   "outputs": [],
   "source": []
  }
 ],
 "metadata": {
  "kernelspec": {
   "display_name": "Python 3",
   "language": "python",
   "name": "python3"
  },
  "language_info": {
   "codemirror_mode": {
    "name": "ipython",
    "version": 3
   },
   "file_extension": ".py",
   "mimetype": "text/x-python",
   "name": "python",
   "nbconvert_exporter": "python",
   "pygments_lexer": "ipython3",
   "version": "3.8.8"
  }
 },
 "nbformat": 4,
 "nbformat_minor": 5
}
