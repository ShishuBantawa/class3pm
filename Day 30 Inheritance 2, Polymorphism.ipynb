{
 "cells": [
  {
   "cell_type": "code",
   "execution_count": 1,
   "id": "d1f0166d",
   "metadata": {},
   "outputs": [
    {
     "name": "stdout",
     "output_type": "stream",
     "text": [
      "Ram\n",
      "22\n",
      "Kathmandu\n"
     ]
    }
   ],
   "source": [
    "# Public, Protected, Private attributes\n",
    "# Public properties\n",
    "class Info:\n",
    "    def __init__(self,name,age,add):\n",
    "        self.name = name\n",
    "        self.age = age\n",
    "        self.add = add\n",
    "        \n",
    "\n",
    "obj = Info(\"Ram\",22,\"Kathmandu\")\n",
    "print(obj.name)\n",
    "print(obj.age)\n",
    "print(obj.add)"
   ]
  },
  {
   "cell_type": "code",
   "execution_count": 3,
   "id": "11aef8f3",
   "metadata": {},
   "outputs": [
    {
     "name": "stdout",
     "output_type": "stream",
     "text": [
      "Ram\n",
      "22\n",
      "Kathmandu\n"
     ]
    }
   ],
   "source": [
    "# Protected properties\n",
    "class Info:\n",
    "    def __init__(self,name,age,add):\n",
    "        self._name = name           # ._name is not a variable name. It means protected\n",
    "        self._age = age\n",
    "        self._add = add\n",
    "        \n",
    "\n",
    "obj = Info(\"Ram\",22,\"Kathmandu\")\n",
    "print(obj._name)\n",
    "print(obj._age)\n",
    "print(obj._add)"
   ]
  },
  {
   "cell_type": "code",
   "execution_count": 4,
   "id": "dcaeb833",
   "metadata": {},
   "outputs": [
    {
     "ename": "AttributeError",
     "evalue": "'Info' object has no attribute '__name'",
     "output_type": "error",
     "traceback": [
      "\u001b[1;31m---------------------------------------------------------------------------\u001b[0m",
      "\u001b[1;31mAttributeError\u001b[0m                            Traceback (most recent call last)",
      "\u001b[1;32m<ipython-input-4-75c27ae7b7b5>\u001b[0m in \u001b[0;36m<module>\u001b[1;34m\u001b[0m\n\u001b[0;32m      9\u001b[0m \u001b[1;33m\u001b[0m\u001b[0m\n\u001b[0;32m     10\u001b[0m \u001b[0mobj\u001b[0m \u001b[1;33m=\u001b[0m \u001b[0mInfo\u001b[0m\u001b[1;33m(\u001b[0m\u001b[1;34m\"Ram\"\u001b[0m\u001b[1;33m,\u001b[0m\u001b[1;36m22\u001b[0m\u001b[1;33m,\u001b[0m\u001b[1;34m\"Kathmandu\"\u001b[0m\u001b[1;33m)\u001b[0m\u001b[1;33m\u001b[0m\u001b[1;33m\u001b[0m\u001b[0m\n\u001b[1;32m---> 11\u001b[1;33m \u001b[0mprint\u001b[0m\u001b[1;33m(\u001b[0m\u001b[0mobj\u001b[0m\u001b[1;33m.\u001b[0m\u001b[0m__name\u001b[0m\u001b[1;33m)\u001b[0m\u001b[1;33m\u001b[0m\u001b[1;33m\u001b[0m\u001b[0m\n\u001b[0m\u001b[0;32m     12\u001b[0m \u001b[0mprint\u001b[0m\u001b[1;33m(\u001b[0m\u001b[0mobj\u001b[0m\u001b[1;33m.\u001b[0m\u001b[0m__age\u001b[0m\u001b[1;33m)\u001b[0m\u001b[1;33m\u001b[0m\u001b[1;33m\u001b[0m\u001b[0m\n\u001b[0;32m     13\u001b[0m \u001b[0mprint\u001b[0m\u001b[1;33m(\u001b[0m\u001b[0mobj\u001b[0m\u001b[1;33m.\u001b[0m\u001b[0m__add\u001b[0m\u001b[1;33m)\u001b[0m\u001b[1;33m\u001b[0m\u001b[1;33m\u001b[0m\u001b[0m\n",
      "\u001b[1;31mAttributeError\u001b[0m: 'Info' object has no attribute '__name'"
     ]
    }
   ],
   "source": [
    "# Private properties\n",
    "class Info:\n",
    "    def __init__(self,name,age,add):\n",
    "        self.__name = name           # .__ means private\n",
    "        self.__age = age\n",
    "        self.__add = add\n",
    "        \n",
    "\n",
    "obj = Info(\"Ram\",22,\"Kathmandu\")\n",
    "print(obj.__name)\n",
    "print(obj.__age)\n",
    "print(obj.__add)"
   ]
  },
  {
   "cell_type": "code",
   "execution_count": 5,
   "id": "0b068543",
   "metadata": {},
   "outputs": [
    {
     "name": "stdout",
     "output_type": "stream",
     "text": [
      "Ram\n",
      "22\n",
      "Kathmandu\n"
     ]
    }
   ],
   "source": [
    "# Private properties\n",
    "class Info:\n",
    "    def __init__(self,name,age,add):\n",
    "        self.__name = name          \n",
    "        self.__age = age\n",
    "        self.__add = add\n",
    "        \n",
    "\n",
    "obj = Info(\"Ram\",22,\"Kathmandu\")\n",
    "print(obj._Info__name)      # ._Info__ to access Private attributes\n",
    "print(obj._Info__age)\n",
    "print(obj._Info__add)"
   ]
  },
  {
   "cell_type": "code",
   "execution_count": 10,
   "id": "5e373b53",
   "metadata": {},
   "outputs": [
    {
     "name": "stdout",
     "output_type": "stream",
     "text": [
      "Enter name = Ram\n",
      "Enter age = 22\n",
      "Enter add = Kathmandu\n",
      "Hello world I am Ram. I am 22 years old. I am from Kathmandu\n"
     ]
    }
   ],
   "source": [
    "# Using Public, Protected, Private attributes\n",
    "class Data:\n",
    "    def __init__(self):\n",
    "        self.name = input(\"Enter name = \")\n",
    "        self._age = int(input(\"Enter age = \"))\n",
    "        self.__add = input(\"Enter add = \")     # ._Data__add\n",
    "       \n",
    "class Information(Data):\n",
    "    def output(self):\n",
    "        info = f\"Hello world I am {self.name}. I am {self._age} years old. I am from {self._Data__add}\"\n",
    "        print(info)\n",
    "\n",
    "obj = Information()\n",
    "obj.output()"
   ]
  },
  {
   "cell_type": "code",
   "execution_count": 11,
   "id": "7f8c7545",
   "metadata": {},
   "outputs": [
    {
     "name": "stdout",
     "output_type": "stream",
     "text": [
      "Enter name = Shish\n",
      "Enter age = 44\n",
      "Enter add = Patan\n",
      "Hello world I am Shish. I am 44 years old. I am from Patan\n"
     ]
    }
   ],
   "source": [
    "class Data:\n",
    "    def __init__(self):\n",
    "        self.name = input(\"Enter name = \")\n",
    "        self._age = int(input(\"Enter age = \"))\n",
    "        self.__add = input(\"Enter add = \")     \n",
    "        \n",
    "    def add(self):\n",
    "        return self.__add\n",
    "       \n",
    "class Information(Data):\n",
    "    def output(self):\n",
    "        info = f\"Hello world I am {self.name}. I am {self._age} years old. I am from {super().add()}\"\n",
    "        print(info)\n",
    "\n",
    "obj = Information()\n",
    "obj.output()"
   ]
  },
  {
   "cell_type": "code",
   "execution_count": null,
   "id": "6f7a955f",
   "metadata": {},
   "outputs": [],
   "source": [
    "class Car():\n",
    "    "
   ]
  },
  {
   "cell_type": "code",
   "execution_count": null,
   "id": "66859fcd",
   "metadata": {},
   "outputs": [],
   "source": []
  },
  {
   "cell_type": "code",
   "execution_count": 12,
   "id": "d6474368",
   "metadata": {},
   "outputs": [
    {
     "name": "stdout",
     "output_type": "stream",
     "text": [
      "Parrot can fly\n",
      "Penguins can't fly\n"
     ]
    }
   ],
   "source": [
    "# Polymorphism\n",
    "class Parrot:\n",
    "    def fly(self):\n",
    "        print(\"Parrot can fly\")\n",
    "    def swim(self):\n",
    "        print(\"Parrot can't swim\")\n",
    "        \n",
    "class Penguin:\n",
    "    def fly(self):\n",
    "        print(\"Penguins can't fly\")\n",
    "    def swim(self):\n",
    "        print(\"Pentuins can fly\")\n",
    "        \n",
    "# common interface\n",
    "def flying_test(bird):\n",
    "    bird.fly()\n",
    "    \n",
    "#instantiate objects\n",
    "blu = Parrot()\n",
    "peggy = Penguin()\n",
    "\n",
    "# passing the object\n",
    "flying_test(blu)\n",
    "flying_test(peggy)"
   ]
  },
  {
   "cell_type": "code",
   "execution_count": null,
   "id": "b784e81a",
   "metadata": {},
   "outputs": [],
   "source": []
  }
 ],
 "metadata": {
  "kernelspec": {
   "display_name": "Python 3",
   "language": "python",
   "name": "python3"
  },
  "language_info": {
   "codemirror_mode": {
    "name": "ipython",
    "version": 3
   },
   "file_extension": ".py",
   "mimetype": "text/x-python",
   "name": "python",
   "nbconvert_exporter": "python",
   "pygments_lexer": "ipython3",
   "version": "3.8.8"
  }
 },
 "nbformat": 4,
 "nbformat_minor": 5
}
