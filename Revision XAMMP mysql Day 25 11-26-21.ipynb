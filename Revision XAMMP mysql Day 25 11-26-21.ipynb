{
 "cells": [
  {
   "cell_type": "code",
   "execution_count": 2,
   "id": "5679a1c5",
   "metadata": {},
   "outputs": [],
   "source": [
    "import mysql.connector\n",
    "#importing database\n",
    "database = mysql.connector.connect(\n",
    "    host=\"localhost\",\n",
    "    user=\"root\",\n",
    "    password=\"\",\n",
    "    database = \"class3pm\"\n",
    ")\n",
    "db = database.cursor()"
   ]
  },
  {
   "cell_type": "code",
   "execution_count": 3,
   "id": "0714d9b4",
   "metadata": {},
   "outputs": [
    {
     "name": "stdout",
     "output_type": "stream",
     "text": [
      "(1, 'Ram', 'Kathmandu', '9823322592', 1)\n",
      "(2, 'Shyam', 'Patan', '9992223456', 2)\n",
      "(3, 'Shyam', 'Bhojpur', '8882342234', 3)\n",
      "(4, 'Nabin', 'Bhojpur', '9879877789', 3)\n",
      "(5, 'Hari', 'Patan', '9993332345', 5)\n"
     ]
    }
   ],
   "source": [
    "db.execute(\"SELECT * FROM profile\")\n",
    "result = db.fetchall()\n",
    "for x in result:\n",
    "    print(x)"
   ]
  },
  {
   "cell_type": "code",
   "execution_count": 4,
   "id": "673626cb",
   "metadata": {},
   "outputs": [
    {
     "name": "stdout",
     "output_type": "stream",
     "text": [
      "(2, 'Shyam', 'Patan', '9992223456', 2)\n"
     ]
    }
   ],
   "source": [
    "db.execute(\"SELECT * FROM profile where class = 2\")\n",
    "result = db.fetchall()\n",
    "for x in result:\n",
    "    print(x)"
   ]
  },
  {
   "cell_type": "code",
   "execution_count": 6,
   "id": "ad3205de",
   "metadata": {},
   "outputs": [
    {
     "name": "stdout",
     "output_type": "stream",
     "text": [
      "(2, 'Shyam', 'Patan', '9992223456', 2)\n",
      "(3, 'Shyam', 'Bhojpur', '8882342234', 3)\n"
     ]
    }
   ],
   "source": [
    "db.execute(\"SELECT * FROM profile WHERE name LIKE '%shyam%'\")\n",
    "result = db.fetchall()\n",
    "for x in result:\n",
    "    print(x)"
   ]
  },
  {
   "cell_type": "code",
   "execution_count": null,
   "id": "96dea588",
   "metadata": {},
   "outputs": [],
   "source": []
  }
 ],
 "metadata": {
  "kernelspec": {
   "display_name": "Python 3",
   "language": "python",
   "name": "python3"
  },
  "language_info": {
   "codemirror_mode": {
    "name": "ipython",
    "version": 3
   },
   "file_extension": ".py",
   "mimetype": "text/x-python",
   "name": "python",
   "nbconvert_exporter": "python",
   "pygments_lexer": "ipython3",
   "version": "3.8.8"
  }
 },
 "nbformat": 4,
 "nbformat_minor": 5
}
