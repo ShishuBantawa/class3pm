{
 "cells": [
  {
   "cell_type": "code",
   "execution_count": 2,
   "id": "0b8a3d44",
   "metadata": {},
   "outputs": [],
   "source": [
    "#CSV Package\n",
    "#list\n",
    "import csv\n",
    "fields=['Kamal','28','Baluwatar']\n",
    "with open('boooks.csv','a') as f:\n",
    "    x = csv.writer(f)\n",
    "    x.writerow(fields)"
   ]
  },
  {
   "cell_type": "code",
   "execution_count": 3,
   "id": "3ba4b438",
   "metadata": {},
   "outputs": [],
   "source": [
    "import csv\n",
    "fields=['Kamal','28','Baluwatar']\n",
    "f = open('boooks.csv','a')\n",
    "x = csv.writer(f)\n",
    "x.writerow(fields)\n",
    "f.close()"
   ]
  },
  {
   "cell_type": "code",
   "execution_count": 4,
   "id": "c3f26719",
   "metadata": {},
   "outputs": [],
   "source": [
    "#List inside list\n",
    "import csv\n",
    "fields=[['Kamal','28','Baluwatar'],['Akash','45','Kathmandu']]\n",
    "f = open('boooks.csv','a')\n",
    "x = csv.writer(f)\n",
    "for i in fields:\n",
    "    x.writerow(i)\n",
    "f.close()"
   ]
  },
  {
   "cell_type": "code",
   "execution_count": 5,
   "id": "062b5dd4",
   "metadata": {},
   "outputs": [
    {
     "name": "stdout",
     "output_type": "stream",
     "text": [
      "{'Kamal': 'Kamal', '28': '28', 'Baluwatar': 'Baluwatar'}\n",
      "{'Kamal': 'Kamal', '28': '28', 'Baluwatar': 'Baluwatar'}\n",
      "{'Kamal': 'Akash', '28': '45', 'Baluwatar': 'Kathmandu'}\n"
     ]
    }
   ],
   "source": [
    "#DictReader\n",
    "import csv\n",
    "with open('boooks.csv') as csvfile:\n",
    "    reader = csv.DictReader(csvfile)\n",
    "    for row in reader:\n",
    "        print(dict(row))"
   ]
  },
  {
   "cell_type": "code",
   "execution_count": 6,
   "id": "2c861028",
   "metadata": {},
   "outputs": [
    {
     "name": "stdout",
     "output_type": "stream",
     "text": [
      "[{'SN': '1', 'Name': 'Ram', 'Age': '23', 'Address': 'Kathmandu', 'Phone': '934323432'}, {'SN': '2', 'Name': 'Shyam', 'Age': '33', 'Address': 'Patan', 'Phone': '789784874'}, {'SN': '3', 'Name': 'Hari', 'Age': '44', 'Address': 'Bhaktapur', 'Phone': '678647678'}, {'SN': '4', 'Name': 'Sunita', 'Age': '34', 'Address': 'Kathmandu', 'Phone': '2343244324'}, {'SN': '5', 'Name': 'Gita', 'Age': '22', 'Address': 'Bhojpur', 'Phone': '234234234'}, {'SN': '6', 'Name': 'Nita', 'Age': '25', 'Address': 'Pokhara', 'Phone': '564654456'}, {'SN': '7', 'Name': 'Pratima', 'Age': '45', 'Address': 'Kathmandu', 'Phone': '234234234'}]\n"
     ]
    }
   ],
   "source": [
    "import csv\n",
    "l = list()\n",
    "with open('data.csv') as csvfile:\n",
    "    reader = csv.DictReader(csvfile)\n",
    "    for row in reader:\n",
    "        l.append(dict(row))\n",
    "print(l)"
   ]
  },
  {
   "cell_type": "code",
   "execution_count": 7,
   "id": "29f8ecae",
   "metadata": {},
   "outputs": [
    {
     "name": "stdout",
     "output_type": "stream",
     "text": [
      "{'SN': '1', 'Name': 'Ram', 'Age': '23', 'Address': 'Kathmandu', 'Phone': '934323432'}\n",
      "{'SN': '2', 'Name': 'Shyam', 'Age': '33', 'Address': 'Patan', 'Phone': '789784874'}\n",
      "{'SN': '3', 'Name': 'Hari', 'Age': '44', 'Address': 'Bhaktapur', 'Phone': '678647678'}\n",
      "{'SN': '4', 'Name': 'Sunita', 'Age': '34', 'Address': 'Kathmandu', 'Phone': '2343244324'}\n",
      "{'SN': '5', 'Name': 'Gita', 'Age': '22', 'Address': 'Bhojpur', 'Phone': '234234234'}\n",
      "{'SN': '6', 'Name': 'Nita', 'Age': '25', 'Address': 'Pokhara', 'Phone': '564654456'}\n",
      "{'SN': '7', 'Name': 'Pratima', 'Age': '45', 'Address': 'Kathmandu', 'Phone': '234234234'}\n"
     ]
    }
   ],
   "source": [
    "import csv\n",
    "with open('data.csv') as csvfile:\n",
    "    reader = csv.DictReader(csvfile)\n",
    "    for row in reader:\n",
    "        print(dict(row))"
   ]
  },
  {
   "cell_type": "code",
   "execution_count": 9,
   "id": "902ad8de",
   "metadata": {},
   "outputs": [],
   "source": [
    "#DictWriter\n",
    "import csv\n",
    "csv_columns = ['Name','Age','Address']\n",
    "dict = [\n",
    "    {'Name':'Aayush','Age':23,'Address':'Kathmandu'},\n",
    "    {'Name':'Shyam','Age':33,'Address':'Patan'}\n",
    "]\n",
    "\n",
    "#'w' overwrite previous data in data.csv\n",
    "with open(\"data.csv\",'w') as csvfile:\n",
    "    writer = csv.DictWriter(csvfile, fieldnames=csv_columns)\n",
    "    writer.writeheader()\n",
    "    for data in dict:\n",
    "        writer.writerow(data)"
   ]
  },
  {
   "cell_type": "code",
   "execution_count": null,
   "id": "53855be4",
   "metadata": {},
   "outputs": [],
   "source": []
  }
 ],
 "metadata": {
  "kernelspec": {
   "display_name": "Python 3",
   "language": "python",
   "name": "python3"
  },
  "language_info": {
   "codemirror_mode": {
    "name": "ipython",
    "version": 3
   },
   "file_extension": ".py",
   "mimetype": "text/x-python",
   "name": "python",
   "nbconvert_exporter": "python",
   "pygments_lexer": "ipython3",
   "version": "3.8.8"
  }
 },
 "nbformat": 4,
 "nbformat_minor": 5
}
