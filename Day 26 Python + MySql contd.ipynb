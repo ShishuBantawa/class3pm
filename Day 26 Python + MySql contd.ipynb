{
 "cells": [
  {
   "cell_type": "code",
   "execution_count": 1,
   "id": "c2659727",
   "metadata": {},
   "outputs": [],
   "source": [
    "# python -m pip install mysql-connector\n",
    "\n",
    "import mysql.connector\n",
    "#importing database\n",
    "database = mysql.connector.connect(\n",
    "    host=\"localhost\",\n",
    "    user=\"root\",\n",
    "    password=\"\",\n",
    "    database = \"class3pm\"\n",
    ")\n",
    "db = database.cursor()"
   ]
  },
  {
   "cell_type": "code",
   "execution_count": 2,
   "id": "ba463f7e",
   "metadata": {},
   "outputs": [],
   "source": [
    "#adding new row, hardcoding data\n",
    "sql = \"INSERT INTO profile (name,address,phone,class) VALUES ('Nabin','Kathmandu','9876323345',2)\"\n",
    "db.execute(sql)\n",
    "database.commit()   #change database -- commit()"
   ]
  },
  {
   "cell_type": "code",
   "execution_count": 3,
   "id": "e4a00d03",
   "metadata": {},
   "outputs": [
    {
     "name": "stdout",
     "output_type": "stream",
     "text": [
      "Enter n = 2\n",
      "Enter name = Hari\n",
      "Enter address = Lumbini\n",
      "Enter phone = 3332225555\n",
      "Enter class = 6\n",
      "Enter name = Shiva\n",
      "Enter address = Pokhara\n",
      "Enter phone = 4443332267\n",
      "Enter class = 5\n"
     ]
    }
   ],
   "source": [
    "#making data entry dynamic using for loop and string format\n",
    "n = int(input(\"Enter n = \"))\n",
    "for i in range(n):\n",
    "    name = input(\"Enter name = \")\n",
    "    add = input(\"Enter address = \")\n",
    "    phone = input(\"Enter phone = \")\n",
    "    clas = int(input(\"Enter class = \"))\n",
    "    \n",
    "    sql = f\"INSERT INTO profile (name,address,phone,class) VALUES ('{name}','{add}','{phone}',{clas})\"\n",
    "    db.execute(sql)\n",
    "database.commit() \n"
   ]
  },
  {
   "cell_type": "code",
   "execution_count": 4,
   "id": "a239a5e2",
   "metadata": {},
   "outputs": [
    {
     "name": "stdout",
     "output_type": "stream",
     "text": [
      "(1, 'Ram', 'Kathmandu', '9823322592', 1)\n",
      "(2, 'Shyam', 'Patan', '9992223456', 2)\n",
      "(3, 'Shyam', 'Bhojpur', '8882342234', 3)\n",
      "(4, 'Nabin', 'Bhojpur', '9879877789', 3)\n",
      "(5, 'Hari', 'Patan', '9993332345', 5)\n",
      "(6, 'Nabin', 'Kathmandu', '9876323345', 2)\n",
      "(7, 'Hari', 'Lumbini', '3332225555', 6)\n",
      "(8, 'Shiva', 'Pokhara', '4443332267', 5)\n"
     ]
    }
   ],
   "source": [
    "#show updated table\n",
    "db.execute(\"SELECT * FROM profile\")\n",
    "result = db.fetchall()\n",
    "for x in result:\n",
    "    print(x)"
   ]
  },
  {
   "cell_type": "code",
   "execution_count": 5,
   "id": "ae9dba0d",
   "metadata": {},
   "outputs": [
    {
     "name": "stdout",
     "output_type": "stream",
     "text": [
      "INSERT INTO profile (name,address,phone,class) VALUES ('Shiva','Pokhara','4443332267',5)\n"
     ]
    }
   ],
   "source": [
    "print(sql)"
   ]
  },
  {
   "cell_type": "code",
   "execution_count": 6,
   "id": "047bd68f",
   "metadata": {},
   "outputs": [],
   "source": [
    "#update in MySql\n",
    "sql = \"UPDATE profile SET name = 'Ram Prasad' WHERE name = 'Ram'\"\n",
    "db.execute(sql)\n",
    "database.commit()"
   ]
  },
  {
   "cell_type": "code",
   "execution_count": 7,
   "id": "439efeeb",
   "metadata": {},
   "outputs": [
    {
     "name": "stdout",
     "output_type": "stream",
     "text": [
      "(1, 'Ram Prasad', 'Kathmandu', '9823322592', 1)\n",
      "(2, 'Shyam', 'Patan', '9992223456', 2)\n",
      "(3, 'Shyam', 'Bhojpur', '8882342234', 3)\n",
      "(4, 'Nabin', 'Bhojpur', '9879877789', 3)\n",
      "(5, 'Hari', 'Patan', '9993332345', 5)\n",
      "(6, 'Nabin', 'Kathmandu', '9876323345', 2)\n",
      "(7, 'Hari', 'Lumbini', '3332225555', 6)\n",
      "(8, 'Shiva', 'Pokhara', '4443332267', 5)\n",
      "(9, 'Sita', 'Janakpur', '4443332263', 5)\n"
     ]
    }
   ],
   "source": [
    "#show updated table\n",
    "db.execute(\"SELECT * FROM profile\")\n",
    "result = db.fetchall()\n",
    "for x in result:\n",
    "    print(x)"
   ]
  },
  {
   "cell_type": "code",
   "execution_count": 9,
   "id": "3ef359b7",
   "metadata": {},
   "outputs": [
    {
     "name": "stdout",
     "output_type": "stream",
     "text": [
      "Enter intial name = Hari\n",
      "Enter final name = Hari Bahadur\n"
     ]
    }
   ],
   "source": [
    "#Update using string format\n",
    "initial_name = input(\"Enter intial name = \")\n",
    "final_name = input(\"Enter final name = \")\n",
    "sql = f\"UPDATE profile SET name = '{final_name}' WHERE name = '{initial_name}'\"\n",
    "db.execute(sql)\n",
    "database.commit()"
   ]
  },
  {
   "cell_type": "code",
   "execution_count": 10,
   "id": "25ecbeef",
   "metadata": {},
   "outputs": [
    {
     "name": "stdout",
     "output_type": "stream",
     "text": [
      "(1, 'Ram Prasad', 'Kathmandu', '9823322592', 1)\n",
      "(2, 'Shyam', 'Patan', '9992223456', 2)\n",
      "(3, 'Shyam', 'Bhojpur', '8882342234', 3)\n",
      "(4, 'Nabin', 'Bhojpur', '9879877789', 3)\n",
      "(5, 'Hari Bahadur', 'Patan', '9993332345', 5)\n",
      "(6, 'Nabin', 'Kathmandu', '9876323345', 2)\n",
      "(7, 'Hari Bahadur', 'Lumbini', '3332225555', 6)\n",
      "(8, 'Shiva', 'Pokhara', '4443332267', 5)\n",
      "(9, 'Sita', 'Janakpur', '4443332263', 5)\n"
     ]
    }
   ],
   "source": [
    "#show updated table\n",
    "db.execute(\"SELECT * FROM profile\")\n",
    "result = db.fetchall()\n",
    "for x in result:\n",
    "    print(x)"
   ]
  },
  {
   "cell_type": "code",
   "execution_count": 11,
   "id": "72ffc0e9",
   "metadata": {},
   "outputs": [],
   "source": [
    "#Delete \n",
    "sql = \"DELETE FROM profile WHERE address = 'Janakpur'\"\n",
    "db.execute(sql)\n",
    "database.commit()"
   ]
  },
  {
   "cell_type": "code",
   "execution_count": null,
   "id": "408d7c96",
   "metadata": {},
   "outputs": [],
   "source": []
  }
 ],
 "metadata": {
  "kernelspec": {
   "display_name": "Python 3",
   "language": "python",
   "name": "python3"
  },
  "language_info": {
   "codemirror_mode": {
    "name": "ipython",
    "version": 3
   },
   "file_extension": ".py",
   "mimetype": "text/x-python",
   "name": "python",
   "nbconvert_exporter": "python",
   "pygments_lexer": "ipython3",
   "version": "3.8.8"
  }
 },
 "nbformat": 4,
 "nbformat_minor": 5
}
