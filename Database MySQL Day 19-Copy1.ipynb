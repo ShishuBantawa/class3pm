{
 "cells": [
  {
   "cell_type": "code",
   "execution_count": null,
   "id": "90fcfe28",
   "metadata": {},
   "outputs": [],
   "source": []
  },
  {
   "cell_type": "code",
   "execution_count": 2,
   "id": "2361e673",
   "metadata": {},
   "outputs": [
    {
     "name": "stdout",
     "output_type": "stream",
     "text": [
      "(1, 'Ram Prasad', 1, 78, 76, 89, 78, 98, 460, 83.0, 'A')\n",
      "(2, 'Ram Bahadur', 2, 77, 89, 77, 65, 87, 490, 87.0, 'A')\n",
      "(3, 'Shyam Bahadur', 3, 77, 89, 77, 65, 87, 490, 87.0, 'A')\n"
     ]
    }
   ],
   "source": [
    "import mysql.connector\n",
    "#importing database\n",
    "database = mysql.connector.connect(\n",
    "    host=\"localhost\",\n",
    "    user=\"root\",\n",
    "    password=\"\",\n",
    "    database=\"student\"\n",
    ")\n",
    "db = database.cursor()\n",
    "\n",
    "db.execute(\"SELECT * FROM python_student\")\n",
    "result = db.fetchall()\n",
    "for x in result:\n",
    "    print(x)"
   ]
  }
 ],
 "metadata": {
  "kernelspec": {
   "display_name": "Python 3",
   "language": "python",
   "name": "python3"
  },
  "language_info": {
   "codemirror_mode": {
    "name": "ipython",
    "version": 3
   },
   "file_extension": ".py",
   "mimetype": "text/x-python",
   "name": "python",
   "nbconvert_exporter": "python",
   "pygments_lexer": "ipython3",
   "version": "3.8.8"
  }
 },
 "nbformat": 4,
 "nbformat_minor": 5
}
