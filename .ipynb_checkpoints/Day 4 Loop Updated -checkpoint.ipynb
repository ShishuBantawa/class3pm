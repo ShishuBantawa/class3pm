{
 "cells": [
  {
   "cell_type": "code",
   "execution_count": null,
   "id": "1db221b8",
   "metadata": {},
   "outputs": [],
   "source": [
    "# for\n",
    "# while"
   ]
  },
  {
   "cell_type": "code",
   "execution_count": null,
   "id": "8b4f29e6",
   "metadata": {},
   "outputs": [],
   "source": [
    "# for\n",
    "# range()\n",
    "# range(5)    # 0 1 2 3 4     for(i=0; i<5; i=i+1)\n",
    "# range(1,5)  # 1 2 3 4       for(i=1; i<5; i=i+1)\n",
    "# range(1,10,2) # 1 3 5 7 9   for(i=1; i<10; i=i+2)  "
   ]
  },
  {
   "cell_type": "code",
   "execution_count": 1,
   "id": "b604dca6",
   "metadata": {},
   "outputs": [
    {
     "name": "stdout",
     "output_type": "stream",
     "text": [
      "0\n",
      "1\n",
      "2\n",
      "3\n",
      "4\n"
     ]
    }
   ],
   "source": [
    "for i in range(5):\n",
    "    print(i)"
   ]
  },
  {
   "cell_type": "code",
   "execution_count": 2,
   "id": "dc71e524",
   "metadata": {},
   "outputs": [
    {
     "name": "stdout",
     "output_type": "stream",
     "text": [
      "0 Hello World\n",
      "1 Hello World\n",
      "2 Hello World\n",
      "3 Hello World\n",
      "4 Hello World\n"
     ]
    }
   ],
   "source": [
    "for i in range(5):\n",
    "    print(i, \"Hello World\")"
   ]
  },
  {
   "cell_type": "code",
   "execution_count": 3,
   "id": "33c7cecb",
   "metadata": {},
   "outputs": [
    {
     "name": "stdout",
     "output_type": "stream",
     "text": [
      "1 Hello World\n",
      "2 Hello World\n",
      "3 Hello World\n",
      "4 Hello World\n"
     ]
    }
   ],
   "source": [
    "for i in range(1,5):\n",
    "    print(i,\"Hello World\")"
   ]
  },
  {
   "cell_type": "code",
   "execution_count": 5,
   "id": "43a52fd2",
   "metadata": {},
   "outputs": [
    {
     "name": "stdout",
     "output_type": "stream",
     "text": [
      "0 Hello World\n",
      "2 Hello World\n",
      "4 Hello World\n"
     ]
    }
   ],
   "source": [
    "for i in range(0,5,2):\n",
    "    print(i,\"Hello World\")"
   ]
  },
  {
   "cell_type": "code",
   "execution_count": 7,
   "id": "d7515580",
   "metadata": {},
   "outputs": [
    {
     "name": "stdout",
     "output_type": "stream",
     "text": [
      "Enter n = 5\n",
      "0 Hello World\n",
      "1 Hello World\n",
      "2 Hello World\n",
      "3 Hello World\n",
      "4 Hello World\n"
     ]
    }
   ],
   "source": [
    "n = int(input(\"Enter n = \"))\n",
    "for i in range(n):\n",
    "    print(i,\"Hello World\")"
   ]
  },
  {
   "cell_type": "code",
   "execution_count": 12,
   "id": "88fad2b8",
   "metadata": {},
   "outputs": [
    {
     "name": "stdout",
     "output_type": "stream",
     "text": [
      "Enter n = 5\n",
      "Enter m = 10\n",
      "10\n",
      "Enter m = 2\n",
      "12\n",
      "Enter m = 4\n",
      "16\n",
      "Enter m = 5\n",
      "21\n",
      "Enter m = 7\n",
      "28\n",
      "Total sum = 28\n"
     ]
    }
   ],
   "source": [
    "s = 0\n",
    "n = int(input(\"Enter n = \"))\n",
    "for i in range(n):\n",
    "    m = int(input(\"Enter m = \"))\n",
    "    s = s+m\n",
    "    print(s)\n",
    "    \n",
    "print(\"Total sum =\",s)"
   ]
  },
  {
   "cell_type": "code",
   "execution_count": 20,
   "id": "2af4bf0e",
   "metadata": {},
   "outputs": [
    {
     "name": "stdout",
     "output_type": "stream",
     "text": [
      "Enter n = 4\n",
      "Factorial of 4 = 24\n"
     ]
    }
   ],
   "source": [
    "# factorial  4! = 1*2*3*4  \n",
    "fac = 1\n",
    "n = int(input('Enter n = '))\n",
    "for i in range(1,n+1):\n",
    "    fac = fac*i\n",
    "\n",
    "print(\"Factorial of\",n,\"=\",fac)"
   ]
  },
  {
   "cell_type": "code",
   "execution_count": 21,
   "id": "08a799ef",
   "metadata": {},
   "outputs": [
    {
     "name": "stdout",
     "output_type": "stream",
     "text": [
      "Enter n =5\n",
      "5 * 1 = 5\n",
      "5 * 2 = 10\n",
      "5 * 3 = 15\n",
      "5 * 4 = 20\n",
      "5 * 5 = 25\n",
      "5 * 6 = 30\n",
      "5 * 7 = 35\n",
      "5 * 8 = 40\n",
      "5 * 9 = 45\n",
      "5 * 10 = 50\n"
     ]
    }
   ],
   "source": [
    "# multiplication table\n",
    "n = int(input(\"Enter n =\"))\n",
    "for i in range(1,11):\n",
    "    print(n,'*',i,'=',n*i)"
   ]
  },
  {
   "cell_type": "code",
   "execution_count": 24,
   "id": "4b9b760c",
   "metadata": {},
   "outputs": [
    {
     "name": "stdout",
     "output_type": "stream",
     "text": [
      "Enter n =3\n",
      "Enter name =Ram\n",
      "Enter name =Shyam\n",
      "Enter name =Hari\n",
      "Ram\n",
      "Shyam\n",
      "Hari\n",
      "\n"
     ]
    }
   ],
   "source": [
    "# string str()\n",
    "s = str()\n",
    "n = int(input('Enter n ='))\n",
    "for i in range(1,n+1):\n",
    "    name = input('Enter name =')\n",
    "    s = s+name+'\\n'\n",
    "    \n",
    "print(s)"
   ]
  },
  {
   "cell_type": "code",
   "execution_count": 27,
   "id": "19d8df7f",
   "metadata": {},
   "outputs": [
    {
     "name": "stdout",
     "output_type": "stream",
     "text": [
      "Enter n =3\n",
      "Enter name =Ram\n",
      "Enter phone =222222\n",
      "Enter name =Shyam\n",
      "Enter phone =444444\n",
      "Enter name =Hari\n",
      "Enter phone =777777\n",
      "name =Ram phone =222222\n",
      "name =Shyam phone =444444\n",
      "name =Hari phone =777777\n",
      "\n"
     ]
    }
   ],
   "source": [
    "s = str()\n",
    "n = int(input('Enter n ='))\n",
    "for i in range(1,n+1):\n",
    "    name = input('Enter name =')\n",
    "    phone = input('Enter phone =')\n",
    "    s = s+'name ='+name+' phone ='+phone+'\\n'\n",
    "    \n",
    "print(s)"
   ]
  },
  {
   "cell_type": "code",
   "execution_count": 28,
   "id": "8867df4c",
   "metadata": {},
   "outputs": [
    {
     "name": "stdout",
     "output_type": "stream",
     "text": [
      "Enter n =10\n",
      "0\n",
      "2\n",
      "4\n",
      "6\n",
      "8\n"
     ]
    }
   ],
   "source": [
    "# even numbers\n",
    "n = int(input('Enter n ='))\n",
    "for i in range(n):\n",
    "    if i%2 == 0:\n",
    "        print(i)"
   ]
  },
  {
   "cell_type": "code",
   "execution_count": 29,
   "id": "decdc7f9",
   "metadata": {},
   "outputs": [
    {
     "name": "stdout",
     "output_type": "stream",
     "text": [
      "H\n",
      "e\n",
      "l\n",
      "l\n",
      "o\n",
      " \n",
      "W\n",
      "o\n",
      "r\n",
      "l\n",
      "d\n"
     ]
    }
   ],
   "source": [
    "a = 'Hello World'\n",
    "for i in a:\n",
    "    print(i)"
   ]
  },
  {
   "cell_type": "code",
   "execution_count": 30,
   "id": "24667feb",
   "metadata": {},
   "outputs": [
    {
     "name": "stdout",
     "output_type": "stream",
     "text": [
      "Hello World"
     ]
    }
   ],
   "source": [
    "a = 'Hello World'\n",
    "for i in a:\n",
    "    print(i,end = \"\")"
   ]
  },
  {
   "cell_type": "code",
   "execution_count": 33,
   "id": "85158387",
   "metadata": {},
   "outputs": [
    {
     "name": "stdout",
     "output_type": "stream",
     "text": [
      "HelloWorld"
     ]
    }
   ],
   "source": [
    "a = 'Hello World'\n",
    "for i in a:\n",
    "    if i != \" \":\n",
    "        print(i,end = \"\")"
   ]
  },
  {
   "cell_type": "code",
   "execution_count": 36,
   "id": "dfafa3ea",
   "metadata": {},
   "outputs": [
    {
     "data": {
      "text/plain": [
       "('H', 'o')"
      ]
     },
     "execution_count": 36,
     "metadata": {},
     "output_type": "execute_result"
    }
   ],
   "source": [
    "a = 'Hello World'\n",
    "a[0],a[4]"
   ]
  },
  {
   "cell_type": "code",
   "execution_count": 37,
   "id": "a6550bea",
   "metadata": {},
   "outputs": [
    {
     "name": "stdout",
     "output_type": "stream",
     "text": [
      "Hello World"
     ]
    }
   ],
   "source": [
    "a = 'Hello World'\n",
    "n = len(a)\n",
    "for i in range(n):\n",
    "    print(a[i],end=\"\")"
   ]
  },
  {
   "cell_type": "code",
   "execution_count": 1,
   "id": "d143493e",
   "metadata": {},
   "outputs": [
    {
     "name": "stdout",
     "output_type": "stream",
     "text": [
      "0 Hello World\n",
      "1 Hello World\n",
      "2 Hello World\n",
      "3 Hello World\n",
      "4 Hello World\n"
     ]
    }
   ],
   "source": [
    "# while loop\n",
    "# while <conditions>:\n",
    "#       <operations>\n",
    "\n",
    "a = 0\n",
    "while a<5:\n",
    "    print(a,'Hello World')\n",
    "    a = a+1\n",
    "    "
   ]
  },
  {
   "cell_type": "code",
   "execution_count": 2,
   "id": "5425a6e3",
   "metadata": {},
   "outputs": [
    {
     "name": "stdout",
     "output_type": "stream",
     "text": [
      "1 Hello World\n",
      "3 Hello World\n"
     ]
    }
   ],
   "source": [
    "a = 1\n",
    "while a<5:\n",
    "    print(a,'Hello World')\n",
    "    a = a+2"
   ]
  },
  {
   "cell_type": "code",
   "execution_count": 3,
   "id": "ee9f039d",
   "metadata": {},
   "outputs": [
    {
     "name": "stdout",
     "output_type": "stream",
     "text": [
      "Enter n =4\n",
      "Enter x =50\n",
      "Enter x =50\n",
      "Enter x =50\n",
      "Enter x =50\n",
      "200\n"
     ]
    }
   ],
   "source": [
    "a = 0\n",
    "s = 0\n",
    "n = int(input('Enter n ='))\n",
    "while a<n:\n",
    "    x = int(input('Enter x ='))\n",
    "    s = s+x\n",
    "    a = a+1\n",
    "    \n",
    "print(s)"
   ]
  },
  {
   "cell_type": "code",
   "execution_count": 4,
   "id": "378de89e",
   "metadata": {},
   "outputs": [
    {
     "name": "stdout",
     "output_type": "stream",
     "text": [
      "Enter x =5\n",
      "5 * 1 = 5\n",
      "5 * 2 = 10\n",
      "5 * 3 = 15\n",
      "5 * 4 = 20\n",
      "5 * 5 = 25\n",
      "5 * 6 = 30\n",
      "5 * 7 = 35\n",
      "5 * 8 = 40\n",
      "5 * 9 = 45\n",
      "5 * 10 = 50\n"
     ]
    }
   ],
   "source": [
    "# mulitipication table using while loop\n",
    "n = 1\n",
    "x = int(input('Enter x ='))\n",
    "while n<=10:\n",
    "    print(x,'*',n,'=',x*n)\n",
    "    n = n+1"
   ]
  },
  {
   "cell_type": "code",
   "execution_count": 6,
   "id": "db567214",
   "metadata": {},
   "outputs": [
    {
     "name": "stdout",
     "output_type": "stream",
     "text": [
      "Enter n =3\n",
      "Enter name =Ram\n",
      "Enter phone =22222\n",
      "Enter name =Shyam\n",
      "Enter phone =55555\n",
      "Enter name =Hari\n",
      "Enter phone =99999\n",
      "Ram---22222\n",
      "Shyam---55555\n",
      "Hari---99999\n",
      "\n"
     ]
    }
   ],
   "source": [
    "i = 1\n",
    "s = str()\n",
    "n = int(input('Enter n ='))\n",
    "while i<=n:\n",
    "    name = input(\"Enter name =\")\n",
    "    phone = input(\"Enter phone =\")\n",
    "    s = s+name+'---'+phone+'\\n'\n",
    "    i = i+1\n",
    "print(s)"
   ]
  },
  {
   "cell_type": "code",
   "execution_count": null,
   "id": "2ed7e52c",
   "metadata": {},
   "outputs": [],
   "source": [
    "# Control Statements\n",
    "# break\n",
    "# continue\n",
    "# pass"
   ]
  },
  {
   "cell_type": "code",
   "execution_count": 2,
   "id": "3ee264b9",
   "metadata": {},
   "outputs": [
    {
     "name": "stdout",
     "output_type": "stream",
     "text": [
      "0\n",
      "1\n",
      "2\n",
      "3\n",
      "4\n"
     ]
    }
   ],
   "source": [
    "for i in range(10):\n",
    "    if i == 5:\n",
    "        break\n",
    "    print(i)"
   ]
  }
 ],
 "metadata": {
  "kernelspec": {
   "display_name": "Python 3",
   "language": "python",
   "name": "python3"
  },
  "language_info": {
   "codemirror_mode": {
    "name": "ipython",
    "version": 3
   },
   "file_extension": ".py",
   "mimetype": "text/x-python",
   "name": "python",
   "nbconvert_exporter": "python",
   "pygments_lexer": "ipython3",
   "version": "3.8.8"
  }
 },
 "nbformat": 4,
 "nbformat_minor": 5
}
