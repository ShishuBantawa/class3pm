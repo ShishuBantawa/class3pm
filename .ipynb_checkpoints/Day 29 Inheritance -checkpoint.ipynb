{
 "cells": [
  {
   "cell_type": "code",
   "execution_count": 1,
   "id": "6fa31f4a",
   "metadata": {},
   "outputs": [
    {
     "name": "stdout",
     "output_type": "stream",
     "text": [
      "Enter name = Ram\n",
      "Enter age = 34\n",
      "Enter add = Kathmandu\n",
      "Hello world I am Ram. I am from Kathmandu. I am 34 years old\n"
     ]
    }
   ],
   "source": [
    "class Data:\n",
    "    def __init__(self,name,age,add):\n",
    "        self.name = name\n",
    "        self.age = age\n",
    "        self.add = add\n",
    "\n",
    "#Inherits from Data class        \n",
    "class Information(Data):\n",
    "    def output(self):\n",
    "        info = f\"Hello world I am {self.name}. I am from {self.add}. I am {self.age} years old\"\n",
    "        print(info)\n",
    "        \n",
    "name = input (\"Enter name = \")\n",
    "age = int(input(\"Enter age = \"))\n",
    "add = input(\"Enter add = \")\n",
    "\n",
    "obj = Information(name,age,add)\n",
    "obj.output()"
   ]
  },
  {
   "cell_type": "code",
   "execution_count": 4,
   "id": "584ba5a8",
   "metadata": {},
   "outputs": [
    {
     "name": "stdout",
     "output_type": "stream",
     "text": [
      "Enter name = Ram\n",
      "Enter age = 33\n",
      "Enter add = Kathmandu\n",
      "Hello world I am Ram. I am from Kathmandu. I am 33 years old\n",
      "Enter name = Shyam\n",
      "Enter age = 44\n",
      "Enter add = Patan\n",
      "Shyam 44 Patan\n"
     ]
    }
   ],
   "source": [
    "#another way \n",
    "class Data:\n",
    "    def __init__(self):\n",
    "        self.name = input(\"Enter name = \")\n",
    "        self.age = int(input(\"Enter age = \"))\n",
    "        self.add = input(\"Enter add = \")\n",
    "\n",
    "#Inherits from Data class        \n",
    "class Information(Data):\n",
    "    def output(self):\n",
    "        info = f\"Hello world I am {self.name}. I am from {self.add}. I am {self.age} years old\"\n",
    "        print(info)\n",
    "        \n",
    "obj = Information()\n",
    "obj.output()\n",
    "\n",
    "obj1 = Data()\n",
    "print(obj1.name,obj1.age,obj1.add)                     "
   ]
  },
  {
   "cell_type": "code",
   "execution_count": 7,
   "id": "27aba915",
   "metadata": {},
   "outputs": [],
   "source": [
    "#Multi-level Inheritance\n",
    "class A:\n",
    "    pass\n",
    "class B(A):\n",
    "    pass\n",
    "class C(B):\n",
    "    pass\n",
    "\n",
    "obj = C()"
   ]
  },
  {
   "cell_type": "code",
   "execution_count": 6,
   "id": "6c6844b6",
   "metadata": {},
   "outputs": [
    {
     "name": "stdout",
     "output_type": "stream",
     "text": [
      "This is class A\n",
      "This is class B\n",
      "This is class C\n"
     ]
    }
   ],
   "source": [
    "class A:\n",
    "    print(\"This is class A\")\n",
    "class B(A):\n",
    "    print(\"This is class B\")\n",
    "class C(B):\n",
    "    print(\"This is class C\")\n",
    "    \n",
    "obj = C()"
   ]
  },
  {
   "cell_type": "code",
   "execution_count": 11,
   "id": "cccd33b4",
   "metadata": {},
   "outputs": [
    {
     "name": "stdout",
     "output_type": "stream",
     "text": [
      "Ram\n",
      "23\n",
      "Ram\n"
     ]
    }
   ],
   "source": [
    "class A:\n",
    "    def __init__(self,name):\n",
    "        self.name = name\n",
    "        print(self.name)\n",
    "        \n",
    "class B(A):\n",
    "    def __init__(self,name,age):\n",
    "        A.__init__(self,name)\n",
    "        self.age = age\n",
    "        print(self.age)\n",
    "        \n",
    "class C(B):\n",
    "    def __init__(self,name,age,add):\n",
    "        B.__init__(self,name,age)\n",
    "        self.add = add\n",
    "        print(self.name)\n",
    "        \n",
    "obj = C(\"Ram\",23,\"Kathmandu\")"
   ]
  },
  {
   "cell_type": "code",
   "execution_count": 13,
   "id": "724a0f30",
   "metadata": {},
   "outputs": [
    {
     "name": "stdout",
     "output_type": "stream",
     "text": [
      "Hello I am Ram. I am from Kathmandu. I am 23.\n"
     ]
    }
   ],
   "source": [
    "# Inheriting attributes from multiple classes\n",
    "class A:\n",
    "    def __init__(self,name):\n",
    "        self.name = name\n",
    "        \n",
    "class B:\n",
    "    def __init__(self,age):\n",
    "        self.age = age\n",
    "        \n",
    "class C(A,B):\n",
    "    def __init__(self,name,age,add):\n",
    "        self.add = add\n",
    "        A.__init__(self,name)\n",
    "        B.__init__(self,age)\n",
    "        \n",
    "    def info(self):\n",
    "        info = f\"Hello I am {self.name}. I am from {self.add}. I am {self.age}.\"\n",
    "        print(info)\n",
    "        \n",
    "obj = C(\"Ram\",23,\"Kathmandu\")\n",
    "obj.info()"
   ]
  },
  {
   "cell_type": "code",
   "execution_count": null,
   "id": "985f6067",
   "metadata": {},
   "outputs": [],
   "source": []
  }
 ],
 "metadata": {
  "kernelspec": {
   "display_name": "Python 3",
   "language": "python",
   "name": "python3"
  },
  "language_info": {
   "codemirror_mode": {
    "name": "ipython",
    "version": 3
   },
   "file_extension": ".py",
   "mimetype": "text/x-python",
   "name": "python",
   "nbconvert_exporter": "python",
   "pygments_lexer": "ipython3",
   "version": "3.8.8"
  }
 },
 "nbformat": 4,
 "nbformat_minor": 5
}
