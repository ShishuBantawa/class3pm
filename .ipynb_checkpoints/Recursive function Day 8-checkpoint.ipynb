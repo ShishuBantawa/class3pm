{
 "cells": [
  {
   "cell_type": "code",
   "execution_count": null,
   "id": "21f20ea1",
   "metadata": {},
   "outputs": [],
   "source": [
    "# # Recursive function\n",
    "# following code will generate infinite loop\n",
    "# def Hello():\n",
    "#     print('Hello World')\n",
    "#     Hello()\n",
    "# Hello()"
   ]
  },
  {
   "cell_type": "code",
   "execution_count": 1,
   "id": "09442740",
   "metadata": {},
   "outputs": [
    {
     "name": "stdout",
     "output_type": "stream",
     "text": [
      "Enter p =100\n",
      "Enter t =2\n",
      "Enter r =3\n",
      "600\n",
      "Enter y for more calculationy\n",
      "Enter p =200\n",
      "Enter t =4\n",
      "Enter r =5\n",
      "4000\n",
      "Enter y for more calculationn\n"
     ]
    }
   ],
   "source": [
    "# no for, while loop needed\n",
    "def cal():\n",
    "    p = int(input(\"Enter p =\"))\n",
    "    t = int(input(\"Enter t =\"))\n",
    "    r = int(input(\"Enter r =\"))\n",
    "    i = p*t*r\n",
    "    print(i)\n",
    "    x = input(\"Enter y for more calculation\")\n",
    "    if x == 'y':\n",
    "        cal()\n",
    "        \n",
    "cal()"
   ]
  },
  {
   "cell_type": "code",
   "execution_count": 2,
   "id": "0b7a23cb",
   "metadata": {},
   "outputs": [
    {
     "name": "stdout",
     "output_type": "stream",
     "text": [
      "3.141592653589793\n"
     ]
    }
   ],
   "source": [
    "# Math function\n",
    "# import math package\n",
    "import math as m\n",
    "print(m.pi)"
   ]
  },
  {
   "cell_type": "code",
   "execution_count": 3,
   "id": "3dee8d9a",
   "metadata": {},
   "outputs": [
    {
     "name": "stdout",
     "output_type": "stream",
     "text": [
      "Enter r =7\n",
      "153.93804002589985\n"
     ]
    }
   ],
   "source": [
    "import math as m\n",
    "r = float(input(\"Enter r =\"))\n",
    "a = m.pi*m.pow(r,2)\n",
    "print(a)"
   ]
  },
  {
   "cell_type": "code",
   "execution_count": 4,
   "id": "c03c4601",
   "metadata": {},
   "outputs": [
    {
     "data": {
      "text/plain": [
       "1.0"
      ]
     },
     "execution_count": 4,
     "metadata": {},
     "output_type": "execute_result"
    }
   ],
   "source": [
    "import math as m\n",
    "m.sin(m.pi/2)"
   ]
  },
  {
   "cell_type": "code",
   "execution_count": 1,
   "id": "d40ecffa",
   "metadata": {},
   "outputs": [
    {
     "name": "stdout",
     "output_type": "stream",
     "text": [
      "Enter a = 10\n",
      "Enter b = 0\n",
      "Enter o = /\n",
      "The value of b can not be zero\n",
      "Enter y for more calculationy\n",
      "Enter a = 10\n",
      "Enter b = 2\n",
      "Enter o = /\n",
      "5.0\n",
      "Enter y for more calculationn\n"
     ]
    }
   ],
   "source": [
    "def add(a,b):\n",
    "    return a+b\n",
    "def sub(a,b):\n",
    "    return a-b\n",
    "def mul(a,b):\n",
    "    return a*b\n",
    "def div(a,b):\n",
    "    return a/b\n",
    "\n",
    "def Cal():\n",
    "    a = float(input(\"Enter a = \"))\n",
    "    b = float(input(\"Enter b = \"))\n",
    "    o = input(\"Enter o = \")\n",
    "    if o == \"+\":\n",
    "        print(add(a,b))\n",
    "    elif o == \"-\":\n",
    "        print(sub(a,b))\n",
    "    elif o == \"*\":\n",
    "        print(mul(a,b))\n",
    "    elif o == \"/\":\n",
    "        if b !=0:\n",
    "            print(div(a,b))\n",
    "        else:\n",
    "            print(\"The value of b can not be zero\")\n",
    "    else:\n",
    "        print(\"Invalid operator\")\n",
    "    x = input(\"Enter y for more calculation\")      # recursive\n",
    "    if x == 'y':\n",
    "        Cal()\n",
    "Cal()"
   ]
  },
  {
   "cell_type": "code",
   "execution_count": 4,
   "id": "ae2fa524",
   "metadata": {},
   "outputs": [
    {
     "name": "stdout",
     "output_type": "stream",
     "text": [
      "Enter n = 2\n",
      "Enter name = Ram\n",
      "Enter price = 100\n",
      "Enter qty = 2\n",
      "Enter name = Shyam\n",
      "Enter price = 200\n",
      "Enter qty = 1\n",
      "Ram 100 2 200\n",
      "Shyam 200 1 200\n",
      "\n",
      "400\n"
     ]
    }
   ],
   "source": [
    "# WAP for billing system\n",
    "n = int(input(\"Enter n = \"))\n",
    "grand_total = 0\n",
    "bills = \"\"\n",
    "for i in range(n):\n",
    "    name = input(\"Enter name = \")\n",
    "    price = int(input(\"Enter price = \"))\n",
    "    qty = int(input(\"Enter qty = \"))\n",
    "    total = price*qty\n",
    "    bill = name+\" \"+str(price)+\" \"+str(qty)+\" \"+str(total)+\"\\n\"\n",
    "    bills = bills+bill\n",
    "    grand_total = grand_total+total\n",
    "print(bills)\n",
    "print(grand_total)"
   ]
  },
  {
   "cell_type": "code",
   "execution_count": 3,
   "id": "a72939a1",
   "metadata": {},
   "outputs": [
    {
     "name": "stdout",
     "output_type": "stream",
     "text": [
      "Enter name = Apple\n",
      "Enter price = 100\n",
      "Enter qty = 3\n",
      "300\n",
      "Apple 100 3 300\n",
      "\n"
     ]
    }
   ],
   "source": [
    "# WAP for billing system using functions\n",
    "def grand(x):\n",
    "    now_total =x\n",
    "    print(now_total)\n",
    "    \n",
    "def new_bills(z):\n",
    "    final_bill =z\n",
    "    print(final_bill)\n",
    "\n",
    "grand_total = 0\n",
    "bills = \"\"\n",
    "\n",
    "def billing():\n",
    "    global bills, grand_total\n",
    "    name = input(\"Enter name = \")\n",
    "    price = int(input(\"Enter price = \"))\n",
    "    qty = int(input(\"Enter qty = \"))\n",
    "    total = price*qty\n",
    "    bill = name+\" \"+str(price)+\" \"+str(qty)+\" \"+str(total)+\"\\n\"\n",
    "    bills = bills+bill\n",
    "    grand_total = grand_total+total\n",
    "    grand(grand_total)\n",
    "    new_bills(bills)\n",
    "    \n",
    "billing()"
   ]
  },
  {
   "cell_type": "code",
   "execution_count": null,
   "id": "018d28db",
   "metadata": {},
   "outputs": [],
   "source": []
  }
 ],
 "metadata": {
  "kernelspec": {
   "display_name": "Python 3",
   "language": "python",
   "name": "python3"
  },
  "language_info": {
   "codemirror_mode": {
    "name": "ipython",
    "version": 3
   },
   "file_extension": ".py",
   "mimetype": "text/x-python",
   "name": "python",
   "nbconvert_exporter": "python",
   "pygments_lexer": "ipython3",
   "version": "3.8.8"
  }
 },
 "nbformat": 4,
 "nbformat_minor": 5
}
