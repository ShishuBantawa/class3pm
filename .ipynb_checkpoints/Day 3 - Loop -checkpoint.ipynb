{
 "cells": [
  {
   "cell_type": "code",
   "execution_count": null,
   "id": "26f950fa",
   "metadata": {},
   "outputs": [],
   "source": [
    "# for loop\n",
    "# while loop"
   ]
  },
  {
   "cell_type": "code",
   "execution_count": null,
   "id": "991348ea",
   "metadata": {},
   "outputs": [],
   "source": [
    "# # for \n",
    "# # range() -- creates sequence of numbers\n",
    "# range(5)    # 0 1 2 3 4\n",
    "# range(1,5)  # 1 2 3 4\n",
    "# range(1,10,2)  # 1 3 5 7 9  for(i=1; i<10; i=i+2)"
   ]
  },
  {
   "cell_type": "code",
   "execution_count": 3,
   "id": "613d31d3",
   "metadata": {},
   "outputs": [
    {
     "name": "stdout",
     "output_type": "stream",
     "text": [
      "0\n",
      "1\n",
      "2\n",
      "3\n",
      "4\n"
     ]
    }
   ],
   "source": [
    "for i in range(5):\n",
    "    print(i)"
   ]
  },
  {
   "cell_type": "code",
   "execution_count": 6,
   "id": "f32a4514",
   "metadata": {},
   "outputs": [
    {
     "name": "stdout",
     "output_type": "stream",
     "text": [
      "1 Hello World\n",
      "2 Hello World\n",
      "3 Hello World\n",
      "4 Hello World\n"
     ]
    }
   ],
   "source": [
    "for i in range(1,5):\n",
    "    print(i, \"Hello World\")"
   ]
  },
  {
   "cell_type": "code",
   "execution_count": 7,
   "id": "8e568b6e",
   "metadata": {},
   "outputs": [
    {
     "name": "stdout",
     "output_type": "stream",
     "text": [
      "0 Hello world\n",
      "2 Hello world\n",
      "4 Hello world\n"
     ]
    }
   ],
   "source": [
    "for i in range(0,5,2):\n",
    "    print(i, \"Hello world\")"
   ]
  },
  {
   "cell_type": "code",
   "execution_count": 9,
   "id": "3224d391",
   "metadata": {},
   "outputs": [
    {
     "name": "stdout",
     "output_type": "stream",
     "text": [
      "Enter n = 5\n",
      "0 Hello World\n",
      "1 Hello World\n",
      "2 Hello World\n",
      "3 Hello World\n",
      "4 Hello World\n"
     ]
    }
   ],
   "source": [
    "n = int(input(\"Enter n = \"))\n",
    "for i in range(n):\n",
    "    print(i,\"Hello World\")"
   ]
  },
  {
   "cell_type": "code",
   "execution_count": 14,
   "id": "e07676e0",
   "metadata": {},
   "outputs": [
    {
     "name": "stdout",
     "output_type": "stream",
     "text": [
      "Enter n = 5\n",
      "Enter x = 2\n",
      "2\n",
      "Enter x = 4\n",
      "6\n",
      "Enter x = 6\n",
      "12\n",
      "Enter x = 8\n",
      "20\n",
      "Enter x = 10\n",
      "30\n",
      "Total sum: 30\n"
     ]
    }
   ],
   "source": [
    "s = 0 \n",
    "n = int(input(\"Enter n = \"))\n",
    "for i in range(n):\n",
    "    x = int(input(\"Enter x = \"))\n",
    "    s = s+x\n",
    "    print(s)\n",
    "\n",
    "print(\"Total sum:\",s)"
   ]
  },
  {
   "cell_type": "code",
   "execution_count": 16,
   "id": "22fb29bc",
   "metadata": {},
   "outputs": [
    {
     "name": "stdout",
     "output_type": "stream",
     "text": [
      "Enter n = 5\n",
      "5 * 1 = 5\n",
      "5 * 2 = 10\n",
      "5 * 3 = 15\n",
      "5 * 4 = 20\n",
      "5 * 5 = 25\n",
      "5 * 6 = 30\n",
      "5 * 7 = 35\n",
      "5 * 8 = 40\n",
      "5 * 9 = 45\n",
      "5 * 10 = 50\n"
     ]
    }
   ],
   "source": [
    "# multiplication table\n",
    "n = int(input(\"Enter n = \"))\n",
    "for i in range(1,11):\n",
    "    print(n,\"*\",i,\"=\",n*i)"
   ]
  },
  {
   "cell_type": "code",
   "execution_count": 19,
   "id": "e64f75e9",
   "metadata": {},
   "outputs": [
    {
     "name": "stdout",
     "output_type": "stream",
     "text": [
      "Enter factorial n = 4\n",
      "1\n",
      "2\n",
      "6\n",
      "24\n",
      "Factorial of 4 = 24\n"
     ]
    }
   ],
   "source": [
    "# Factorial 4! =1*2*3*4\n",
    "fac = 1\n",
    "n = int(input(\"Enter factorial n = \"))\n",
    "for i in range(1,n+1):\n",
    "    fac = fac*i\n",
    "    print(fac)\n",
    "\n",
    "print(\"Factorial of\",n,\"=\",fac)"
   ]
  },
  {
   "cell_type": "code",
   "execution_count": 29,
   "id": "a161fc94",
   "metadata": {},
   "outputs": [
    {
     "name": "stdout",
     "output_type": "stream",
     "text": [
      "Enter n = 2\n",
      "Enter name = Ram\n",
      "Enter phone = 123123123\n",
      "Enter name = Shyam\n",
      "Enter phone = 456456456\n",
      "1 Ram --- 123123123\n",
      "2 Shyam --- 456456456\n",
      "\n"
     ]
    }
   ],
   "source": [
    "# string  \n",
    "s = str()\n",
    "n = int(input(\"Enter n = \"))\n",
    "for i in range(1,n+1):\n",
    "    name = input(\"Enter name = \")\n",
    "    phone = int(input(\"Enter phone = \"))\n",
    "    s=s+str(i)+' '+name+' --- '+str(phone)+\"\\n\"\n",
    "print(s)"
   ]
  },
  {
   "cell_type": "code",
   "execution_count": 30,
   "id": "c8d4edae",
   "metadata": {},
   "outputs": [
    {
     "name": "stdout",
     "output_type": "stream",
     "text": [
      "Enter n = 20\n",
      "Even numbers 0\n",
      "Even numbers 2\n",
      "Even numbers 4\n",
      "Even numbers 6\n",
      "Even numbers 8\n",
      "Even numbers 10\n",
      "Even numbers 12\n",
      "Even numbers 14\n",
      "Even numbers 16\n",
      "Even numbers 18\n"
     ]
    }
   ],
   "source": [
    "# even odd numbers\n",
    "n = int(input(\"Enter n = \"))\n",
    "for i in range(n):\n",
    "    if i%2 ==0:\n",
    "        print('Even numbers',i)"
   ]
  }
 ],
 "metadata": {
  "kernelspec": {
   "display_name": "Python 3",
   "language": "python",
   "name": "python3"
  },
  "language_info": {
   "codemirror_mode": {
    "name": "ipython",
    "version": 3
   },
   "file_extension": ".py",
   "mimetype": "text/x-python",
   "name": "python",
   "nbconvert_exporter": "python",
   "pygments_lexer": "ipython3",
   "version": "3.8.8"
  }
 },
 "nbformat": 4,
 "nbformat_minor": 5
}
