{
 "cells": [
  {
   "cell_type": "code",
   "execution_count": 1,
   "id": "904e2210",
   "metadata": {},
   "outputs": [],
   "source": [
    "# python -m pip install mysql-connector\n",
    "\n",
    "import mysql.connector\n",
    "#importing database\n",
    "database = mysql.connector.connect(\n",
    "    host=\"localhost\",\n",
    "    user=\"root\",\n",
    "    password=\"\",\n",
    "    database = \"class3pm\"\n",
    ")\n",
    "db = database.cursor()"
   ]
  },
  {
   "cell_type": "code",
   "execution_count": 2,
   "id": "2db22e57",
   "metadata": {},
   "outputs": [],
   "source": [
    "#adding new row, hardcoding data\n",
    "sql = \"INSERT INTO profile (name,address,phone,class) VALUES ('Nabin','Kathmandu','9876323345',2)\"\n",
    "db.execute(sql)\n",
    "database.commit()   #change database -- commit()"
   ]
  },
  {
   "cell_type": "code",
   "execution_count": 3,
   "id": "c5f9de76",
   "metadata": {},
   "outputs": [
    {
     "name": "stdout",
     "output_type": "stream",
     "text": [
      "Enter n = 2\n",
      "Enter name = Hari\n",
      "Enter address = Lumbini\n",
      "Enter phone = 3332225555\n",
      "Enter class = 6\n",
      "Enter name = Shiva\n",
      "Enter address = Pokhara\n",
      "Enter phone = 4443332267\n",
      "Enter class = 5\n"
     ]
    }
   ],
   "source": [
    "#making data entry dynamic using for loop and string format\n",
    "n = int(input(\"Enter n = \"))\n",
    "for i in range(n):\n",
    "    name = input(\"Enter name = \")\n",
    "    add = input(\"Enter address = \")\n",
    "    phone = input(\"Enter phone = \")\n",
    "    clas = int(input(\"Enter class = \"))\n",
    "    \n",
    "    sql = f\"INSERT INTO profile (name,address,phone,class) VALUES ('{name}','{add}','{phone}',{clas})\"\n",
    "    db.execute(sql)\n",
    "database.commit() \n"
   ]
  },
  {
   "cell_type": "code",
   "execution_count": 4,
   "id": "48135c92",
   "metadata": {},
   "outputs": [
    {
     "name": "stdout",
     "output_type": "stream",
     "text": [
      "(1, 'Ram', 'Kathmandu', '9823322592', 1)\n",
      "(2, 'Shyam', 'Patan', '9992223456', 2)\n",
      "(3, 'Shyam', 'Bhojpur', '8882342234', 3)\n",
      "(4, 'Nabin', 'Bhojpur', '9879877789', 3)\n",
      "(5, 'Hari', 'Patan', '9993332345', 5)\n",
      "(6, 'Nabin', 'Kathmandu', '9876323345', 2)\n",
      "(7, 'Hari', 'Lumbini', '3332225555', 6)\n",
      "(8, 'Shiva', 'Pokhara', '4443332267', 5)\n"
     ]
    }
   ],
   "source": [
    "#show updated table\n",
    "db.execute(\"SELECT * FROM profile\")\n",
    "result = db.fetchall()\n",
    "for x in result:\n",
    "    print(x)"
   ]
  },
  {
   "cell_type": "code",
   "execution_count": null,
   "id": "c387ca39",
   "metadata": {},
   "outputs": [],
   "source": []
  }
 ],
 "metadata": {
  "kernelspec": {
   "display_name": "Python 3",
   "language": "python",
   "name": "python3"
  },
  "language_info": {
   "codemirror_mode": {
    "name": "ipython",
    "version": 3
   },
   "file_extension": ".py",
   "mimetype": "text/x-python",
   "name": "python",
   "nbconvert_exporter": "python",
   "pygments_lexer": "ipython3",
   "version": "3.8.8"
  }
 },
 "nbformat": 4,
 "nbformat_minor": 5
}
