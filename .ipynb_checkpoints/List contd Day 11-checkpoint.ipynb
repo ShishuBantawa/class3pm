{
 "cells": [
  {
   "cell_type": "code",
   "execution_count": null,
   "id": "6559acdd",
   "metadata": {},
   "outputs": [],
   "source": [
    "# List contd..\n",
    "# append() insert() extend()"
   ]
  },
  {
   "cell_type": "code",
   "execution_count": 1,
   "id": "72e0c259",
   "metadata": {},
   "outputs": [
    {
     "name": "stdout",
     "output_type": "stream",
     "text": [
      "['Apple']\n"
     ]
    }
   ],
   "source": [
    "a = []\n",
    "b = \"Apple\"\n",
    "a.append(b)\n",
    "print(a)"
   ]
  },
  {
   "cell_type": "code",
   "execution_count": 2,
   "id": "c7b9ff39",
   "metadata": {},
   "outputs": [
    {
     "name": "stdout",
     "output_type": "stream",
     "text": [
      "['Apple', 'Apple', 'Ball', 'Cat', 'Dog']\n"
     ]
    }
   ],
   "source": [
    "a = [\"Apple\",\"Ball\",\"Cat\",\"Dog\"]\n",
    "b = \"Apple\"\n",
    "a.insert(1,b)\n",
    "print(a)"
   ]
  },
  {
   "cell_type": "code",
   "execution_count": 3,
   "id": "9cbc07c3",
   "metadata": {},
   "outputs": [
    {
     "name": "stdout",
     "output_type": "stream",
     "text": [
      "['Apple', 'Ball', 'Cat', 'Dog', 'Fish', 'Goat']\n"
     ]
    }
   ],
   "source": [
    "a = [\"Apple\",\"Ball\",\"Cat\",\"Dog\"]\n",
    "b = [\"Fish\",\"Goat\"]\n",
    "a.extend(b)\n",
    "print(a)"
   ]
  },
  {
   "cell_type": "code",
   "execution_count": 5,
   "id": "8ef09850",
   "metadata": {},
   "outputs": [
    {
     "name": "stdout",
     "output_type": "stream",
     "text": [
      "Enter n = 2\n",
      "Enter name = Apple\n",
      "Enter name = Ball\n",
      "['Apple', 'Ball']\n"
     ]
    }
   ],
   "source": [
    "# WAP to make a list\n",
    "a = []\n",
    "n = int(input(\"Enter n = \"))\n",
    "for i in range(n):\n",
    "    x = input(\"Enter name = \")\n",
    "    # a = a+[name]\n",
    "    a.append(x)\n",
    "    \n",
    "print(a)"
   ]
  },
  {
   "cell_type": "code",
   "execution_count": 7,
   "id": "67c91ec8",
   "metadata": {},
   "outputs": [
    {
     "name": "stdout",
     "output_type": "stream",
     "text": [
      "0\n"
     ]
    }
   ],
   "source": [
    "# index()\n",
    "a = [\"Apple\",\"Ball\",\"Cat\",\"Dog\",\"Apple\"]\n",
    "print(a.index(\"Apple\"))"
   ]
  },
  {
   "cell_type": "code",
   "execution_count": 9,
   "id": "0cbc3b96",
   "metadata": {},
   "outputs": [
    {
     "name": "stdout",
     "output_type": "stream",
     "text": [
      "0\n",
      "4\n"
     ]
    }
   ],
   "source": [
    "# index()\n",
    "a = [\"Apple\",\"Ball\",\"Cat\",\"Dog\",\"Apple\"]\n",
    "for i in range(len(a)):\n",
    "    if a[i] == \"Apple\":\n",
    "        print(i)\n"
   ]
  },
  {
   "cell_type": "code",
   "execution_count": null,
   "id": "feee0fc9",
   "metadata": {},
   "outputs": [],
   "source": [
    "# del remove() pop()"
   ]
  },
  {
   "cell_type": "code",
   "execution_count": 10,
   "id": "29ccc3e4",
   "metadata": {},
   "outputs": [
    {
     "name": "stdout",
     "output_type": "stream",
     "text": [
      "['Ball', 'Cat', 'Dog', 'Apple']\n"
     ]
    }
   ],
   "source": [
    "a = [\"Apple\",\"Ball\",\"Cat\",\"Dog\",\"Apple\"]\n",
    "del a[0]\n",
    "print(a)"
   ]
  },
  {
   "cell_type": "code",
   "execution_count": 11,
   "id": "be8f831e",
   "metadata": {},
   "outputs": [
    {
     "name": "stdout",
     "output_type": "stream",
     "text": [
      "['Apple']\n"
     ]
    }
   ],
   "source": [
    "a = [\"Apple\",\"Ball\",\"Cat\",\"Dog\",\"Apple\"]\n",
    "del a[0:4]\n",
    "print(a)"
   ]
  },
  {
   "cell_type": "code",
   "execution_count": 12,
   "id": "75f584b3",
   "metadata": {},
   "outputs": [
    {
     "name": "stdout",
     "output_type": "stream",
     "text": [
      "['Apple', 'Cat', 'Dog', 'Apple']\n"
     ]
    }
   ],
   "source": [
    "a = [\"Apple\",\"Ball\",\"Cat\",\"Dog\",\"Apple\"]\n",
    "a.remove(\"Ball\")\n",
    "print(a)"
   ]
  },
  {
   "cell_type": "code",
   "execution_count": 13,
   "id": "5bba68d7",
   "metadata": {},
   "outputs": [
    {
     "name": "stdout",
     "output_type": "stream",
     "text": [
      "['Apple', 'Ball', 'Cat', 'Apple', 'Ball']\n"
     ]
    }
   ],
   "source": [
    "# pop()\n",
    "a = [\"Apple\",\"Ball\",\"Cat\",\"Dog\",\"Apple\",\"Ball\"]\n",
    "a.pop(3)\n",
    "print(a)"
   ]
  },
  {
   "cell_type": "code",
   "execution_count": 14,
   "id": "a9d58aa7",
   "metadata": {},
   "outputs": [
    {
     "name": "stdout",
     "output_type": "stream",
     "text": [
      "['Apple', 'Ball', 'Cat', 'Dog']\n"
     ]
    }
   ],
   "source": [
    "a = [\"Apple\",\"Ball\",\"Cat\",\"Dog\",\"Apple\"]\n",
    "a.pop()\n",
    "print(a)"
   ]
  },
  {
   "cell_type": "code",
   "execution_count": 17,
   "id": "577136ed",
   "metadata": {},
   "outputs": [
    {
     "name": "stdout",
     "output_type": "stream",
     "text": [
      "['Apple', 'Cat', 'Dog', 'Apple', 'Ball']\n"
     ]
    }
   ],
   "source": [
    "a = [\"Apple\",\"Ball\",\"Cat\",\"Dog\",\"Apple\",\"Ball\",\"Ball\"]\n",
    "for i in a:\n",
    "    if i == \"Ball\":\n",
    "        a.remove(\"Ball\")\n",
    "print(a)"
   ]
  },
  {
   "cell_type": "code",
   "execution_count": null,
   "id": "ea24190f",
   "metadata": {},
   "outputs": [],
   "source": [
    "# update()\n",
    "a = [\"Apple\",\"Ball\",\"Cat\",\"Dog\",\"Apple\",\"Ball\"]"
   ]
  },
  {
   "cell_type": "code",
   "execution_count": 20,
   "id": "a4129086",
   "metadata": {},
   "outputs": [
    {
     "name": "stdout",
     "output_type": "stream",
     "text": [
      "[[1, 2, 3], [4, 5, 6], [7, 8, 9]]\n",
      "[1, 2, 3]\n",
      "1\n",
      "<class 'list'>\n"
     ]
    }
   ],
   "source": [
    "# list inside list\n",
    "a = [[1,2,3],[4,5,6],[7,8,9]]\n",
    "print(a)\n",
    "print(a[0])\n",
    "print(a[0][0])\n",
    "print(type(a))"
   ]
  },
  {
   "cell_type": "code",
   "execution_count": 21,
   "id": "1a56ee15",
   "metadata": {},
   "outputs": [
    {
     "name": "stdout",
     "output_type": "stream",
     "text": [
      "Enter n = 2\n",
      "ENter name = Ram\n",
      "Enter age = 40\n",
      "Enter add = Katm\n",
      "ENter name = Shyam\n",
      "Enter age = 34\n",
      "Enter add = Pokhara\n",
      "[['Ram', '40', 'Katm'], ['Shyam', '34', 'Pokhara']]\n"
     ]
    }
   ],
   "source": [
    "# WAP to make a list\n",
    "a = []\n",
    "n = int(input(\"Enter n = \"))\n",
    "for i in range(n):\n",
    "    name = input(\"Enter name = \")\n",
    "    age = input(\"Enter age = \")\n",
    "    add = input(\"Enter add = \")\n",
    "    a.append([name,age,add])\n",
    "print(a)"
   ]
  }
 ],
 "metadata": {
  "kernelspec": {
   "display_name": "Python 3",
   "language": "python",
   "name": "python3"
  },
  "language_info": {
   "codemirror_mode": {
    "name": "ipython",
    "version": 3
   },
   "file_extension": ".py",
   "mimetype": "text/x-python",
   "name": "python",
   "nbconvert_exporter": "python",
   "pygments_lexer": "ipython3",
   "version": "3.8.8"
  }
 },
 "nbformat": 4,
 "nbformat_minor": 5
}
