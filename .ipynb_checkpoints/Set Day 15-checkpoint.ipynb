{
 "cells": [
  {
   "cell_type": "code",
   "execution_count": null,
   "id": "75035446",
   "metadata": {},
   "outputs": [],
   "source": [
    "# Set\n",
    "# -Non Indexed\n",
    "# -Unordered \n",
    "# -No Duplicate\n",
    "# -Mutable"
   ]
  },
  {
   "cell_type": "code",
   "execution_count": 1,
   "id": "e414a820",
   "metadata": {},
   "outputs": [
    {
     "name": "stdout",
     "output_type": "stream",
     "text": [
      "{'Ball', 'Apple', 'Cat'}\n"
     ]
    }
   ],
   "source": [
    "a = set()\n",
    "b = {\"Apple\",\"Ball\",\"Cat\"}\n",
    "print(b)"
   ]
  },
  {
   "cell_type": "code",
   "execution_count": 4,
   "id": "a96891cd",
   "metadata": {},
   "outputs": [
    {
     "name": "stdout",
     "output_type": "stream",
     "text": [
      "{1, 2, 3, 5, 6, 8}\n"
     ]
    }
   ],
   "source": [
    "#No Duplicate\n",
    "a = {1,2,1,1,1,2,2,3,3,5,6,8,8}\n",
    "print(a)"
   ]
  },
  {
   "cell_type": "code",
   "execution_count": 5,
   "id": "c91380b3",
   "metadata": {},
   "outputs": [
    {
     "name": "stdout",
     "output_type": "stream",
     "text": [
      "Enter n = 5\n",
      "Enter name = 1\n",
      "Enter name = 1\n",
      "Enter name = 2\n",
      "Enter name = 2\n",
      "Enter name = 3\n",
      "{'3', '2', '1'}\n"
     ]
    }
   ],
   "source": [
    "# WAP to make a set\n",
    "a = set()\n",
    "n = int(input(\"Enter n = \"))\n",
    "for i in range(n):\n",
    "    name = input(\"Enter name = \")\n",
    "    a.add(name)\n",
    "\n",
    "print(a)"
   ]
  },
  {
   "cell_type": "code",
   "execution_count": 6,
   "id": "29cfc53c",
   "metadata": {},
   "outputs": [
    {
     "name": "stdout",
     "output_type": "stream",
     "text": [
      "{'Ball', 'Cat', 'Bat', 'Tomato', 'zebra', 'Apple'}\n"
     ]
    }
   ],
   "source": [
    "# Update\n",
    "a = {\"Ball\",\"Apple\",\"zebra\",\"Tomato\"}\n",
    "b = {\"Cat\",\"Bat\"}\n",
    "a.update(b)\n",
    "print(a)"
   ]
  },
  {
   "cell_type": "code",
   "execution_count": 7,
   "id": "f0de07a0",
   "metadata": {},
   "outputs": [
    {
     "data": {
      "text/plain": [
       "{'Apple', 'Ball', 'Bat', 'Cat', 'Tomato', 'zebra'}"
      ]
     },
     "execution_count": 7,
     "metadata": {},
     "output_type": "execute_result"
    }
   ],
   "source": [
    "# Union\n",
    "a = {\"Ball\",\"Apple\",\"zebra\",\"Tomato\"}\n",
    "b = {\"Cat\",\"Bat\"}\n",
    "a.union(b)"
   ]
  },
  {
   "cell_type": "code",
   "execution_count": 8,
   "id": "436414bc",
   "metadata": {},
   "outputs": [
    {
     "name": "stdout",
     "output_type": "stream",
     "text": [
      "Ball\n",
      "Tomato\n",
      "Apple\n",
      "zebra\n"
     ]
    }
   ],
   "source": [
    "for i in a:\n",
    "    print(i)"
   ]
  },
  {
   "cell_type": "code",
   "execution_count": 10,
   "id": "bb7f0b1b",
   "metadata": {},
   "outputs": [
    {
     "name": "stdout",
     "output_type": "stream",
     "text": [
      "{'zebra', 'Apple', 'Ball', 'Tomato', 'Fish'}\n"
     ]
    }
   ],
   "source": [
    "a = {\"Ball\",\"Apple\",\"zebra\",\"Tomato\"}\n",
    "a.add(\"Fish\")\n",
    "print(a)"
   ]
  },
  {
   "cell_type": "code",
   "execution_count": 11,
   "id": "ed4dee18",
   "metadata": {},
   "outputs": [
    {
     "name": "stdout",
     "output_type": "stream",
     "text": [
      "{'zebra', 'Ball', 'Tomato', 'Fish'}\n"
     ]
    }
   ],
   "source": [
    "a.remove(\"Apple\")\n",
    "print(a)"
   ]
  },
  {
   "cell_type": "code",
   "execution_count": 15,
   "id": "e01d0b09",
   "metadata": {},
   "outputs": [
    {
     "name": "stdout",
     "output_type": "stream",
     "text": [
      "['Ball', 'Tomato', 'Apple', 'zebra']\n"
     ]
    },
    {
     "data": {
      "text/plain": [
       "{'Apple', 'Ball', 'Tomato', 'zebra'}"
      ]
     },
     "execution_count": 15,
     "metadata": {},
     "output_type": "execute_result"
    }
   ],
   "source": [
    "# set to list to set\n",
    "a = {\"Ball\",\"Apple\",\"zebra\",\"Tomato\"}\n",
    "b = list(a)\n",
    "print(b)\n",
    "set(b)"
   ]
  },
  {
   "cell_type": "code",
   "execution_count": 24,
   "id": "032aa6ef",
   "metadata": {},
   "outputs": [
    {
     "name": "stdout",
     "output_type": "stream",
     "text": [
      "{'Ram', 'Shyam', 'Nita', 'Nabin', 'Sita'}\n",
      "{'Ram', 'Nabin'}\n"
     ]
    }
   ],
   "source": [
    "a = {\"Ram\",\"Shyam\",\"Nabin\",\"Sita\"}\n",
    "b = {\"Ram\",\"Nabin\",\"Nita\"}\n",
    "print(a.union(b))\n",
    "print(a.intersection(b))"
   ]
  },
  {
   "cell_type": "code",
   "execution_count": 22,
   "id": "8f8cb87b",
   "metadata": {},
   "outputs": [
    {
     "data": {
      "text/plain": [
       "{'Nabin', 'Ram'}"
      ]
     },
     "execution_count": 22,
     "metadata": {},
     "output_type": "execute_result"
    }
   ],
   "source": [
    "# intersection\n",
    "a = {\"Ram\",\"Shyam\",\"Nabin\",\"Sita\"}\n",
    "b = {\"Ram\",\"Nabin\",\"Nita\"}\n",
    "a.intersection(b)"
   ]
  },
  {
   "cell_type": "code",
   "execution_count": 28,
   "id": "c89cfe22",
   "metadata": {},
   "outputs": [
    {
     "name": "stdout",
     "output_type": "stream",
     "text": [
      "{'Shyam', 'Sita'}\n",
      "{'Nita'}\n"
     ]
    }
   ],
   "source": [
    "# difference\n",
    "a = {\"Ram\",\"Shyam\",\"Nabin\",\"Sita\"}\n",
    "b = {\"Ram\",\"Nabin\",\"Nita\"}\n",
    "print(a.difference(b))\n",
    "print(b.difference(a))"
   ]
  },
  {
   "cell_type": "code",
   "execution_count": 30,
   "id": "1cc9ab3b",
   "metadata": {},
   "outputs": [
    {
     "name": "stdout",
     "output_type": "stream",
     "text": [
      "{'Ram', 'Shyam', 'Nita', 'Nabin', 'Sita'}\n",
      "{'Ram'}\n"
     ]
    }
   ],
   "source": [
    "a = {\"Ram\",\"Shyam\",\"Nabin\",\"Sita\"}\n",
    "b = {\"Ram\",\"Nabin\",\"Nita\"}\n",
    "c = {\"Ram\"}\n",
    "print(a.union(b,c))\n",
    "print(a.intersection(b,c))"
   ]
  },
  {
   "cell_type": "code",
   "execution_count": 32,
   "id": "047f05d5",
   "metadata": {},
   "outputs": [
    {
     "name": "stdout",
     "output_type": "stream",
     "text": [
      "{'Nabin'}\n"
     ]
    }
   ],
   "source": [
    "a = {\"Ram\",\"Shyam\",\"Nabin\",\"Sita\"}\n",
    "b = {\"Ram\",\"Nabin\",\"Nita\"}\n",
    "c = {\"Ram\",\"Gita\"}\n",
    "ab = a.intersection(b)\n",
    "x = ab.difference(c)\n",
    "print(x)"
   ]
  },
  {
   "cell_type": "code",
   "execution_count": 36,
   "id": "6ed19d61",
   "metadata": {},
   "outputs": [
    {
     "name": "stdout",
     "output_type": "stream",
     "text": [
      "{'Ram', 'Sita', 'Hari'}\n",
      "{'Gita', 'Shyam'}\n"
     ]
    }
   ],
   "source": [
    "engineers = {\"Ram\",\"Shyam\",\"Hari\",\"Sita\",\"Gita\"}\n",
    "company1 = {\"Ram\",\"Hari\"}\n",
    "company2 = {\"Sita\",\"Ram\"}\n",
    "employed = company1.union(company2)\n",
    "print(employed)\n",
    "unemployed = engineers.difference(employed)\n",
    "print(unemployed)"
   ]
  },
  {
   "cell_type": "code",
   "execution_count": 40,
   "id": "579eb945",
   "metadata": {},
   "outputs": [
    {
     "name": "stdout",
     "output_type": "stream",
     "text": [
      "False\n",
      "True\n",
      "False\n",
      "True\n"
     ]
    }
   ],
   "source": [
    "a = {1,2,3,4,5,6,7,8,9,0}\n",
    "b = {2,4,6,8,0}\n",
    "print(b.issuperset(a))\n",
    "print(b.issubset(a))\n",
    "print(a.issubset(b))\n",
    "print(b.issubset(a))"
   ]
  },
  {
   "cell_type": "code",
   "execution_count": 41,
   "id": "7400a428",
   "metadata": {},
   "outputs": [
    {
     "name": "stdout",
     "output_type": "stream",
     "text": [
      "{0, 1, 2, 3, 33, 5, 6, 7, 9}\n"
     ]
    }
   ],
   "source": [
    "a = [1,1,1,1,2,2,2,3,3,33,5,5,5,6,6,6,6,7,7,9,0,0,0]\n",
    "print(set(a))"
   ]
  }
 ],
 "metadata": {
  "kernelspec": {
   "display_name": "Python 3",
   "language": "python",
   "name": "python3"
  },
  "language_info": {
   "codemirror_mode": {
    "name": "ipython",
    "version": 3
   },
   "file_extension": ".py",
   "mimetype": "text/x-python",
   "name": "python",
   "nbconvert_exporter": "python",
   "pygments_lexer": "ipython3",
   "version": "3.8.8"
  }
 },
 "nbformat": 4,
 "nbformat_minor": 5
}
