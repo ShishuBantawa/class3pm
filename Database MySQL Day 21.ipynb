{
 "cells": [
  {
   "cell_type": "code",
   "execution_count": 3,
   "id": "97a63f99",
   "metadata": {},
   "outputs": [
    {
     "name": "stdout",
     "output_type": "stream",
     "text": [
      "Enter n = 1\n",
      "name = Bishnu\n",
      "Roll = 9\n",
      "Physics = 78\n",
      "Chemistry = 75\n",
      "Math = 60\n",
      "English = 50\n",
      "Nepali = 50\n",
      "1 record inserted.\n"
     ]
    }
   ],
   "source": [
    "import mysql.connector\n",
    "#importing database\n",
    "database = mysql.connector.connect(\n",
    "    host=\"localhost\",\n",
    "    user=\"root\",\n",
    "    password=\"\",\n",
    "    database=\"student\"\n",
    ")\n",
    "db = database.cursor()\n",
    "\n",
    "n = int(input(\"Enter n = \"))\n",
    "for i in range(n):\n",
    "    name = input(\"name = \")\n",
    "    roll = int(input(\"Roll = \"))\n",
    "    physics = int(input(\"Physics = \"))\n",
    "    chemistry = int(input(\"Chemistry = \"))\n",
    "    math = int(input(\"Math = \"))\n",
    "    english = int(input(\"English = \"))\n",
    "    nepali = int(input(\"Nepali = \"))\n",
    "    total = sum([physics,chemistry,math,english,nepali])\n",
    "    per = total/5\n",
    "    if per>=80:\n",
    "        grade = \"A\"\n",
    "    elif per>=60:\n",
    "        grade = \"B\"\n",
    "    elif per>=45:\n",
    "        grade = \"C\"\n",
    "    else:\n",
    "        grade = \"F\"\n",
    "    \n",
    "    sql = f\"INSERT INTO python_student(Name, Roll, Physics, Chemistry, Math, English, Nepali, Total, Percentage, Grade) VALUES ('{name}',{roll},{physics},{chemistry},{math},{english},{nepali},{total},{per},'{grade}')\"\n",
    "    db.execute(sql)\n",
    "\n",
    "database.commit()\n",
    "print(db.rowcount, \"record inserted.\")"
   ]
  },
  {
   "cell_type": "code",
   "execution_count": 8,
   "id": "aa94163f",
   "metadata": {},
   "outputs": [],
   "source": [
    "# Update MySQL\n",
    "import mysql.connector\n",
    "database = mysql.connector.connect(\n",
    "    host=\"localhost\",\n",
    "    user=\"root\",\n",
    "    password=\"\",\n",
    "    database=\"student\"\n",
    ")\n",
    "mycursor = database.cursor()\n",
    "\n",
    "sql = \"UPDATE python_student SET name = 'Ram Prasad' WHERE Name = 'Ram'\"\n",
    "mycursor.execute(sql)\n",
    "database.commit()"
   ]
  },
  {
   "cell_type": "code",
   "execution_count": null,
   "id": "ef4f2096",
   "metadata": {},
   "outputs": [],
   "source": [
    "import mysql.connector\n",
    "db = mysql.connector.connect(\n",
    "    host=\"localhost\",\n",
    "    user=\"root\",\n",
    "    password=\"\",\n",
    "    database=\"student\"\n",
    ")\n",
    "\n",
    "mycursor = db.cursor()\n",
    "mycursor.execute(\"SELECT Total,Percentage,Grade,Physics FROM python_student WHERE Roll = 1\")\n",
    "result = mycursor.fetchall()\n",
    "data = result[0]\n",
    "total,per,grade,physics = data\n",
    "subject = input(\"Enter Subject = \")\n",
    "new_physics  = int(input(\"Enter new marks = \"))\n",
    "difference = new_physics-physics\n",
    "new_total = total+difference\n",
    "new_per = new_total/5\n",
    "\n",
    "if new_per>=80:\n",
    "    new_grade = \"A\"\n",
    "elif new_per>=60:\n",
    "    new_grade = \"B\"\n",
    "elif new_per>=45:\n",
    "    new_grade = \"C\"\n",
    "else:\n",
    "    new_grade =\"F\""
   ]
  }
 ],
 "metadata": {
  "kernelspec": {
   "display_name": "Python 3",
   "language": "python",
   "name": "python3"
  },
  "language_info": {
   "codemirror_mode": {
    "name": "ipython",
    "version": 3
   },
   "file_extension": ".py",
   "mimetype": "text/x-python",
   "name": "python",
   "nbconvert_exporter": "python",
   "pygments_lexer": "ipython3",
   "version": "3.8.8"
  }
 },
 "nbformat": 4,
 "nbformat_minor": 5
}
