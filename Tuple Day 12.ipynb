{
 "cells": [
  {
   "cell_type": "code",
   "execution_count": null,
   "id": "81bbe945",
   "metadata": {},
   "outputs": [],
   "source": [
    "# # Tuple\n",
    "# -Indexed\n",
    "# -Ordered\n",
    "# -Duplicate Members\n",
    "# -Imutable"
   ]
  },
  {
   "cell_type": "code",
   "execution_count": 1,
   "id": "82cb8891",
   "metadata": {},
   "outputs": [
    {
     "name": "stdout",
     "output_type": "stream",
     "text": [
      "<class 'tuple'>\n"
     ]
    }
   ],
   "source": [
    "a = (\"Apple\",\"Ball\",\"Cat\",\"Dog\")\n",
    "print(type(a))"
   ]
  },
  {
   "cell_type": "code",
   "execution_count": 2,
   "id": "bbdb1917",
   "metadata": {},
   "outputs": [
    {
     "name": "stdout",
     "output_type": "stream",
     "text": [
      "<class 'str'>\n",
      "<class 'tuple'>\n"
     ]
    }
   ],
   "source": [
    "a = (\"Apple\")\n",
    "print(type(a))\n",
    "a = (\"Apple\",)\n",
    "print(type(a))"
   ]
  },
  {
   "cell_type": "code",
   "execution_count": 3,
   "id": "1e8eb0f0",
   "metadata": {},
   "outputs": [
    {
     "name": "stdout",
     "output_type": "stream",
     "text": [
      "Apple\n",
      "('Apple', 'Ball', 'Cat')\n",
      "('Apple', 'Cat')\n"
     ]
    }
   ],
   "source": [
    "a = (\"Apple\",\"Ball\",\"Cat\",\"Dog\")\n",
    "print(a[0])\n",
    "print(a[0:3])\n",
    "print(a[0:100:2])"
   ]
  },
  {
   "cell_type": "code",
   "execution_count": 5,
   "id": "f8d1d352",
   "metadata": {},
   "outputs": [
    {
     "name": "stdout",
     "output_type": "stream",
     "text": [
      "('Apple', 'Ball', 'Cat', 'Dog', 'Fish')\n"
     ]
    }
   ],
   "source": [
    "a = (\"Apple\",\"Ball\",\"Cat\",\"Dog\")\n",
    "b = (\"Fish\",)\n",
    "c = a+b\n",
    "print(c)"
   ]
  },
  {
   "cell_type": "code",
   "execution_count": 6,
   "id": "20db3bb0",
   "metadata": {},
   "outputs": [
    {
     "data": {
      "text/plain": [
       "('Apple', 'Ball', 'Apple')"
      ]
     },
     "execution_count": 6,
     "metadata": {},
     "output_type": "execute_result"
    }
   ],
   "source": [
    "a = (\"Apple\",\"Ball\",\"Cat\",\"Dog\",\"Apple\")\n",
    "a[0:2] + a[4:]"
   ]
  },
  {
   "cell_type": "code",
   "execution_count": 7,
   "id": "5b4c2db7",
   "metadata": {},
   "outputs": [],
   "source": [
    "# Can't use on Tuple -- del remove() pop() sort() reverse() append() insert() extend()"
   ]
  },
  {
   "cell_type": "code",
   "execution_count": 8,
   "id": "95633a9b",
   "metadata": {},
   "outputs": [
    {
     "name": "stdout",
     "output_type": "stream",
     "text": [
      "Yes\n"
     ]
    }
   ],
   "source": [
    "a = (\"Apple\",\"Ball\",\"Cat\",\"Dog\")\n",
    "if \"Apple\" in a:\n",
    "    print(\"Yes\")"
   ]
  },
  {
   "cell_type": "code",
   "execution_count": 9,
   "id": "af281045",
   "metadata": {},
   "outputs": [
    {
     "name": "stdout",
     "output_type": "stream",
     "text": [
      "Apple\n",
      "Ball\n",
      "Cat\n",
      "Dog\n"
     ]
    }
   ],
   "source": [
    "a = (\"Apple\",\"Ball\",\"Cat\",\"Dog\")\n",
    "for i in a:\n",
    "    print(i)"
   ]
  },
  {
   "cell_type": "code",
   "execution_count": 10,
   "id": "d4dc9ee1",
   "metadata": {},
   "outputs": [
    {
     "name": "stdout",
     "output_type": "stream",
     "text": [
      "['Apple', 'Apple', 'Ball', 'Cat', 'Dog']\n"
     ]
    }
   ],
   "source": [
    "a = (\"Apple\",\"Ball\",\"Cat\",\"Dog\",\"Apple\")\n",
    "b = sorted(a)\n",
    "print(b)\n"
   ]
  },
  {
   "cell_type": "code",
   "execution_count": 13,
   "id": "afff11a7",
   "metadata": {},
   "outputs": [
    {
     "name": "stdout",
     "output_type": "stream",
     "text": [
      "('Apple', 'Ball', 'Dog', 'Apple')\n"
     ]
    }
   ],
   "source": [
    "a = (\"Apple\",\"Ball\",\"Cat\",\"Dog\", \"Apple\")\n",
    "b = list(a)\n",
    "del b[2]\n",
    "a = tuple(b)\n",
    "print(a)"
   ]
  },
  {
   "cell_type": "code",
   "execution_count": 14,
   "id": "f699b2c7",
   "metadata": {},
   "outputs": [
    {
     "data": {
      "text/plain": [
       "['Apple', 'Apple', 'Ball', 'Cat', 'Dog']"
      ]
     },
     "execution_count": 14,
     "metadata": {},
     "output_type": "execute_result"
    }
   ],
   "source": [
    "a = (\"Apple\",\"Ball\",\"Cat\",\"Dog\", \"Apple\")\n",
    "sorted(a)"
   ]
  },
  {
   "cell_type": "code",
   "execution_count": 16,
   "id": "5e3a6fda",
   "metadata": {},
   "outputs": [
    {
     "name": "stdout",
     "output_type": "stream",
     "text": [
      "((1, 2, 3), (4, 5, 6))\n"
     ]
    }
   ],
   "source": [
    "x = ()\n",
    "a = (1,2,3)\n",
    "b = (4,5,6)\n",
    "c = x+(a,)+(b,)\n",
    "print(c)"
   ]
  },
  {
   "cell_type": "code",
   "execution_count": 17,
   "id": "0c46ae93",
   "metadata": {},
   "outputs": [
    {
     "name": "stdout",
     "output_type": "stream",
     "text": [
      "Enter n = 2\n",
      "Enter name = Ram\n",
      "Enter age = 77\n",
      "Enter add = Ktm\n",
      "Enter name = Shyam\n",
      "Enter age = 44\n",
      "Enter add = Bhaktapur\n",
      "(('Ram', '77', 'Ktm'), ('Shyam', '44', 'Bhaktapur'))\n"
     ]
    }
   ],
   "source": [
    "# WAP to make a tuple\n",
    "a = ()\n",
    "n = int(input(\"Enter n = \"))\n",
    "for i in range(n):\n",
    "    name = input(\"Enter name = \")\n",
    "    age = input(\"Enter age = \")\n",
    "    add = input(\"Enter add = \")\n",
    "    a = a+((name,age,add),)\n",
    "print(a)"
   ]
  },
  {
   "cell_type": "code",
   "execution_count": 18,
   "id": "bf1b0211",
   "metadata": {},
   "outputs": [
    {
     "name": "stdout",
     "output_type": "stream",
     "text": [
      "Enter name = Ram\n",
      "('Ram', '77', 'Ktm')\n"
     ]
    }
   ],
   "source": [
    "a = (('Ram', '77', 'Ktm'), ('Shyam', '44', 'Bhaktapur'))\n",
    "name = input(\"Enter name = \")\n",
    "for i in a:\n",
    "    if name in i:\n",
    "        print(i)"
   ]
  },
  {
   "cell_type": "code",
   "execution_count": 19,
   "id": "52ff70bd",
   "metadata": {},
   "outputs": [
    {
     "name": "stdout",
     "output_type": "stream",
     "text": [
      "[('Ram', '77', 'Ktm'), ('Shyam', '44', 'Bhaktapur')]\n"
     ]
    }
   ],
   "source": [
    "# tuple() to list[]\n",
    "a = (('Ram', '77', 'Ktm'), ('Shyam', '44', 'Bhaktapur'))\n",
    "b = list(a)\n",
    "print(b)"
   ]
  },
  {
   "cell_type": "code",
   "execution_count": 20,
   "id": "9fb5f68c",
   "metadata": {},
   "outputs": [
    {
     "name": "stdout",
     "output_type": "stream",
     "text": [
      "[('Ram', '77', 'Ktm'), ('Shyam', '44', 'Bhaktapur'), ('Hari', '34', 'Patan')]\n"
     ]
    }
   ],
   "source": [
    "# tuple inside list\n",
    "a = [('Ram', '77', 'Ktm'), ('Shyam', '44', 'Bhaktapur')]\n",
    "a.append((\"Hari\",\"34\",\"Patan\"))\n",
    "print(a)"
   ]
  },
  {
   "cell_type": "code",
   "execution_count": 21,
   "id": "ca6fe8bd",
   "metadata": {},
   "outputs": [
    {
     "name": "stdout",
     "output_type": "stream",
     "text": [
      "[('Ram', '77', 'Ktm'), ('Shyam', '44', 'Bhaktapur')]\n"
     ]
    }
   ],
   "source": [
    "# delete\n",
    "a = [('Ram', '77', 'Ktm'), ('Shyam', '44', 'Bhaktapur'), ('Hari', '34', 'Patan')]\n",
    "del a[-1]\n",
    "print(a)"
   ]
  },
  {
   "cell_type": "code",
   "execution_count": 22,
   "id": "e475defd",
   "metadata": {},
   "outputs": [
    {
     "data": {
      "text/plain": [
       "'Ram'"
      ]
     },
     "execution_count": 22,
     "metadata": {},
     "output_type": "execute_result"
    }
   ],
   "source": [
    "[('Ram', '77', 'Ktm'), ('Shyam', '44', 'Bhaktapur'), ('Hari', '34', 'Patan')]\n",
    "a[0][0]"
   ]
  },
  {
   "cell_type": "code",
   "execution_count": 23,
   "id": "febf1651",
   "metadata": {},
   "outputs": [
    {
     "name": "stdout",
     "output_type": "stream",
     "text": [
      "[['Ram', '77', 'Ktm'], ['Shyam', '44', 'Bhaktapur'], ['Hari', '34', 'Patan']]\n"
     ]
    }
   ],
   "source": [
    "z = []\n",
    "a =(('Ram', '77', 'Ktm'), ('Shyam', '44', 'Bhaktapur'), ('Hari', '34', 'Patan'))\n",
    "b = list(a)\n",
    "for i in b:\n",
    "    z.append(list(i))\n",
    "print(z)\n"
   ]
  },
  {
   "cell_type": "code",
   "execution_count": 24,
   "id": "fddb40c8",
   "metadata": {},
   "outputs": [
    {
     "name": "stdout",
     "output_type": "stream",
     "text": [
      "(1000, 3000)\n"
     ]
    }
   ],
   "source": [
    "# values returned as tuple\n",
    "def cal():\n",
    "    l = 100\n",
    "    b = 10\n",
    "    h = 3\n",
    "    a = l*b\n",
    "    v = a*h\n",
    "    return a,v\n",
    "\n",
    "print(cal())"
   ]
  },
  {
   "cell_type": "code",
   "execution_count": 25,
   "id": "cef7d05d",
   "metadata": {},
   "outputs": [
    {
     "name": "stdout",
     "output_type": "stream",
     "text": [
      "1000\n",
      "3000\n"
     ]
    }
   ],
   "source": [
    "area = cal()[0]\n",
    "print(area)\n",
    "volume = cal()[1]\n",
    "print(volume)"
   ]
  },
  {
   "cell_type": "code",
   "execution_count": 27,
   "id": "1f889413",
   "metadata": {},
   "outputs": [
    {
     "name": "stdout",
     "output_type": "stream",
     "text": [
      "Enter row = 3\n",
      "Enter col = 3\n",
      "Enter x = 1\n",
      "Enter x = 2\n",
      "Enter x = 3\n",
      "Enter x = 4\n",
      "Enter x = 5\n",
      "Enter x = 6\n",
      "Enter x = 7\n",
      "Enter x = 8\n",
      "Enter x = 9\n",
      "((1, 2, 3), (4, 5, 6), (7, 8, 9))\n"
     ]
    }
   ],
   "source": [
    "# WAP to make a matrix using tuple\n",
    "t = ()\n",
    "r = int(input(\"Enter row = \"))\n",
    "c = int(input(\"Enter col = \"))\n",
    "for i in range(r):\n",
    "    z = ()\n",
    "    for j in range(c):\n",
    "        x = int(input(\"Enter x = \"))\n",
    "        z = z+(x,)\n",
    "    t = t+(z,)\n",
    "\n",
    "print(t)"
   ]
  }
 ],
 "metadata": {
  "kernelspec": {
   "display_name": "Python 3",
   "language": "python",
   "name": "python3"
  },
  "language_info": {
   "codemirror_mode": {
    "name": "ipython",
    "version": 3
   },
   "file_extension": ".py",
   "mimetype": "text/x-python",
   "name": "python",
   "nbconvert_exporter": "python",
   "pygments_lexer": "ipython3",
   "version": "3.8.8"
  }
 },
 "nbformat": 4,
 "nbformat_minor": 5
}
