{
 "cells": [
  {
   "cell_type": "code",
   "execution_count": 16,
   "id": "3f52ecb6",
   "metadata": {},
   "outputs": [
    {
     "name": "stdout",
     "output_type": "stream",
     "text": [
      "(1, 'Ram Prasad', 1, 78, 76, 89, 78, 98, 460, 83.0, 'A')\n",
      "(2, 'Ram Bahadur', 2, 77, 89, 77, 65, 87, 490, 87.0, 'A')\n",
      "(3, 'Shyam Bahadur', 3, 77, 89, 77, 65, 87, 490, 87.0, 'A')\n",
      "(4, 'Sita', 4, 88, 89, 90, 87, 68, 500, 92.0, 'A')\n"
     ]
    }
   ],
   "source": [
    "import mysql.connector\n",
    "#importing database\n",
    "database = mysql.connector.connect(\n",
    "    host=\"localhost\",\n",
    "    user=\"root\",\n",
    "    password=\"\",\n",
    "    database=\"student\"\n",
    ")\n",
    "db = database.cursor()\n",
    "\n",
    "db.execute(\"SELECT * FROM python_student\")\n",
    "result = db.fetchall()\n",
    "for x in result:\n",
    "    print(x)"
   ]
  },
  {
   "cell_type": "code",
   "execution_count": 17,
   "id": "a810dad1",
   "metadata": {},
   "outputs": [
    {
     "name": "stdout",
     "output_type": "stream",
     "text": [
      "(1, 'Ram Prasad', 'A')\n",
      "(2, 'Ram Bahadur', 'A')\n",
      "(3, 'Shyam Bahadur', 'A')\n",
      "(4, 'Sita', 'A')\n"
     ]
    }
   ],
   "source": [
    "db.execute(\"SELECT Sn,Name,Grade FROM python_student\")\n",
    "result = db.fetchall()\n",
    "for x in result:\n",
    "    print(x)"
   ]
  },
  {
   "cell_type": "code",
   "execution_count": 24,
   "id": "7a6cd460",
   "metadata": {},
   "outputs": [
    {
     "name": "stdout",
     "output_type": "stream",
     "text": [
      "1 row inserted\n"
     ]
    }
   ],
   "source": [
    "import mysql.connector\n",
    "database = mysql.connector.connect(\n",
    "    host=\"localhost\",\n",
    "    user=\"root\",\n",
    "    password=\"\",\n",
    "    database=\"student\"\n",
    ")\n",
    "db = database.cursor()\n",
    "\n",
    "sql =\"INSERT INTO python_student(Name,Roll,Physics,Chemistry,Math,English,Nepali,Total,Percentage,Grade) VALUES ('Gita',7,88,89,90,87,68,500,92,'A')\"\n",
    "db.execute(sql)\n",
    "database.commit()\n",
    "print(db.rowcount,\"row inserted\")"
   ]
  },
  {
   "cell_type": "code",
   "execution_count": 3,
   "id": "7c449da6",
   "metadata": {},
   "outputs": [
    {
     "name": "stdout",
     "output_type": "stream",
     "text": [
      "Enter n = 1\n",
      "name = Hari\n",
      "Roll = 9\n",
      "Physics = 88\n",
      "Chemistry = 88\n",
      "Math = 88\n",
      "English = 88\n",
      "Nepali = 88\n",
      "Total = 88\n",
      "Percentage = 88\n",
      "Grade = A\n"
     ]
    },
    {
     "ename": "NameError",
     "evalue": "name 'roll' is not defined",
     "output_type": "error",
     "traceback": [
      "\u001b[1;31m---------------------------------------------------------------------------\u001b[0m",
      "\u001b[1;31mNameError\u001b[0m                                 Traceback (most recent call last)",
      "\u001b[1;32m<ipython-input-3-5b17e65882e2>\u001b[0m in \u001b[0;36m<module>\u001b[1;34m\u001b[0m\n\u001b[0;32m     12\u001b[0m     \u001b[0mGrade\u001b[0m \u001b[1;33m=\u001b[0m \u001b[0minput\u001b[0m\u001b[1;33m(\u001b[0m\u001b[1;34m\"Grade = \"\u001b[0m\u001b[1;33m)\u001b[0m\u001b[1;33m\u001b[0m\u001b[1;33m\u001b[0m\u001b[0m\n\u001b[0;32m     13\u001b[0m \u001b[1;33m\u001b[0m\u001b[0m\n\u001b[1;32m---> 14\u001b[1;33m     \u001b[0msql\u001b[0m \u001b[1;33m=\u001b[0m \u001b[1;34mf\"INSERT INTO python_student(Name, Roll, Physics, Chemistry, Math, English, Nepali, Total, Percentage, Grade) VALUES ('{name}',{roll},{physics},{chemistry},{math},{nepali},{total},{per},'{grade}')\"\u001b[0m\u001b[1;33m\u001b[0m\u001b[1;33m\u001b[0m\u001b[0m\n\u001b[0m\u001b[0;32m     15\u001b[0m     \u001b[0mdb\u001b[0m\u001b[1;33m.\u001b[0m\u001b[0mexecute\u001b[0m\u001b[1;33m(\u001b[0m\u001b[0msql\u001b[0m\u001b[1;33m)\u001b[0m\u001b[1;33m\u001b[0m\u001b[1;33m\u001b[0m\u001b[0m\n\u001b[0;32m     16\u001b[0m \u001b[1;33m\u001b[0m\u001b[0m\n",
      "\u001b[1;31mNameError\u001b[0m: name 'roll' is not defined"
     ]
    }
   ],
   "source": [
    "n = int(input(\"Enter n = \"))\n",
    "for i in range(n):\n",
    "    name = input(\"name = \")\n",
    "    Roll = int(input(\"Roll = \"))\n",
    "    Physics = int(input(\"Physics = \"))\n",
    "    Chemistry = int(input(\"Chemistry = \"))\n",
    "    Math = int(input(\"Math = \"))\n",
    "    English = int(input(\"English = \"))\n",
    "    Nepali = int(input(\"Nepali = \"))\n",
    "    Total = int(input(\"Total = \"))\n",
    "    Percentage = int(input(\"Percentage = \"))\n",
    "    Grade = input(\"Grade = \")\n",
    "    \n",
    "    sql = f\"INSERT INTO python_student(Name, Roll, Physics, Chemistry, Math, English, Nepali, Total, Percentage, Grade) VALUES ('{name}',{roll},{physics},{chemistry},{math},{nepali},{total},{per},'{grade}')\"\n",
    "    db.execute(sql)\n",
    "\n",
    "database.commit()\n",
    "print(db.rowcount, \"record inserted.\")"
   ]
  },
  {
   "cell_type": "code",
   "execution_count": null,
   "id": "b722945f",
   "metadata": {},
   "outputs": [],
   "source": []
  }
 ],
 "metadata": {
  "kernelspec": {
   "display_name": "Python 3",
   "language": "python",
   "name": "python3"
  },
  "language_info": {
   "codemirror_mode": {
    "name": "ipython",
    "version": 3
   },
   "file_extension": ".py",
   "mimetype": "text/x-python",
   "name": "python",
   "nbconvert_exporter": "python",
   "pygments_lexer": "ipython3",
   "version": "3.8.8"
  }
 },
 "nbformat": 4,
 "nbformat_minor": 5
}
