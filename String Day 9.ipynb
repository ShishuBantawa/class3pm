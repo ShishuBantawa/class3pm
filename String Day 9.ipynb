{
 "cells": [
  {
   "cell_type": "code",
   "execution_count": null,
   "id": "2e1dc645",
   "metadata": {},
   "outputs": [],
   "source": [
    "# string -- imutable datatype"
   ]
  },
  {
   "cell_type": "code",
   "execution_count": 1,
   "id": "9d55eb91",
   "metadata": {},
   "outputs": [
    {
     "name": "stdout",
     "output_type": "stream",
     "text": [
      "Hello World"
     ]
    }
   ],
   "source": [
    "a = \"Hello World\"\n",
    "for i in a:\n",
    "    print(i, end = \"\")"
   ]
  },
  {
   "cell_type": "code",
   "execution_count": 2,
   "id": "f2ec123b",
   "metadata": {},
   "outputs": [
    {
     "name": "stdout",
     "output_type": "stream",
     "text": [
      "Hello World"
     ]
    }
   ],
   "source": [
    "a = \"Hello World\"\n",
    "for i in range(len(a)):\n",
    "    print(a[i], end= \"\")"
   ]
  },
  {
   "cell_type": "code",
   "execution_count": 3,
   "id": "73d8d178",
   "metadata": {},
   "outputs": [
    {
     "name": "stdout",
     "output_type": "stream",
     "text": [
      "HelloWorld\n"
     ]
    }
   ],
   "source": [
    "a = \"Hello\"\n",
    "b = \"World\"\n",
    "c = a+b\n",
    "print(c)"
   ]
  },
  {
   "cell_type": "code",
   "execution_count": 5,
   "id": "3a72eb9b",
   "metadata": {},
   "outputs": [
    {
     "name": "stdout",
     "output_type": "stream",
     "text": [
      "Enter n = 2\n",
      "Enter name = Ram\n",
      "Enter phone = 333\n",
      "Enter name = Shyam\n",
      "Enter phone = 555\n",
      "Ram 333\n",
      "Shyam 555\n",
      "\n"
     ]
    }
   ],
   "source": [
    "info = \"\"\n",
    "n = int(input(\"Enter n = \"))\n",
    "for i in range(n):\n",
    "    name = input(\"Enter name = \")\n",
    "    phone = input(\"Enter phone = \")\n",
    "    s = name + \" \" + phone +'\\n'\n",
    "    info = info+s\n",
    "\n",
    "print(info)\n",
    "    "
   ]
  },
  {
   "cell_type": "code",
   "execution_count": 6,
   "id": "b54d39b6",
   "metadata": {},
   "outputs": [
    {
     "name": "stdout",
     "output_type": "stream",
     "text": [
      "Hello My name is Ram My phone no is 9856554455.\n"
     ]
    }
   ],
   "source": [
    "# string formatting\n",
    "name = \"Ram\"\n",
    "phone = 9856554455\n",
    "info = f\"Hello My name is {name} My phone no is {phone}.\"\n",
    "print(info)"
   ]
  },
  {
   "cell_type": "code",
   "execution_count": 7,
   "id": "6ecca9b8",
   "metadata": {},
   "outputs": [
    {
     "name": "stdout",
     "output_type": "stream",
     "text": [
      "Enter n = 2\n",
      "Enter name = Ram\n",
      "Enter phone = 444\n",
      "Enter name = Shyam\n",
      "Enter phone = 222\n",
      "Ram 444\n",
      "Shyam 222\n",
      "\n"
     ]
    }
   ],
   "source": [
    "# string formatting\n",
    "info = \"\"\n",
    "n = int(input(\"Enter n = \"))\n",
    "for i in range(n):\n",
    "    name = input(\"Enter name = \")\n",
    "    phone = input(\"Enter phone = \")\n",
    "    s = f\"{name} {phone}\\n\"\n",
    "    info = info+s\n",
    "\n",
    "print(info)\n",
    "    "
   ]
  },
  {
   "cell_type": "code",
   "execution_count": 10,
   "id": "60b3f9a5",
   "metadata": {},
   "outputs": [
    {
     "name": "stdout",
     "output_type": "stream",
     "text": [
      "Enter name = Ram\n",
      "Yes\n",
      "3\n"
     ]
    }
   ],
   "source": [
    "# search\n",
    "a = \"Ram Shyam Hari Sita Binita Bardan Ram Sita Gita Ram\"\n",
    "name = input(\"Enter name = \")\n",
    "if name in a:\n",
    "    print(\"Yes\")\n",
    "    print(a.count(\"Ram\"))\n",
    "else:\n",
    "    print(f\"Sorry there is no any {name}\")"
   ]
  },
  {
   "cell_type": "code",
   "execution_count": 11,
   "id": "73f52742",
   "metadata": {},
   "outputs": [
    {
     "name": "stdout",
     "output_type": "stream",
     "text": [
      "RAM SHYAM HARI SITA BINITA BARDAN RAM SITA GITA RAM\n",
      "ram shyam hari sita binita bardan ram sita gita ram\n",
      "Ram Shyam Hari Sita Binita Bardan Ram Sita Gita Ram\n"
     ]
    }
   ],
   "source": [
    "# upper, lower case\n",
    "a = \"Ram Shyam Hari Sita Binita Bardan Ram Sita Gita Ram\"\n",
    "print(a.upper())\n",
    "print(a.lower())\n",
    "print(a)"
   ]
  },
  {
   "cell_type": "code",
   "execution_count": 20,
   "id": "31472e62",
   "metadata": {},
   "outputs": [
    {
     "name": "stdout",
     "output_type": "stream",
     "text": [
      "Enter name = Ram\n",
      "Yes\n",
      "3\n"
     ]
    }
   ],
   "source": [
    "a = \"Ram Shyam Hari Sita Binita Bardan Ram Sita Gita Ram\"\n",
    "a_lower=a.lower()\n",
    "name = input(\"Enter name = \")\n",
    "name_lower = name.lower()\n",
    "if name_lower in a.lower():\n",
    "    print(\"Yes\")\n",
    "    print(a_lower.count(name_lower))\n",
    "else:\n",
    "    print(f\"Sorry there is no any {name_lower}\")"
   ]
  },
  {
   "cell_type": "code",
   "execution_count": 16,
   "id": "db116b81",
   "metadata": {},
   "outputs": [
    {
     "data": {
      "text/plain": [
       "True"
      ]
     },
     "execution_count": 16,
     "metadata": {},
     "output_type": "execute_result"
    }
   ],
   "source": [
    "a = \"Hello World\"\n",
    "a[0].isupper()"
   ]
  },
  {
   "cell_type": "code",
   "execution_count": 19,
   "id": "27e8052d",
   "metadata": {},
   "outputs": [
    {
     "data": {
      "text/plain": [
       "False"
      ]
     },
     "execution_count": 19,
     "metadata": {},
     "output_type": "execute_result"
    }
   ],
   "source": [
    "a = \"HELLO WORLd\"\n",
    "a.isupper()"
   ]
  },
  {
   "cell_type": "code",
   "execution_count": null,
   "id": "b60288bf",
   "metadata": {},
   "outputs": [],
   "source": [
    "# replace and update"
   ]
  },
  {
   "cell_type": "code",
   "execution_count": 22,
   "id": "3b449e7d",
   "metadata": {},
   "outputs": [
    {
     "name": "stdout",
     "output_type": "stream",
     "text": [
      "Ram Shyam Hari Sita Binita Bardan Ram Sita Gita Ram\n",
      "Rama Shyam Hari Sita Binita Bardan Rama Sita Gita Rama\n"
     ]
    }
   ],
   "source": [
    "a = \"Ram Shyam Hari Sita Binita Bardan Ram Sita Gita Ram\"\n",
    "print(a)\n",
    "a = a.replace(\"Ram\",\"Rama\")\n",
    "print(a)"
   ]
  },
  {
   "cell_type": "code",
   "execution_count": 23,
   "id": "fce4cb66",
   "metadata": {},
   "outputs": [
    {
     "name": "stdout",
     "output_type": "stream",
     "text": [
      "Enter name = Ram\n",
      "Enter replace name = Rama\n",
      "Rama Shyam Hari Sita Binita Bardan Rama Sita Gita Rama\n"
     ]
    }
   ],
   "source": [
    "a = \"Ram Shyam Hari Sita Binita Bardan Ram Sita Gita Ram\"\n",
    "name = input(\"Enter name = \")\n",
    "replace = input(\"Enter replace name = \")\n",
    "a = a.replace(name,replace)\n",
    "print(a)"
   ]
  },
  {
   "cell_type": "code",
   "execution_count": 25,
   "id": "8c320fbf",
   "metadata": {},
   "outputs": [
    {
     "data": {
      "text/plain": [
       "['Ram', 'Shyam', 'Hari', 'Sita', 'Binita', 'Bardan']"
      ]
     },
     "execution_count": 25,
     "metadata": {},
     "output_type": "execute_result"
    }
   ],
   "source": [
    "# list\n",
    "a = \"Ram Shyam Hari Sita Binita Bardan\"\n",
    "a.split()"
   ]
  },
  {
   "cell_type": "code",
   "execution_count": 26,
   "id": "886af848",
   "metadata": {},
   "outputs": [
    {
     "data": {
      "text/plain": [
       "['Ram', 'Shyam', 'Hari', 'Sita', 'Binita', 'Bardan']"
      ]
     },
     "execution_count": 26,
     "metadata": {},
     "output_type": "execute_result"
    }
   ],
   "source": [
    "a = \"Ram.Shyam.Hari.Sita.Binita.Bardan\"\n",
    "a.split('.')"
   ]
  },
  {
   "cell_type": "code",
   "execution_count": 27,
   "id": "ae6f8bbf",
   "metadata": {},
   "outputs": [
    {
     "name": "stdout",
     "output_type": "stream",
     "text": [
      "Enter name = Ram\n",
      " Shyam Hari Sita Binita Bardan  Sita Gita \n"
     ]
    }
   ],
   "source": [
    "a = \"Ram Shyam Hari Sita Binita Bardan Ram Sita Gita Ram\"\n",
    "name = input(\"Enter name = \")\n",
    "a = a.replace(name,'')\n",
    "print(a)"
   ]
  },
  {
   "cell_type": "code",
   "execution_count": 29,
   "id": "acd8fbe6",
   "metadata": {},
   "outputs": [
    {
     "name": "stdout",
     "output_type": "stream",
     "text": [
      "Enter n = 2\n",
      "Enter name = Ram\n",
      "Enter phone = 3333333\n",
      "Enter name = Shyam\n",
      "Enter phone = 555555\n",
      "Ram 3333333\n",
      "Shyam 555555\n",
      "\n"
     ]
    }
   ],
   "source": [
    "info = \"\"\n",
    "n = int(input(\"Enter n = \"))\n",
    "for i in range(n):\n",
    "    name = input(\"Enter name = \")\n",
    "    phone = input(\"Enter phone = \")\n",
    "    s = f\"{name} {phone}\\n\"\n",
    "    info = info+s\n",
    "\n",
    "print(info)\n",
    "    "
   ]
  },
  {
   "cell_type": "code",
   "execution_count": 33,
   "id": "795ddb38",
   "metadata": {},
   "outputs": [
    {
     "data": {
      "text/plain": [
       "['Ram 3333333', 'Shyam 555555', '']"
      ]
     },
     "execution_count": 33,
     "metadata": {},
     "output_type": "execute_result"
    }
   ],
   "source": [
    "z = info.split('\\n')\n",
    "z"
   ]
  },
  {
   "cell_type": "code",
   "execution_count": 34,
   "id": "03aee14a",
   "metadata": {},
   "outputs": [
    {
     "data": {
      "text/plain": [
       "'Ram 3333333'"
      ]
     },
     "execution_count": 34,
     "metadata": {},
     "output_type": "execute_result"
    }
   ],
   "source": [
    "z[0]"
   ]
  }
 ],
 "metadata": {
  "kernelspec": {
   "display_name": "Python 3",
   "language": "python",
   "name": "python3"
  },
  "language_info": {
   "codemirror_mode": {
    "name": "ipython",
    "version": 3
   },
   "file_extension": ".py",
   "mimetype": "text/x-python",
   "name": "python",
   "nbconvert_exporter": "python",
   "pygments_lexer": "ipython3",
   "version": "3.8.8"
  }
 },
 "nbformat": 4,
 "nbformat_minor": 5
}
