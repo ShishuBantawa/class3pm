{
 "cells": [
  {
   "cell_type": "code",
   "execution_count": null,
   "id": "c22615b6",
   "metadata": {},
   "outputs": [],
   "source": [
    "# Dictionary\n",
    "# a = {<key>:<value>,<key>:<value>}\n",
    "# Indexed\n",
    "# Ordered\n",
    "# Duplicate values but no index\n",
    "# Mutable"
   ]
  },
  {
   "cell_type": "code",
   "execution_count": 1,
   "id": "318d09db",
   "metadata": {},
   "outputs": [
    {
     "name": "stdout",
     "output_type": "stream",
     "text": [
      "{'a': 'Apple', 'b': 'Ball', 'c': 'Cat', 'd': 'Dog'}\n",
      "4\n"
     ]
    }
   ],
   "source": [
    "a = {'a':'Apple','b':'Ball','c':'Cat','d':'Dog'}\n",
    "print(a)\n",
    "print(len(a))"
   ]
  },
  {
   "cell_type": "code",
   "execution_count": 2,
   "id": "6fe1ff76",
   "metadata": {},
   "outputs": [
    {
     "name": "stdout",
     "output_type": "stream",
     "text": [
      "Cat\n"
     ]
    }
   ],
   "source": [
    "a = {'a':'Apple','b':'Ball','c':'Cat','d':'Dog'}\n",
    "print(a['c'])"
   ]
  },
  {
   "cell_type": "code",
   "execution_count": 3,
   "id": "b2a07d72",
   "metadata": {},
   "outputs": [
    {
     "name": "stdout",
     "output_type": "stream",
     "text": [
      "a\n",
      "b\n",
      "c\n",
      "d\n"
     ]
    }
   ],
   "source": [
    "a = {'a':'Apple','b':'Ball','c':'Cat','d':'Dog'}\n",
    "for i in a:\n",
    "    print(i)\n"
   ]
  },
  {
   "cell_type": "code",
   "execution_count": 5,
   "id": "af50c1ab",
   "metadata": {},
   "outputs": [
    {
     "name": "stdout",
     "output_type": "stream",
     "text": [
      "Apple\n",
      "Ball\n",
      "Cat\n",
      "Dog\n"
     ]
    }
   ],
   "source": [
    "a = {'a':'Apple','b':'Ball','c':'Cat','d':'Dog'}\n",
    "for i in a.values():\n",
    "    print(i)"
   ]
  },
  {
   "cell_type": "code",
   "execution_count": 6,
   "id": "0334c674",
   "metadata": {},
   "outputs": [
    {
     "name": "stdout",
     "output_type": "stream",
     "text": [
      "('a', 'Apple')\n",
      "('b', 'Ball')\n",
      "('c', 'Cat')\n",
      "('d', 'Dog')\n"
     ]
    }
   ],
   "source": [
    "a = {'a':'Apple','b':'Ball','c':'Cat','d':'Dog'}\n",
    "for i in a.items():\n",
    "    print(i)"
   ]
  },
  {
   "cell_type": "code",
   "execution_count": 8,
   "id": "3f69b94c",
   "metadata": {},
   "outputs": [
    {
     "name": "stdout",
     "output_type": "stream",
     "text": [
      "[('a', 'Apple'), ('b', 'Ball'), ('c', 'Cat'), ('d', 'Dog')]\n"
     ]
    }
   ],
   "source": [
    "b = []\n",
    "a = {'a':'Apple','b':'Ball','c':'Cat','d':'Dog'}\n",
    "for i in a.items():\n",
    "    b.append(i)\n",
    "\n",
    "print(b)"
   ]
  },
  {
   "cell_type": "code",
   "execution_count": 9,
   "id": "91a26744",
   "metadata": {},
   "outputs": [
    {
     "data": {
      "text/plain": [
       "{'a': 'Apple', 'b': 'Ball', 'c': 'Cat', 'd': 'Dog'}"
      ]
     },
     "execution_count": 9,
     "metadata": {},
     "output_type": "execute_result"
    }
   ],
   "source": [
    "dict(b)"
   ]
  },
  {
   "cell_type": "code",
   "execution_count": 10,
   "id": "ada582a9",
   "metadata": {},
   "outputs": [
    {
     "name": "stdout",
     "output_type": "stream",
     "text": [
      "{'a': 'Apple', 'b': 'Ball', 'c': 'Cattle'}\n",
      "<class 'dict'>\n"
     ]
    }
   ],
   "source": [
    "a = {'a':'Apple','b':'Ball','c':'Cat','c':'Cattle'}\n",
    "print(a)\n",
    "print(type(a))"
   ]
  },
  {
   "cell_type": "code",
   "execution_count": 11,
   "id": "225c742d",
   "metadata": {},
   "outputs": [
    {
     "name": "stdout",
     "output_type": "stream",
     "text": [
      "Enter n = 2\n",
      "Enter name = Ram\n",
      "Enter phone = 3333\n",
      "Enter name = Shyam\n",
      "Enter phone = 5555\n",
      "{'Ram': 3333, 'Shyam': 5555}\n"
     ]
    }
   ],
   "source": [
    "d = {}\n",
    "n = int(input(\"Enter n = \"))\n",
    "for i in range(n):\n",
    "    name = input(\"Enter name = \")\n",
    "    phone = int(input(\"Enter phone = \"))\n",
    "    d[name] = phone\n",
    "\n",
    "print(d)"
   ]
  },
  {
   "cell_type": "code",
   "execution_count": 12,
   "id": "2148d84c",
   "metadata": {},
   "outputs": [
    {
     "name": "stdout",
     "output_type": "stream",
     "text": [
      "{'Ram': 1111, 'Shyam': 2222, 'Hari': 3333}\n"
     ]
    }
   ],
   "source": [
    "a = {'Ram': 1111,'Shyam': 2222}\n",
    "b = {'Hari': 3333}\n",
    "a.update(b)\n",
    "print(a)"
   ]
  },
  {
   "cell_type": "code",
   "execution_count": 13,
   "id": "b1be904c",
   "metadata": {},
   "outputs": [
    {
     "name": "stdout",
     "output_type": "stream",
     "text": [
      "{'Shyam': 2222, 'Hari': 3333}\n"
     ]
    }
   ],
   "source": [
    "# del pop()\n",
    "a = {'Ram':1111,'Shyam':2222,'Hari':3333}\n",
    "del a['Ram']\n",
    "print(a)"
   ]
  },
  {
   "cell_type": "code",
   "execution_count": 14,
   "id": "263b575b",
   "metadata": {},
   "outputs": [
    {
     "name": "stdout",
     "output_type": "stream",
     "text": [
      "{'Shyam': 2222, 'Hari': 3333}\n",
      "1111\n"
     ]
    }
   ],
   "source": [
    "a = {'Ram':1111,'Shyam':2222,'Hari':3333}\n",
    "b = a.pop('Ram')\n",
    "print(a)\n",
    "print(b)\n"
   ]
  },
  {
   "cell_type": "code",
   "execution_count": 16,
   "id": "f10bb73d",
   "metadata": {},
   "outputs": [
    {
     "name": "stdout",
     "output_type": "stream",
     "text": [
      "1111\n"
     ]
    }
   ],
   "source": [
    "a = {1:1111,'Shyam':2222,'Hari':3333}\n",
    "print(a[1])"
   ]
  },
  {
   "cell_type": "code",
   "execution_count": 17,
   "id": "32a0a797",
   "metadata": {},
   "outputs": [
    {
     "ename": "TypeError",
     "evalue": "unhashable type: 'list'",
     "output_type": "error",
     "traceback": [
      "\u001b[1;31m---------------------------------------------------------------------------\u001b[0m",
      "\u001b[1;31mTypeError\u001b[0m                                 Traceback (most recent call last)",
      "\u001b[1;32m<ipython-input-17-4c1d9590af24>\u001b[0m in \u001b[0;36m<module>\u001b[1;34m\u001b[0m\n\u001b[1;32m----> 1\u001b[1;33m \u001b[0ma\u001b[0m \u001b[1;33m=\u001b[0m \u001b[1;33m{\u001b[0m\u001b[1;33m[\u001b[0m\u001b[1;34m'Sita'\u001b[0m\u001b[1;33m,\u001b[0m\u001b[1;34m'Gita'\u001b[0m\u001b[1;33m]\u001b[0m\u001b[1;33m:\u001b[0m\u001b[1;36m1111\u001b[0m\u001b[1;33m,\u001b[0m \u001b[1;34m'Shyam'\u001b[0m\u001b[1;33m:\u001b[0m\u001b[1;36m2222\u001b[0m\u001b[1;33m,\u001b[0m \u001b[1;34m'Hari'\u001b[0m\u001b[1;33m:\u001b[0m\u001b[1;36m3333\u001b[0m\u001b[1;33m}\u001b[0m\u001b[1;33m\u001b[0m\u001b[1;33m\u001b[0m\u001b[0m\n\u001b[0m\u001b[0;32m      2\u001b[0m \u001b[0mprint\u001b[0m\u001b[1;33m(\u001b[0m\u001b[0ma\u001b[0m\u001b[1;33m)\u001b[0m\u001b[1;33m\u001b[0m\u001b[1;33m\u001b[0m\u001b[0m\n",
      "\u001b[1;31mTypeError\u001b[0m: unhashable type: 'list'"
     ]
    }
   ],
   "source": [
    "# list can't be a key\n",
    "a = {['Sita','Gita']:1111, 'Shyam':2222, 'Hari':3333}\n",
    "print(a)"
   ]
  },
  {
   "cell_type": "code",
   "execution_count": 18,
   "id": "314a715b",
   "metadata": {},
   "outputs": [
    {
     "name": "stdout",
     "output_type": "stream",
     "text": [
      "{('Sita', 'Gita'): 1111, 'Shyam': 2222, 'Hari': 3333}\n"
     ]
    }
   ],
   "source": [
    "# tuple can be a key\n",
    "a = {('Sita','Gita'):1111, 'Shyam':2222, 'Hari':3333}\n",
    "print(a)"
   ]
  },
  {
   "cell_type": "code",
   "execution_count": 30,
   "id": "5a2b17f5",
   "metadata": {},
   "outputs": [
    {
     "name": "stdout",
     "output_type": "stream",
     "text": [
      "1111\n"
     ]
    }
   ],
   "source": [
    "a = {('Sita','Gita'):1111, 'Shyam':2222, 'Hari':3333}\n",
    "print(a[('Sita','Gita')])"
   ]
  },
  {
   "cell_type": "code",
   "execution_count": 25,
   "id": "f2e82fe3",
   "metadata": {},
   "outputs": [
    {
     "name": "stdout",
     "output_type": "stream",
     "text": [
      "{'Sita': [1111, 2222]}\n",
      "1111\n",
      "2222\n"
     ]
    }
   ],
   "source": [
    "# list inside dict\n",
    "a = {'Sita': [1111,2222]}\n",
    "b = {'Shyam': [3333,4444]}\n",
    "c = {'Hari':[5555,6666]}\n",
    "print(a)\n",
    "print(a['Sita'][0])\n",
    "print(a['Sita'][1])"
   ]
  },
  {
   "cell_type": "code",
   "execution_count": 31,
   "id": "dbafa5d0",
   "metadata": {},
   "outputs": [
    {
     "name": "stdout",
     "output_type": "stream",
     "text": [
      "{'Sita': [9856556543, 9856556543], 'Shyam': [9856554543, 9856554543], 'Hari': [9856556543, 9856554543]}\n"
     ]
    }
   ],
   "source": [
    "a = {'Sita': [9856556543, 9856556543], \n",
    " 'Shyam': [9856554543, 9856554543], \n",
    " 'Hari': [9856556543, 9856554543]}\n",
    "print(a)"
   ]
  },
  {
   "cell_type": "code",
   "execution_count": 32,
   "id": "30db0bdc",
   "metadata": {},
   "outputs": [
    {
     "name": "stdout",
     "output_type": "stream",
     "text": [
      "{'Sita': [9856556543, 9856556543], 'Shyam': [9856554543, 9856554543], 'Hari': [9856556543, 9856554543], 'Gita': [1111, 5555]}\n"
     ]
    }
   ],
   "source": [
    "a['Gita'] = [1111,5555]\n",
    "print(a)"
   ]
  },
  {
   "cell_type": "code",
   "execution_count": 28,
   "id": "ca3e111e",
   "metadata": {},
   "outputs": [
    {
     "name": "stdout",
     "output_type": "stream",
     "text": [
      "Enter n = 2\n",
      "Enter name = Ram\n",
      "Enter age = 34\n",
      "Enter add =KTM\n",
      "Enter name = Shyam\n",
      "Enter age = 44\n",
      "Enter add =Patan\n",
      "[{'Name': 'Ram', 'Age': 34, 'Address': 'KTM'}, {'Name': 'Shyam', 'Age': 44, 'Address': 'Patan'}]\n"
     ]
    }
   ],
   "source": [
    "# dict inside list\n",
    "d = dict()\n",
    "l = []\n",
    "n = int(input(\"Enter n = \"))\n",
    "for i in range(n):\n",
    "    name = input(\"Enter name = \")\n",
    "    age = int(input(\"Enter age = \"))\n",
    "    add = input(\"Enter add =\")\n",
    "    d = {\"Name\":name,\"Age\": age, \"Address\":add}\n",
    "    l.append(d)\n",
    "print(l)"
   ]
  },
  {
   "cell_type": "code",
   "execution_count": 33,
   "id": "8e1aa631",
   "metadata": {},
   "outputs": [
    {
     "name": "stdout",
     "output_type": "stream",
     "text": [
      "[[1, 1234], ['Shyam', 2345], ['Hari', 5432]]\n"
     ]
    }
   ],
   "source": [
    "# dict into list\n",
    "b = []\n",
    "a = {1: 1234, 'Shyam': 2345, 'Hari': 5432}\n",
    "for i in a.items():\n",
    "    x = list(i)\n",
    "    b.append(x)\n",
    "print(b)"
   ]
  },
  {
   "cell_type": "code",
   "execution_count": 34,
   "id": "043511cf",
   "metadata": {},
   "outputs": [
    {
     "data": {
      "text/plain": [
       "{'Nabin': 1234, 'Shyam': 2345, 'Hari': 5432}"
      ]
     },
     "execution_count": 34,
     "metadata": {},
     "output_type": "execute_result"
    }
   ],
   "source": [
    "# list into dict\n",
    "b[0][0] = 'Nabin'\n",
    "dict(b)"
   ]
  }
 ],
 "metadata": {
  "kernelspec": {
   "display_name": "Python 3",
   "language": "python",
   "name": "python3"
  },
  "language_info": {
   "codemirror_mode": {
    "name": "ipython",
    "version": 3
   },
   "file_extension": ".py",
   "mimetype": "text/x-python",
   "name": "python",
   "nbconvert_exporter": "python",
   "pygments_lexer": "ipython3",
   "version": "3.8.8"
  }
 },
 "nbformat": 4,
 "nbformat_minor": 5
}
