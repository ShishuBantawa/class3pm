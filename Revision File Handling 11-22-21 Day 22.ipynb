{
 "cells": [
  {
   "cell_type": "code",
   "execution_count": 1,
   "id": "3f315fe8",
   "metadata": {},
   "outputs": [
    {
     "name": "stdout",
     "output_type": "stream",
     "text": [
      "Enter line no = 1\n",
      "1. Hello World\n"
     ]
    }
   ],
   "source": [
    "f = open('data.txt','r')\n",
    "b = f.read()\n",
    "c = b.split('\\n')\n",
    "line_no = int(input(\"Enter line no = \"))\n",
    "print(c[line_no-1])\n",
    "f.close()"
   ]
  },
  {
   "cell_type": "code",
   "execution_count": 2,
   "id": "5004386f",
   "metadata": {},
   "outputs": [],
   "source": [
    "f = open('data.txt','a')\n",
    "b = f.write('\\nHello World\\n')\n",
    "f.close()"
   ]
  },
  {
   "cell_type": "code",
   "execution_count": 3,
   "id": "ea0329f2",
   "metadata": {},
   "outputs": [
    {
     "name": "stdout",
     "output_type": "stream",
     "text": [
      "Enter n = 2\n",
      "Enter product name = Apple\n",
      "Enter unit price = 3\n",
      "Enter quantity = 20\n",
      "Enter product name = Orange\n",
      "Enter unit price = 5\n",
      "Enter quantity = 30\n",
      "the billing is = \n",
      " Apple 3 20 60\n",
      "Orange 5 30 150\n",
      "\n",
      "the total price is =  210\n"
     ]
    }
   ],
   "source": [
    "info = \"\"\n",
    "add = 0\n",
    "n = int(input(\"Enter n = \"))\n",
    "for i in range(n):\n",
    "    name = input(\"Enter product name = \")\n",
    "    price = int((input(\"Enter unit price = \")))\n",
    "    quantity = int(input(\"Enter quantity = \"))\n",
    "    total = price*quantity\n",
    "    s = f\"{name} {price} {quantity} {total}\\n\"\n",
    "    info = info+s\n",
    "    add = add+total\n",
    "    \n",
    "print(\"the billing is = \\n\",info)\n",
    "print(\"the total price is = \",add)\n",
    "\n",
    "f = open('bill.txt','a')\n",
    "b = f.write(info)\n",
    "f.close()"
   ]
  },
  {
   "cell_type": "code",
   "execution_count": 4,
   "id": "b86f63e3",
   "metadata": {},
   "outputs": [
    {
     "name": "stdout",
     "output_type": "stream",
     "text": [
      "Enter n = 2\n",
      "Enter product name = Apple\n",
      "Enter unit price = 4\n",
      "Enter quantity = 10\n",
      "Enter product name = Orange\n",
      "Enter unit price = 5\n",
      "Enter quantity = 15\n",
      "the billing is = \n",
      " Apple,4,10,40\n",
      "Orange,5,15,75\n",
      "\n",
      "the total price is =  115\n"
     ]
    }
   ],
   "source": [
    "info = \"\"\n",
    "add = 0\n",
    "n = int(input(\"Enter n = \"))\n",
    "for i in range(n):\n",
    "    name = input(\"Enter product name = \")\n",
    "    price = int((input(\"Enter unit price = \")))\n",
    "    quantity = int(input(\"Enter quantity = \"))\n",
    "    total = price*quantity\n",
    "    s = f\"{name},{price},{quantity},{total}\\n\"\n",
    "    info = info+s\n",
    "    add = add+total\n",
    "    \n",
    "print(\"the billing is = \\n\",info)\n",
    "print(\"the total price is = \",add)\n",
    "\n",
    "f = open('bill.csv','w')\n",
    "b = f.write(info)\n",
    "f.close()"
   ]
  },
  {
   "cell_type": "code",
   "execution_count": 5,
   "id": "426674c3",
   "metadata": {},
   "outputs": [
    {
     "name": "stdout",
     "output_type": "stream",
     "text": [
      "Apple,4,10,40\n",
      "Orange,5,15,75\n",
      "\n"
     ]
    }
   ],
   "source": [
    "file = open('bill.csv')\n",
    "print(file.read())\n",
    "file.close()"
   ]
  },
  {
   "cell_type": "code",
   "execution_count": 6,
   "id": "7142cbfd",
   "metadata": {},
   "outputs": [
    {
     "data": {
      "text/html": [
       "<div>\n",
       "<style scoped>\n",
       "    .dataframe tbody tr th:only-of-type {\n",
       "        vertical-align: middle;\n",
       "    }\n",
       "\n",
       "    .dataframe tbody tr th {\n",
       "        vertical-align: top;\n",
       "    }\n",
       "\n",
       "    .dataframe thead th {\n",
       "        text-align: right;\n",
       "    }\n",
       "</style>\n",
       "<table border=\"1\" class=\"dataframe\">\n",
       "  <thead>\n",
       "    <tr style=\"text-align: right;\">\n",
       "      <th></th>\n",
       "      <th>Apple</th>\n",
       "      <th>4</th>\n",
       "      <th>10</th>\n",
       "      <th>40</th>\n",
       "    </tr>\n",
       "  </thead>\n",
       "  <tbody>\n",
       "    <tr>\n",
       "      <th>0</th>\n",
       "      <td>Orange</td>\n",
       "      <td>5</td>\n",
       "      <td>15</td>\n",
       "      <td>75</td>\n",
       "    </tr>\n",
       "  </tbody>\n",
       "</table>\n",
       "</div>"
      ],
      "text/plain": [
       "    Apple  4  10  40\n",
       "0  Orange  5  15  75"
      ]
     },
     "execution_count": 6,
     "metadata": {},
     "output_type": "execute_result"
    }
   ],
   "source": [
    "import pandas as pd\n",
    "df = pd.read_csv('bill.csv')\n",
    "df"
   ]
  },
  {
   "cell_type": "code",
   "execution_count": null,
   "id": "f7744b6c",
   "metadata": {},
   "outputs": [],
   "source": []
  }
 ],
 "metadata": {
  "kernelspec": {
   "display_name": "Python 3",
   "language": "python",
   "name": "python3"
  },
  "language_info": {
   "codemirror_mode": {
    "name": "ipython",
    "version": 3
   },
   "file_extension": ".py",
   "mimetype": "text/x-python",
   "name": "python",
   "nbconvert_exporter": "python",
   "pygments_lexer": "ipython3",
   "version": "3.8.8"
  }
 },
 "nbformat": 4,
 "nbformat_minor": 5
}
