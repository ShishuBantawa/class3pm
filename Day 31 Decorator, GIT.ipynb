{
 "cells": [
  {
   "cell_type": "code",
   "execution_count": 3,
   "id": "4fd206c8",
   "metadata": {},
   "outputs": [
    {
     "name": "stdout",
     "output_type": "stream",
     "text": [
      "100\n",
      "200\n"
     ]
    }
   ],
   "source": [
    "#Function Inside Function\n",
    "#Simplest example\n",
    "def calculation():\n",
    "    l = 20\n",
    "    b = 5\n",
    "    h = 2\n",
    "    def area():\n",
    "        a = l*b\n",
    "        print(a)\n",
    "    def volume():\n",
    "        v = l*b*h\n",
    "        print(v)\n",
    "    area()    #call function area()\n",
    "    volume()  #call function volume()\n",
    "    \n",
    "calculation() #call function calculation()"
   ]
  },
  {
   "cell_type": "code",
   "execution_count": 16,
   "id": "c57217ba",
   "metadata": {},
   "outputs": [
    {
     "name": "stdout",
     "output_type": "stream",
     "text": [
      "Hello World\n"
     ]
    }
   ],
   "source": [
    "#Function inside function\n",
    "#Medium example\n",
    "value = \"Hello World\"\n",
    "def outer_function(x):\n",
    "    \n",
    "    def inner_function():  #call\n",
    "        print(x)\n",
    "    return inner_function()  #return function\n",
    "\n",
    "outer_function(value)     #call "
   ]
  },
  {
   "cell_type": "code",
   "execution_count": 12,
   "id": "17c6fafd",
   "metadata": {},
   "outputs": [
    {
     "name": "stdout",
     "output_type": "stream",
     "text": [
      "Hello World\n"
     ]
    }
   ],
   "source": [
    "#Function inside function\n",
    "#Complex example\n",
    "def outer_function(fun):\n",
    "    \n",
    "    def inner_function():\n",
    "        x = fun()\n",
    "    return inner_function()  #return function\n",
    "\n",
    "@outer_function\n",
    "def hello():\n",
    "    print(\"Hello World\")\n",
    "    "
   ]
  },
  {
   "cell_type": "code",
   "execution_count": 14,
   "id": "56e9c050",
   "metadata": {},
   "outputs": [
    {
     "name": "stdout",
     "output_type": "stream",
     "text": [
      "hellow world\n"
     ]
    }
   ],
   "source": [
    "def strings(function):\n",
    "    def wrapper():\n",
    "        fun = function()\n",
    "        x = fun.lower()\n",
    "        return x\n",
    "    return wrapper\n",
    "\n",
    "@strings\n",
    "def info():\n",
    "    return 'Hellow World'\n",
    "\n",
    "print(info())"
   ]
  },
  {
   "cell_type": "code",
   "execution_count": 15,
   "id": "cc25df89",
   "metadata": {},
   "outputs": [
    {
     "name": "stdout",
     "output_type": "stream",
     "text": [
      "['hellow', 'world']\n"
     ]
    }
   ],
   "source": [
    "def strings(function):\n",
    "    def wrapper():\n",
    "        fun = function()\n",
    "        x = fun.lower()\n",
    "        return x\n",
    "    return wrapper\n",
    "\n",
    "def split_string(function):\n",
    "    def wrappe():\n",
    "        func = function()\n",
    "        splitted_string = func.split()\n",
    "        return splitted_string\n",
    "    return wrappe\n",
    "\n",
    "@split_string     #runs second\n",
    "@strings          #runs first\n",
    "def info():\n",
    "    return 'Hellow World'\n",
    "\n",
    "print(info())"
   ]
  },
  {
   "cell_type": "code",
   "execution_count": null,
   "id": "ed841dec",
   "metadata": {},
   "outputs": [],
   "source": []
  }
 ],
 "metadata": {
  "kernelspec": {
   "display_name": "Python 3",
   "language": "python",
   "name": "python3"
  },
  "language_info": {
   "codemirror_mode": {
    "name": "ipython",
    "version": 3
   },
   "file_extension": ".py",
   "mimetype": "text/x-python",
   "name": "python",
   "nbconvert_exporter": "python",
   "pygments_lexer": "ipython3",
   "version": "3.8.8"
  }
 },
 "nbformat": 4,
 "nbformat_minor": 5
}
