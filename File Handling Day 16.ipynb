{
 "cells": [
  {
   "cell_type": "code",
   "execution_count": null,
   "id": "721dbd92",
   "metadata": {},
   "outputs": [],
   "source": [
    "# 'r' - Read\n",
    "# 'a' - Append\n",
    "# 'w' - Write\n",
    "# 'x' - Create\n",
    "\n",
    "# b = open(<filename>,<mode>)"
   ]
  },
  {
   "cell_type": "code",
   "execution_count": 1,
   "id": "a8348ce2",
   "metadata": {},
   "outputs": [],
   "source": [
    "# create\n",
    "b = open('data.txt','x')\n",
    "b.close()"
   ]
  },
  {
   "cell_type": "code",
   "execution_count": 2,
   "id": "5a53e504",
   "metadata": {},
   "outputs": [
    {
     "name": "stdout",
     "output_type": "stream",
     "text": [
      "The file is already there\n"
     ]
    }
   ],
   "source": [
    "try:\n",
    "    b = open('data.txt','x')\n",
    "    b.close()\n",
    "except:\n",
    "    print(\"The file is already there\")"
   ]
  },
  {
   "cell_type": "code",
   "execution_count": 4,
   "id": "a0d18f5e",
   "metadata": {},
   "outputs": [
    {
     "name": "stdout",
     "output_type": "stream",
     "text": [
      "1.Hello World\n",
      "2.Hello World\n",
      "3.Hello World\n",
      "4.Hello World\n",
      "5.Hello World\n",
      "6.Hello World\n",
      "7.Hello World\n",
      "8.Hello World\n",
      "<class 'str'>\n"
     ]
    }
   ],
   "source": [
    "# read\n",
    "b = open('data.txt','r')\n",
    "c = b.read()\n",
    "print(c)\n",
    "print(type(c))\n",
    "b.close()"
   ]
  },
  {
   "cell_type": "code",
   "execution_count": 6,
   "id": "e334fdf3",
   "metadata": {},
   "outputs": [
    {
     "name": "stdout",
     "output_type": "stream",
     "text": [
      "1.Hello World\n",
      "\n",
      "2.Hello World\n",
      "\n"
     ]
    }
   ],
   "source": [
    "# readline\n",
    "b = open('data.txt','r')\n",
    "print(b.readline())\n",
    "print(b.readline())\n",
    "b.close()"
   ]
  },
  {
   "cell_type": "code",
   "execution_count": 8,
   "id": "7db7c90a",
   "metadata": {},
   "outputs": [
    {
     "name": "stdout",
     "output_type": "stream",
     "text": [
      "Enter n = 5\n",
      "5.Hello World\n",
      "\n"
     ]
    }
   ],
   "source": [
    "# read a particular line\n",
    "b = open('data.txt','r')\n",
    "n = int(input(\"Enter n = \"))\n",
    "for i in range(1,8):\n",
    "    if n != i:\n",
    "        b.readline()\n",
    "    else:\n",
    "        print(b.readline())\n",
    "b.close()"
   ]
  },
  {
   "cell_type": "code",
   "execution_count": 13,
   "id": "dacd0bad",
   "metadata": {},
   "outputs": [
    {
     "name": "stdout",
     "output_type": "stream",
     "text": [
      "Enter n = 2\n",
      "Enter name = Ram\n",
      "Enter phone = 1234456\n",
      "Enter name = Shyam\n",
      "Enter phone = 6788543\n",
      "Ram   1234456\n",
      "Shyam   6788543\n",
      "\n"
     ]
    }
   ],
   "source": [
    "info = \"\"\n",
    "n = int(input(\"Enter n = \"))\n",
    "for i in range(n):\n",
    "    name = input(\"Enter name = \")\n",
    "    phone = int(input(\"Enter phone = \"))\n",
    "    s = f\"{name}   {phone}\\n\"\n",
    "    info = info+s\n",
    "\n",
    "print(info)\n",
    "b = open('datas.txt','w')\n",
    "b.write(info)\n",
    "b.close()"
   ]
  },
  {
   "cell_type": "code",
   "execution_count": 14,
   "id": "37638c83",
   "metadata": {},
   "outputs": [
    {
     "name": "stdout",
     "output_type": "stream",
     "text": [
      "Enter n = 2\n",
      "Enter name = Apple\n",
      "Enter price = 200\n",
      "Enter quantity = 3\n",
      "Enter name = Banana\n",
      "Enter price = 150\n",
      "Enter quantity = 8\n",
      "Apple   200 3 600\n",
      "Banana   150 8 1200\n",
      "\n"
     ]
    }
   ],
   "source": [
    "info = \"\"\n",
    "n = int(input(\"Enter n = \"))\n",
    "for i in range(n):\n",
    "    name = input(\"Enter name = \")\n",
    "    price = int(input(\"Enter price = \"))\n",
    "    qty = int(input(\"Enter quantity = \"))\n",
    "    total = price*qty\n",
    "    s = f\"{name}   {price} {qty} {total}\\n\"\n",
    "    info = info+s\n",
    "\n",
    "print(info)\n",
    "b = open('datas2.txt','w')\n",
    "b.write(info)\n",
    "b.close()"
   ]
  },
  {
   "cell_type": "code",
   "execution_count": 17,
   "id": "3ff04d15",
   "metadata": {},
   "outputs": [
    {
     "name": "stdout",
     "output_type": "stream",
     "text": [
      "Enter n = 3\n",
      "Enter name = Ram\n",
      "Enter price = 500\n",
      "Enter quantity = 3\n",
      "Enter name = Shyam\n",
      "Enter price = 400\n",
      "Enter quantity = 5\n",
      "Enter name = Hari\n",
      "Enter price = 250\n",
      "Enter quantity = 7\n",
      "Ram,500,3,1500\n",
      "Shyam,400,5,2000\n",
      "Hari,250,7,1750\n",
      "\n"
     ]
    }
   ],
   "source": [
    "# csv = comma separted value\n",
    "# opens in xcel format in localhost folder\n",
    "info = \"\"\n",
    "n = int(input(\"Enter n = \"))\n",
    "for i in range(n):\n",
    "    name = input(\"Enter name = \")\n",
    "    price = int(input(\"Enter price = \"))\n",
    "    qty = int(input(\"Enter quantity = \"))\n",
    "    total = price*qty\n",
    "    s = f\"{name},{price},{qty},{total}\\n\"\n",
    "    info = info+s\n",
    "\n",
    "print(info)\n",
    "b = open('datas3.csv','w')\n",
    "b.write('Name,Price,Quantity,Total\\n')\n",
    "b.write(info)\n",
    "b.close()"
   ]
  },
  {
   "cell_type": "code",
   "execution_count": 18,
   "id": "b42e44a7",
   "metadata": {},
   "outputs": [
    {
     "name": "stdout",
     "output_type": "stream",
     "text": [
      "Enter n = 2\n",
      "Enter name = Sita\n",
      "Enter price = 350\n",
      "Enter quantity = 2\n",
      "Enter name = Gita\n",
      "Enter price = 600\n",
      "Enter quantity = 5\n"
     ]
    }
   ],
   "source": [
    "# CSV = comma separted value\n",
    "info = \"\"\n",
    "b = open('datas3.csv','a')\n",
    "b.write('Name,Price,Quantity,Total\\n')\n",
    "\n",
    "n = int(input(\"Enter n = \"))\n",
    "for i in range(n):\n",
    "    name = input(\"Enter name = \")\n",
    "    price = int(input(\"Enter price = \"))\n",
    "    qty = int(input(\"Enter quantity = \"))\n",
    "    total = price*qty\n",
    "    s = f\"{name},{price},{qty},{total}\\n\"\n",
    "    \n",
    "    b.write(s)\n",
    "b.close()"
   ]
  },
  {
   "cell_type": "code",
   "execution_count": 19,
   "id": "902d7366",
   "metadata": {},
   "outputs": [
    {
     "name": "stdout",
     "output_type": "stream",
     "text": [
      "Name,Price,Quantity,Total\n",
      "Ram,500,3,1500\n",
      "Shyam,400,5,2000\n",
      "Hari,250,7,1750\n",
      "Name,Price,Quantity,Total\n",
      "Sita,350,2,700\n",
      "Gita,600,5,3000\n",
      "\n",
      "['Name,Price,Quantity,Total', 'Ram,500,3,1500', 'Shyam,400,5,2000', 'Hari,250,7,1750', 'Name,Price,Quantity,Total', 'Sita,350,2,700', 'Gita,600,5,3000']\n"
     ]
    }
   ],
   "source": [
    "b = open('datas3.csv','r')\n",
    "c = b.read()\n",
    "print(c)\n",
    "\n",
    "b.close()\n",
    "d = c.split('\\n')[0:-1]\n",
    "print(d)"
   ]
  },
  {
   "cell_type": "code",
   "execution_count": 21,
   "id": "992e9d06",
   "metadata": {},
   "outputs": [
    {
     "data": {
      "text/plain": [
       "[['Name', 'Price', 'Quantity', 'Total'],\n",
       " ['Ram', '500', '3', '1500'],\n",
       " ['Shyam', '400', '5', '2000'],\n",
       " ['Hari', '250', '7', '1750'],\n",
       " ['Name', 'Price', 'Quantity', 'Total'],\n",
       " ['Sita', '350', '2', '700'],\n",
       " ['Gita', '600', '5', '3000']]"
      ]
     },
     "execution_count": 21,
     "metadata": {},
     "output_type": "execute_result"
    }
   ],
   "source": [
    "# pulling CSV data and putting in list\n",
    "final_data = []\n",
    "for i in d:\n",
    "    j = i.split(',')\n",
    "    final_data.append(j)\n",
    "\n",
    "final_data"
   ]
  },
  {
   "cell_type": "code",
   "execution_count": null,
   "id": "0ee61fc3",
   "metadata": {},
   "outputs": [],
   "source": [
    "# WAP result management\n",
    "# Billing application\n",
    "# Data entry application"
   ]
  }
 ],
 "metadata": {
  "kernelspec": {
   "display_name": "Python 3",
   "language": "python",
   "name": "python3"
  },
  "language_info": {
   "codemirror_mode": {
    "name": "ipython",
    "version": 3
   },
   "file_extension": ".py",
   "mimetype": "text/x-python",
   "name": "python",
   "nbconvert_exporter": "python",
   "pygments_lexer": "ipython3",
   "version": "3.8.8"
  }
 },
 "nbformat": 4,
 "nbformat_minor": 5
}
