{
 "cells": [
  {
   "cell_type": "code",
   "execution_count": 1,
   "id": "d8e94e48",
   "metadata": {},
   "outputs": [],
   "source": [
    "# list inside list\n",
    "import csv\n",
    "fields=[['Kamal',28,'Baluwatar'],['Nabin',34,'Patan'],['Abhishek',45,'Bara']]\n",
    "\n",
    "f = open('books.csv', 'a')\n",
    "x = csv.writer(f)\n",
    "for i in fields:\n",
    "    x.writerow(i)\n",
    "f.close()"
   ]
  },
  {
   "cell_type": "code",
   "execution_count": 13,
   "id": "4899e290",
   "metadata": {},
   "outputs": [
    {
     "name": "stdout",
     "output_type": "stream",
     "text": [
      "{'Name': 'Ram', 'Price': '500', 'Quantity': '3', 'Total': '1500'}\n",
      "{'Name': 'Shyam', 'Price': '400', 'Quantity': '5', 'Total': '2000'}\n",
      "{'Name': 'Hari', 'Price': '250', 'Quantity': '7', 'Total': '1750'}\n",
      "{'Name': 'Name', 'Price': 'Price', 'Quantity': 'Quantity', 'Total': 'Total'}\n",
      "{'Name': 'Sita', 'Price': '350', 'Quantity': '2', 'Total': '700'}\n",
      "{'Name': 'Gita', 'Price': '600', 'Quantity': '5', 'Total': '3000'}\n"
     ]
    }
   ],
   "source": [
    "# DictReader -- Dictionary reader\n",
    "import csv\n",
    "f = open('datas3.csv')\n",
    "reader = csv.DictReader(f)\n",
    "for row in reader:\n",
    "    print(row)\n",
    "    #print(dict(row))"
   ]
  },
  {
   "cell_type": "code",
   "execution_count": 8,
   "id": "fe9abc99",
   "metadata": {},
   "outputs": [
    {
     "data": {
      "text/plain": [
       "[{'Name': 'Ram', 'Price': '500', 'Quantity': '3', 'Total': '1500'},\n",
       " {'Name': 'Shyam', 'Price': '400', 'Quantity': '5', 'Total': '2000'},\n",
       " {'Name': 'Hari', 'Price': '250', 'Quantity': '7', 'Total': '1750'},\n",
       " {'Name': 'Name', 'Price': 'Price', 'Quantity': 'Quantity', 'Total': 'Total'},\n",
       " {'Name': 'Sita', 'Price': '350', 'Quantity': '2', 'Total': '700'},\n",
       " {'Name': 'Gita', 'Price': '600', 'Quantity': '5', 'Total': '3000'}]"
      ]
     },
     "execution_count": 8,
     "metadata": {},
     "output_type": "execute_result"
    }
   ],
   "source": [
    "# DictReader -- Dictionary reader\n",
    "# Dictionary inside List\n",
    "import csv\n",
    "data = []\n",
    "f = open('datas3.csv','r')\n",
    "reader = csv.DictReader(f)   # creating object\n",
    "for row in reader:\n",
    "    data.append(dict(row))\n",
    "\n",
    "data"
   ]
  },
  {
   "cell_type": "code",
   "execution_count": 14,
   "id": "e7067317",
   "metadata": {},
   "outputs": [],
   "source": [
    "# DictWriter\n",
    "# list inside dictionary\n",
    "import csv\n",
    "csv_columns = ['Name','Age','Address']\n",
    "dict = [{'Name':'Aayush','Age':23,'Address':'Kathmandu'},\n",
    "       {'Name':'Shyam','Age':33,'Address':'Patan'}]\n",
    "try:\n",
    "    with open(\"data3.csv\",'w') as csvfile:   # Or csvfile = open('data3.csv','w')\n",
    "        writer = csv.DictWriter(csvfile, fieldnames=csv_columns)  #object\n",
    "        \n",
    "        writer.writeheader()  # write header\n",
    "        for data in dict:     # write data\n",
    "            writer.writerow(data)\n",
    "except IOError:\n",
    "    print(\"I/O error\")"
   ]
  }
 ],
 "metadata": {
  "kernelspec": {
   "display_name": "Python 3",
   "language": "python",
   "name": "python3"
  },
  "language_info": {
   "codemirror_mode": {
    "name": "ipython",
    "version": 3
   },
   "file_extension": ".py",
   "mimetype": "text/x-python",
   "name": "python",
   "nbconvert_exporter": "python",
   "pygments_lexer": "ipython3",
   "version": "3.8.8"
  }
 },
 "nbformat": 4,
 "nbformat_minor": 5
}
