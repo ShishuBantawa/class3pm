{
 "cells": [
  {
   "cell_type": "code",
   "execution_count": null,
   "id": "114a13df",
   "metadata": {},
   "outputs": [],
   "source": [
    "# try:\n",
    "#     <operations>\n",
    "    \n",
    "# except:\n",
    "#     <operations>"
   ]
  },
  {
   "cell_type": "code",
   "execution_count": 1,
   "id": "0fbac32c",
   "metadata": {},
   "outputs": [
    {
     "name": "stdout",
     "output_type": "stream",
     "text": [
      "Enter a = asds\n",
      "a should be int value\n"
     ]
    }
   ],
   "source": [
    "try:\n",
    "    a = int(input(\"Enter a = \"))\n",
    "except:\n",
    "    print(\"a should be int value\")"
   ]
  },
  {
   "cell_type": "code",
   "execution_count": 3,
   "id": "cc853003",
   "metadata": {},
   "outputs": [
    {
     "name": "stdout",
     "output_type": "stream",
     "text": [
      "Enter a = 10\n",
      "Enter b = 0\n",
      "Error\n"
     ]
    }
   ],
   "source": [
    "try:\n",
    "    a = int(input(\"Enter a = \"))\n",
    "    b = int(input(\"Enter b = \"))\n",
    "    c = a/b\n",
    "    print(c)\n",
    "except:\n",
    "    print(\"Error\")"
   ]
  },
  {
   "cell_type": "code",
   "execution_count": 5,
   "id": "ece51de3",
   "metadata": {},
   "outputs": [
    {
     "name": "stdout",
     "output_type": "stream",
     "text": [
      "Enter a = 10\n",
      "Enter b = 0\n",
      "Value of b can not be zero\n"
     ]
    }
   ],
   "source": [
    "# ValueError, ZeroDivisionError\n",
    "try:\n",
    "    a = int(input(\"Enter a = \"))\n",
    "    b = int(input(\"Enter b = \"))\n",
    "    c = a/b\n",
    "    print(c)\n",
    "\n",
    "except ValueError:\n",
    "    print(\"Value of a and b should be int\")\n",
    "\n",
    "except ZeroDivisionError:\n",
    "    print(\"Value of b can not be zero\")"
   ]
  },
  {
   "cell_type": "code",
   "execution_count": 1,
   "id": "b4169c3f",
   "metadata": {},
   "outputs": [
    {
     "name": "stdout",
     "output_type": "stream",
     "text": [
      "Enter a = adfds\n",
      "Value of a and b should be int\n",
      "Enter a = 10\n",
      "Enter b = 0\n",
      "Value of b can not be zero\n",
      "Enter a = 10\n",
      "Enter b = 2\n",
      "5.0\n"
     ]
    }
   ],
   "source": [
    "# Making the program recursive\n",
    "def cal():\n",
    "    try:\n",
    "        a = int(input(\"Enter a = \"))\n",
    "        b = int(input(\"Enter b = \"))\n",
    "        c = a/b\n",
    "        print(c)\n",
    "\n",
    "    except ValueError:\n",
    "        print(\"Value of a and b should be int\")\n",
    "        cal()\n",
    "\n",
    "    except ZeroDivisionError:\n",
    "        print(\"Value of b can not be zero\")\n",
    "        cal()\n",
    "\n",
    "cal()"
   ]
  },
  {
   "cell_type": "code",
   "execution_count": 3,
   "id": "8caf8fe6",
   "metadata": {},
   "outputs": [
    {
     "name": "stdout",
     "output_type": "stream",
     "text": [
      "Enter a = 10\n",
      "Enter b = 2\n",
      "Syntax Error\n"
     ]
    }
   ],
   "source": [
    "# NameError\n",
    "def cal():\n",
    "    try:\n",
    "        a = int(input(\"Enter a = \"))\n",
    "        b = int(input(\"Enter b = \"))\n",
    "        c = a/b\n",
    "        prin(c)     # spelling error\n",
    "\n",
    "    except ValueError:\n",
    "        print(\"Value of a and b should be int\")\n",
    "        cal()\n",
    "\n",
    "    except ZeroDivisionError:\n",
    "        print(\"Value of b can not be zero\")\n",
    "        cal()\n",
    "        \n",
    "    except NameError:\n",
    "        print(\"Syntax Error\")\n",
    "\n",
    "cal()"
   ]
  },
  {
   "cell_type": "code",
   "execution_count": 4,
   "id": "3cd303cb",
   "metadata": {},
   "outputs": [
    {
     "name": "stdout",
     "output_type": "stream",
     "text": [
      "Enter a = 10\n",
      "Enter b = 2\n",
      "5.0\n"
     ]
    }
   ],
   "source": [
    "# Try, except, else \n",
    "\n",
    "def cal():\n",
    "    try:\n",
    "        a = int(input(\"Enter a = \"))\n",
    "        b = int(input(\"Enter b = \"))\n",
    "        c = a/b\n",
    "\n",
    "    except ValueError:\n",
    "        print(\"Value of a and b should be int\")\n",
    "        cal()\n",
    "\n",
    "    except ZeroDivisionError:\n",
    "        print(\"Value of b can not be zero\")\n",
    "        cal()\n",
    "    \n",
    "    else:\n",
    "        print(c)\n",
    "\n",
    "cal()"
   ]
  },
  {
   "cell_type": "code",
   "execution_count": 6,
   "id": "54bddcb4",
   "metadata": {},
   "outputs": [
    {
     "name": "stdout",
     "output_type": "stream",
     "text": [
      "Enter a = 10\n",
      "Enter b = 0\n",
      "Value of b can not be zero\n",
      "Enter a = 10\n",
      "Enter b = 2\n",
      "5.0\n",
      "This is finally block\n",
      "This is finally block\n"
     ]
    }
   ],
   "source": [
    "# Try, except, else, finally\n",
    "\n",
    "def cal():\n",
    "    try:\n",
    "        a = int(input(\"Enter a = \"))\n",
    "        b = int(input(\"Enter b = \"))\n",
    "        c = a/b\n",
    "\n",
    "    except ValueError:\n",
    "        print(\"Value of a and b should be int\")\n",
    "        cal()\n",
    "\n",
    "    except ZeroDivisionError:\n",
    "        print(\"Value of b can not be zero\")\n",
    "        cal()\n",
    "        \n",
    "    except NameError:\n",
    "        print(\"Syntax Error\")\n",
    "        \n",
    "    else:\n",
    "        print(c)\n",
    "        \n",
    "    finally:\n",
    "        print(\"This is finally block\")\n",
    "\n",
    "cal()"
   ]
  },
  {
   "cell_type": "code",
   "execution_count": 8,
   "id": "47348398",
   "metadata": {},
   "outputs": [
    {
     "ename": "NameError",
     "evalue": "name 'zeroDivisionError' is not defined",
     "output_type": "error",
     "traceback": [
      "\u001b[1;31m---------------------------------------------------------------------------\u001b[0m",
      "\u001b[1;31mNameError\u001b[0m                                 Traceback (most recent call last)",
      "\u001b[1;32m<ipython-input-8-a6fc933a3bf6>\u001b[0m in \u001b[0;36m<module>\u001b[1;34m\u001b[0m\n\u001b[0;32m      1\u001b[0m \u001b[1;31m# raise statement\u001b[0m\u001b[1;33m\u001b[0m\u001b[1;33m\u001b[0m\u001b[1;33m\u001b[0m\u001b[0m\n\u001b[1;32m----> 2\u001b[1;33m \u001b[1;32mraise\u001b[0m \u001b[0mzeroDivisionError\u001b[0m\u001b[1;33m\u001b[0m\u001b[1;33m\u001b[0m\u001b[0m\n\u001b[0m",
      "\u001b[1;31mNameError\u001b[0m: name 'zeroDivisionError' is not defined"
     ]
    }
   ],
   "source": [
    "# raise statement\n",
    "raise zeroDivisionError"
   ]
  },
  {
   "cell_type": "code",
   "execution_count": 21,
   "id": "f076f636",
   "metadata": {},
   "outputs": [
    {
     "name": "stdout",
     "output_type": "stream",
     "text": [
      "Enter a?10\n",
      "Enter b?2\n",
      "a/b =  5.0\n"
     ]
    }
   ],
   "source": [
    "try:\n",
    "    a = int(input(\"Enter a?\"))\n",
    "    b = int(input(\"Enter b?\"))\n",
    "    if b==1:\n",
    "        raise ZeroDivisionError\n",
    "    else:\n",
    "        print(\"a/b = \",a/b)\n",
    "except ZeroDivisionError:\n",
    "    print(\"The value of b can't be 0\")"
   ]
  },
  {
   "cell_type": "code",
   "execution_count": 10,
   "id": "2a4651b6",
   "metadata": {},
   "outputs": [
    {
     "ename": "AssertionError",
     "evalue": "",
     "output_type": "error",
     "traceback": [
      "\u001b[1;31m---------------------------------------------------------------------------\u001b[0m",
      "\u001b[1;31mAssertionError\u001b[0m                            Traceback (most recent call last)",
      "\u001b[1;32m<ipython-input-10-3795e08c87cb>\u001b[0m in \u001b[0;36m<module>\u001b[1;34m\u001b[0m\n\u001b[0;32m      2\u001b[0m \u001b[0ma\u001b[0m \u001b[1;33m=\u001b[0m \u001b[1;36m10\u001b[0m\u001b[1;33m\u001b[0m\u001b[1;33m\u001b[0m\u001b[0m\n\u001b[0;32m      3\u001b[0m \u001b[0mb\u001b[0m \u001b[1;33m=\u001b[0m \u001b[1;36m8\u001b[0m\u001b[1;33m\u001b[0m\u001b[1;33m\u001b[0m\u001b[0m\n\u001b[1;32m----> 4\u001b[1;33m \u001b[1;32massert\u001b[0m \u001b[0ma\u001b[0m\u001b[1;33m<\u001b[0m\u001b[0mb\u001b[0m\u001b[1;33m\u001b[0m\u001b[1;33m\u001b[0m\u001b[0m\n\u001b[0m",
      "\u001b[1;31mAssertionError\u001b[0m: "
     ]
    }
   ],
   "source": [
    "# assert\n",
    "a = 10\n",
    "b = 8\n",
    "assert a<b"
   ]
  },
  {
   "cell_type": "code",
   "execution_count": 19,
   "id": "665ec3a5",
   "metadata": {},
   "outputs": [],
   "source": [
    "a = 10\n",
    "b = 2\n",
    "try:\n",
    "    assert a>b\n",
    "    \n",
    "except:\n",
    "    print(\"The value of a should be always greater\")"
   ]
  },
  {
   "cell_type": "code",
   "execution_count": 17,
   "id": "7ad981af",
   "metadata": {},
   "outputs": [
    {
     "name": "stdout",
     "output_type": "stream",
     "text": [
      "Enter a = 3\n",
      "Enter b = 4\n",
      "a is greater.\n"
     ]
    }
   ],
   "source": [
    "a = int(input(\"Enter a = \"))\n",
    "b = int(input(\"Enter b = \"))\n",
    "try:\n",
    "    assert a>b\n",
    "    print(\"a is greater.\")\n",
    "    \n",
    "except AssertionError:\n",
    "    print(\"The value of a should be always greater\")"
   ]
  }
 ],
 "metadata": {
  "kernelspec": {
   "display_name": "Python 3",
   "language": "python",
   "name": "python3"
  },
  "language_info": {
   "codemirror_mode": {
    "name": "ipython",
    "version": 3
   },
   "file_extension": ".py",
   "mimetype": "text/x-python",
   "name": "python",
   "nbconvert_exporter": "python",
   "pygments_lexer": "ipython3",
   "version": "3.8.8"
  }
 },
 "nbformat": 4,
 "nbformat_minor": 5
}
