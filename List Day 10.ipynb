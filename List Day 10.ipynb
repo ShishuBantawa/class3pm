{
 "cells": [
  {
   "cell_type": "code",
   "execution_count": null,
   "id": "f10b0b59",
   "metadata": {},
   "outputs": [],
   "source": [
    "# Python collection:\n",
    "# List\n",
    "# Tuple\n",
    "# Set\n",
    "# Dictionary"
   ]
  },
  {
   "cell_type": "code",
   "execution_count": null,
   "id": "2ccf11bc",
   "metadata": {},
   "outputs": [],
   "source": [
    "# List\n",
    "# -Indexing\n",
    "# -Duplicate values\n",
    "# -Ordered\n",
    "# -Mutable"
   ]
  },
  {
   "cell_type": "code",
   "execution_count": null,
   "id": "fc5718f6",
   "metadata": {},
   "outputs": [],
   "source": [
    "# a = []\n",
    "# b = list()"
   ]
  },
  {
   "cell_type": "code",
   "execution_count": 2,
   "id": "f44c7d56",
   "metadata": {},
   "outputs": [
    {
     "name": "stdout",
     "output_type": "stream",
     "text": [
      "['Apple', 'Ball', 'Cat', 'Dog']\n",
      "[1, 2, 3, 4, 5, 6]\n",
      "<class 'list'>\n",
      "<class 'list'>\n"
     ]
    }
   ],
   "source": [
    "a = [\"Apple\",\"Ball\",\"Cat\",\"Dog\"]\n",
    "b = [1,2,3,4,5,6]\n",
    "print(a)\n",
    "print(b)\n",
    "print(type(a))\n",
    "print(type(b))"
   ]
  },
  {
   "cell_type": "code",
   "execution_count": 5,
   "id": "0b4b5328",
   "metadata": {},
   "outputs": [
    {
     "name": "stdout",
     "output_type": "stream",
     "text": [
      "Dog\n",
      "4\n"
     ]
    }
   ],
   "source": [
    "a = [\"Apple\",\"Ball\",\"Cat\",\"Dog\"]\n",
    "print(a[3])\n",
    "print(len(a))\n"
   ]
  },
  {
   "cell_type": "code",
   "execution_count": 8,
   "id": "543cbddc",
   "metadata": {},
   "outputs": [
    {
     "name": "stdout",
     "output_type": "stream",
     "text": [
      "['Apple', 'Ball', 'Cat']\n",
      "['Apple', 'Cat', 1, 3, 5, 7, 9]\n"
     ]
    }
   ],
   "source": [
    "a = [\"Apple\",\"Ball\",\"Cat\",\"Dog\",1,2,3,4,5,6,7,8,9]\n",
    "print(a[0:3])\n",
    "print(a[0:15:2])"
   ]
  },
  {
   "cell_type": "code",
   "execution_count": 10,
   "id": "f588b9cf",
   "metadata": {},
   "outputs": [
    {
     "name": "stdout",
     "output_type": "stream",
     "text": [
      "['Apple', 'Ball', 'Cat', 'Dog', 1, 2, 3, 4, 5, 6]\n",
      "['Apple', 'Ball', 'Cat', 'Dog', 'Apple', 'Ball', 'Cat', 'Dog']\n"
     ]
    }
   ],
   "source": [
    "a = [\"Apple\",\"Ball\",\"Cat\",\"Dog\"]\n",
    "b = [1,2,3,4,5,6]\n",
    "c = a+b\n",
    "print(c)\n",
    "print(a*2)"
   ]
  },
  {
   "cell_type": "code",
   "execution_count": 11,
   "id": "f1c6d1e5",
   "metadata": {},
   "outputs": [
    {
     "name": "stdout",
     "output_type": "stream",
     "text": [
      "['Ant', 'Ball', 'Cat', 'Dog']\n"
     ]
    }
   ],
   "source": [
    "# Mutable \n",
    "a = [\"Apple\",\"Ball\",\"Cat\",\"Dog\"]\n",
    "a[0] = 'Ant'\n",
    "print(a)"
   ]
  },
  {
   "cell_type": "code",
   "execution_count": 13,
   "id": "c566295f",
   "metadata": {},
   "outputs": [
    {
     "name": "stdout",
     "output_type": "stream",
     "text": [
      "Enter n = 3\n",
      "Enter name = Ram\n",
      "Enter name = Shyam \n",
      "Enter name = Hari\n",
      "['Ram', 'Shyam ', 'Hari']\n"
     ]
    }
   ],
   "source": [
    "# WAP to make a list\n",
    "a = []\n",
    "n = int(input(\"Enter n = \"))\n",
    "for i in range(n):\n",
    "    name = input(\"Enter name = \")\n",
    "    a = a+[name]       # convert name str to name list to concat\n",
    "    \n",
    "print(a)"
   ]
  },
  {
   "cell_type": "code",
   "execution_count": 12,
   "id": "b4c75931",
   "metadata": {},
   "outputs": [
    {
     "data": {
      "text/plain": [
       "['Ram', 'Sita']"
      ]
     },
     "execution_count": 12,
     "metadata": {},
     "output_type": "execute_result"
    }
   ],
   "source": [
    "a = []\n",
    "b = [\"Ram\"]\n",
    "c = [\"Sita\"]\n",
    "a+b+c"
   ]
  },
  {
   "cell_type": "code",
   "execution_count": 14,
   "id": "ab9dcc88",
   "metadata": {},
   "outputs": [
    {
     "name": "stdout",
     "output_type": "stream",
     "text": [
      "Ant\n",
      "Ball\n",
      "Cat\n",
      "Dog\n"
     ]
    }
   ],
   "source": [
    "a = ['Ant','Ball','Cat','Dog']\n",
    "for i in a:\n",
    "    print(i)"
   ]
  },
  {
   "cell_type": "code",
   "execution_count": 17,
   "id": "e80ee446",
   "metadata": {},
   "outputs": [
    {
     "name": "stdout",
     "output_type": "stream",
     "text": [
      "0 Ant\n",
      "1 Ball\n",
      "2 Cat\n",
      "3 Dog\n"
     ]
    }
   ],
   "source": [
    "a = ['Ant','Ball','Cat','Dog']\n",
    "for i in range(len(a)):\n",
    "    print(i,a[i])"
   ]
  },
  {
   "cell_type": "code",
   "execution_count": 18,
   "id": "301ed76f",
   "metadata": {},
   "outputs": [
    {
     "name": "stdout",
     "output_type": "stream",
     "text": [
      "Ant\n",
      "Cat\n",
      "Dog\n"
     ]
    }
   ],
   "source": [
    "a = ['Ant','Ball','Cat','Dog']\n",
    "for i in a:\n",
    "    if i == 'Ball':\n",
    "        continue\n",
    "    print(i)"
   ]
  },
  {
   "cell_type": "code",
   "execution_count": 19,
   "id": "d28f2c02",
   "metadata": {},
   "outputs": [
    {
     "name": "stdout",
     "output_type": "stream",
     "text": [
      "Ant\n"
     ]
    }
   ],
   "source": [
    "a = ['Ant','Ball','Cat','Dog']\n",
    "for i in a:\n",
    "    if i == 'Ball':\n",
    "        break\n",
    "    print(i)"
   ]
  },
  {
   "cell_type": "code",
   "execution_count": 21,
   "id": "f1492b79",
   "metadata": {},
   "outputs": [
    {
     "name": "stdout",
     "output_type": "stream",
     "text": [
      "Enter n = 5\n",
      "Enter name = Ram\n",
      "Enter name = Shyam\n",
      "Enter name = Hari\n",
      "Enter name = Shiva\n",
      "Enter name = Krishna\n",
      "['Ram', 'Shyam', 'Hari', 'Shiva', 'Krishna']\n"
     ]
    },
    {
     "data": {
      "text/plain": [
       "str"
      ]
     },
     "execution_count": 21,
     "metadata": {},
     "output_type": "execute_result"
    }
   ],
   "source": [
    "# WAP to make a list\n",
    "a = []\n",
    "n = int(input(\"Enter n = \"))\n",
    "for i in range(n):\n",
    "    name = input(\"Enter name = \")\n",
    "    a = a+[name]       # convert name str to name list to concat\n",
    "    \n",
    "print(a)\n",
    "type(a[0])"
   ]
  },
  {
   "cell_type": "code",
   "execution_count": 22,
   "id": "f18d1060",
   "metadata": {},
   "outputs": [
    {
     "name": "stdout",
     "output_type": "stream",
     "text": [
      "['Akash', 'Hari', 'Nabin', 'Ram', 'Shyam']\n"
     ]
    }
   ],
   "source": [
    "a = ['Ram','Shyam','Hari','Akash','Nabin']\n",
    "a.sort()    #alphabetically \n",
    "print(a)"
   ]
  },
  {
   "cell_type": "code",
   "execution_count": 1,
   "id": "a4994105",
   "metadata": {},
   "outputs": [
    {
     "name": "stdout",
     "output_type": "stream",
     "text": [
      "Enter n = 5\n",
      "Enter name = 111\n",
      "Enter name = 222\n",
      "Enter name = 333\n",
      "Enter name = 444\n",
      "Enter name = 555\n",
      "[111, 222, 333, 444, 555]\n"
     ]
    },
    {
     "data": {
      "text/plain": [
       "int"
      ]
     },
     "execution_count": 1,
     "metadata": {},
     "output_type": "execute_result"
    }
   ],
   "source": [
    "# WAP to make a list\n",
    "a = []\n",
    "n = int(input(\"Enter n = \"))\n",
    "for i in range(n):\n",
    "    name = int(input(\"Enter name = \"))\n",
    "    a = a+[name]       \n",
    "    \n",
    "print(a)\n",
    "type(a[0])"
   ]
  },
  {
   "cell_type": "code",
   "execution_count": 4,
   "id": "58ebd03f",
   "metadata": {},
   "outputs": [
    {
     "name": "stdout",
     "output_type": "stream",
     "text": [
      "The sum is 1665\n",
      "The max value is 555\n",
      "the min value is 111\n"
     ]
    }
   ],
   "source": [
    "print('The sum is',sum(a))\n",
    "print('The max value is',max(a))\n",
    "print('the min value is',min(a))"
   ]
  },
  {
   "cell_type": "code",
   "execution_count": 5,
   "id": "8736991b",
   "metadata": {},
   "outputs": [
    {
     "name": "stdout",
     "output_type": "stream",
     "text": [
      "[111, 222, 333, 444, 555]\n",
      "[555, 444, 333, 222, 111]\n"
     ]
    }
   ],
   "source": [
    "print(a)\n",
    "a.reverse()\n",
    "print(a)"
   ]
  },
  {
   "cell_type": "code",
   "execution_count": 6,
   "id": "ca2cdba9",
   "metadata": {},
   "outputs": [
    {
     "name": "stdout",
     "output_type": "stream",
     "text": [
      "Yes 1\n"
     ]
    }
   ],
   "source": [
    "a = ['Ram','Shyam','Hari','Akash','Nabin']\n",
    "if 'Hari' in a:\n",
    "    print(\"Yes\",a.count('Hari'))"
   ]
  },
  {
   "cell_type": "code",
   "execution_count": null,
   "id": "43ff2221",
   "metadata": {},
   "outputs": [],
   "source": []
  }
 ],
 "metadata": {
  "kernelspec": {
   "display_name": "Python 3",
   "language": "python",
   "name": "python3"
  },
  "language_info": {
   "codemirror_mode": {
    "name": "ipython",
    "version": 3
   },
   "file_extension": ".py",
   "mimetype": "text/x-python",
   "name": "python",
   "nbconvert_exporter": "python",
   "pygments_lexer": "ipython3",
   "version": "3.8.8"
  }
 },
 "nbformat": 4,
 "nbformat_minor": 5
}
